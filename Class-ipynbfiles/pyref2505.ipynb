{
 "cells": [
  {
   "cell_type": "code",
   "execution_count": 1,
   "id": "3d875b3a-9148-4121-a73d-50215e7d34f7",
   "metadata": {},
   "outputs": [],
   "source": [
    "x = 'welcome'"
   ]
  },
  {
   "cell_type": "code",
   "execution_count": 2,
   "id": "1d0e6e7a-ce49-4bf4-9f33-02cda2851d91",
   "metadata": {},
   "outputs": [
    {
     "data": {
      "text/plain": [
       "'welcome'"
      ]
     },
     "execution_count": 2,
     "metadata": {},
     "output_type": "execute_result"
    }
   ],
   "source": [
    "x"
   ]
  },
  {
   "cell_type": "code",
   "execution_count": 9,
   "id": "6f8dd2d7-4d0c-4e35-ad10-563e6b525e9d",
   "metadata": {},
   "outputs": [
    {
     "name": "stdout",
     "output_type": "stream",
     "text": [
      "yes\n"
     ]
    }
   ],
   "source": [
    "if x == 'welcome':\n",
    "    print('yes')\n",
    "elif x == 'winter':\n",
    "    print(x)\n",
    "else:\n",
    "    print('nothing')"
   ]
  },
  {
   "cell_type": "code",
   "execution_count": 12,
   "id": "d11c9d1f-bc2b-4425-af69-4fdbf6391269",
   "metadata": {},
   "outputs": [
    {
     "name": "stdin",
     "output_type": "stream",
     "text": [
      "input a number 10\n"
     ]
    }
   ],
   "source": [
    "x = input('input a number')"
   ]
  },
  {
   "cell_type": "code",
   "execution_count": 13,
   "id": "5c5587b2-fc8e-443f-93fc-0a4fa730d092",
   "metadata": {},
   "outputs": [
    {
     "data": {
      "text/plain": [
       "'10'"
      ]
     },
     "execution_count": 13,
     "metadata": {},
     "output_type": "execute_result"
    }
   ],
   "source": [
    "x"
   ]
  },
  {
   "cell_type": "code",
   "execution_count": 27,
   "id": "354ffc73-dd88-44a0-86b7-158f185fbdf1",
   "metadata": {},
   "outputs": [
    {
     "name": "stdin",
     "output_type": "stream",
     "text": [
      "pass a number 23\n"
     ]
    }
   ],
   "source": [
    "x = int(input('pass a number'))"
   ]
  },
  {
   "cell_type": "code",
   "execution_count": 28,
   "id": "a3e1b2a7-4145-417b-a09d-9e1b500c4eb0",
   "metadata": {},
   "outputs": [
    {
     "data": {
      "text/plain": [
       "23"
      ]
     },
     "execution_count": 28,
     "metadata": {},
     "output_type": "execute_result"
    }
   ],
   "source": [
    "x"
   ]
  },
  {
   "cell_type": "code",
   "execution_count": 18,
   "id": "f3fc9930-2fc5-4ff6-a48a-65a4b7ece997",
   "metadata": {},
   "outputs": [
    {
     "data": {
      "text/plain": [
       "12"
      ]
     },
     "execution_count": 18,
     "metadata": {},
     "output_type": "execute_result"
    }
   ],
   "source": [
    "x+2"
   ]
  },
  {
   "cell_type": "code",
   "execution_count": 30,
   "id": "928db417-5a9f-43b0-9c21-969352c9eb09",
   "metadata": {},
   "outputs": [],
   "source": [
    "if x>=10:\n",
    "    if x/2 == 0:\n",
    "        print('num is ev')\n",
    "else:\n",
    "    print('you shud choose a grter number')"
   ]
  },
  {
   "cell_type": "code",
   "execution_count": 31,
   "id": "10d4f28e-9f1c-4dae-b4db-846f22a94c48",
   "metadata": {},
   "outputs": [],
   "source": [
    "fbak = 'this movie was good'"
   ]
  },
  {
   "cell_type": "code",
   "execution_count": 32,
   "id": "71265b55-cb1a-44b7-bb8c-76c598c9e442",
   "metadata": {},
   "outputs": [
    {
     "data": {
      "text/plain": [
       "'this movie was good'"
      ]
     },
     "execution_count": 32,
     "metadata": {},
     "output_type": "execute_result"
    }
   ],
   "source": [
    "fbak"
   ]
  },
  {
   "cell_type": "code",
   "execution_count": 33,
   "id": "6e5026c7-c062-4b24-a198-6c915b588e7b",
   "metadata": {},
   "outputs": [
    {
     "name": "stdout",
     "output_type": "stream",
     "text": [
      "t\n",
      "h\n",
      "i\n",
      "s\n",
      " \n",
      "m\n",
      "o\n",
      "v\n",
      "i\n",
      "e\n",
      " \n",
      "w\n",
      "a\n",
      "s\n",
      " \n",
      "g\n",
      "o\n",
      "o\n",
      "d\n"
     ]
    }
   ],
   "source": [
    "for i in fbak:\n",
    "    print(i)"
   ]
  },
  {
   "cell_type": "code",
   "execution_count": 34,
   "id": "5cb7811f-c45b-4b27-8963-fcd966c91011",
   "metadata": {},
   "outputs": [
    {
     "name": "stdout",
     "output_type": "stream",
     "text": [
      "this\n",
      "movie\n",
      "was\n",
      "good\n"
     ]
    }
   ],
   "source": [
    "for i in fbak.split(' '):\n",
    "    print(i)"
   ]
  },
  {
   "cell_type": "code",
   "execution_count": 35,
   "id": "ed6691eb-d4ce-4298-8db8-2366b20c60c5",
   "metadata": {},
   "outputs": [
    {
     "name": "stdout",
     "output_type": "stream",
     "text": [
      "feedback was good by customer\n"
     ]
    }
   ],
   "source": [
    "for i in fbak.split(' '):\n",
    "    if i == 'good':\n",
    "        print('feedback was good by customer')"
   ]
  },
  {
   "cell_type": "code",
   "execution_count": 36,
   "id": "5dee532d-2a4f-41bf-8df3-0494e2b35035",
   "metadata": {},
   "outputs": [
    {
     "name": "stdin",
     "output_type": "stream",
     "text": [
      "please share your feedback this was aweful\n"
     ]
    }
   ],
   "source": [
    "fbak = input('please share your feedback')"
   ]
  },
  {
   "cell_type": "code",
   "execution_count": 37,
   "id": "38a19631-c490-4857-8912-4e1690064ef3",
   "metadata": {},
   "outputs": [
    {
     "data": {
      "text/plain": [
       "'this was aweful'"
      ]
     },
     "execution_count": 37,
     "metadata": {},
     "output_type": "execute_result"
    }
   ],
   "source": [
    "fbak"
   ]
  },
  {
   "cell_type": "code",
   "execution_count": 38,
   "id": "db9fba0e-4dd8-47eb-920c-587d82367701",
   "metadata": {},
   "outputs": [],
   "source": [
    "for i in fbak.split(' '):\n",
    "    if i == 'good':\n",
    "        print('feedback was good by customer')"
   ]
  },
  {
   "cell_type": "code",
   "execution_count": 39,
   "id": "9e43f954-f571-4b94-824b-297c73404df5",
   "metadata": {},
   "outputs": [],
   "source": [
    "x = 10"
   ]
  },
  {
   "cell_type": "code",
   "execution_count": 40,
   "id": "6bfa0667-6d37-412f-af72-86a555777a5b",
   "metadata": {},
   "outputs": [
    {
     "data": {
      "text/plain": [
       "5.0"
      ]
     },
     "execution_count": 40,
     "metadata": {},
     "output_type": "execute_result"
    }
   ],
   "source": [
    "x/2"
   ]
  },
  {
   "cell_type": "code",
   "execution_count": 42,
   "id": "1fa020a2-f6b0-4274-b1f8-e4d2903d1b68",
   "metadata": {},
   "outputs": [
    {
     "name": "stdout",
     "output_type": "stream",
     "text": [
      "it is ev\n"
     ]
    }
   ],
   "source": [
    "if x%2 == 0:\n",
    "    print('it is ev')"
   ]
  },
  {
   "cell_type": "code",
   "execution_count": 43,
   "id": "7bd9a290-6982-461d-bccb-3cdda74e7211",
   "metadata": {},
   "outputs": [],
   "source": [
    "for n in fbak.split(' '):\n",
    "    if n == 'good':\n",
    "        print('feedback was good by customer')"
   ]
  },
  {
   "cell_type": "code",
   "execution_count": 50,
   "id": "48a25963-3665-4a06-bb51-75e4717c3210",
   "metadata": {},
   "outputs": [],
   "source": [
    "words = ['welcome','winter','where','cool','cold', 'america']"
   ]
  },
  {
   "cell_type": "code",
   "execution_count": 51,
   "id": "61ce7049-d11b-44d2-8ae2-c9278ebd7a82",
   "metadata": {},
   "outputs": [
    {
     "data": {
      "text/plain": [
       "list"
      ]
     },
     "execution_count": 51,
     "metadata": {},
     "output_type": "execute_result"
    }
   ],
   "source": [
    "type(words)"
   ]
  },
  {
   "cell_type": "code",
   "execution_count": 59,
   "id": "804bef75-ffa0-4f53-9f89-a687871d8062",
   "metadata": {},
   "outputs": [
    {
     "name": "stdout",
     "output_type": "stream",
     "text": [
      "welcome WELCOME\n",
      "winter WINTER\n",
      "where WHERE\n",
      "cool COOL\n",
      "cold COLD\n",
      "america AMERICA\n"
     ]
    }
   ],
   "source": [
    "for everyword in words:\n",
    "    print(everyword,everyword.upper())"
   ]
  },
  {
   "cell_type": "code",
   "execution_count": 60,
   "id": "1c342216-9cdb-4332-8d81-673f6cd395b6",
   "metadata": {},
   "outputs": [
    {
     "name": "stdout",
     "output_type": "stream",
     "text": [
      "w WELCOME\n",
      "w WINTER\n",
      "w WHERE\n",
      "c COOL\n",
      "c COLD\n",
      "a AMERICA\n"
     ]
    }
   ],
   "source": [
    "for everyword in words:\n",
    "    print(everyword[0],everyword.upper())"
   ]
  },
  {
   "cell_type": "code",
   "execution_count": 62,
   "id": "e8698d6c-2a30-4995-b8f3-d711319f401f",
   "metadata": {},
   "outputs": [
    {
     "name": "stdout",
     "output_type": "stream",
     "text": [
      "w WELCOME\n",
      "w WINTER\n",
      "w WHERE\n"
     ]
    }
   ],
   "source": [
    "for everyword in words:\n",
    "    if everyword[0] == 'w':\n",
    "        print(everyword[0],everyword.upper())"
   ]
  },
  {
   "cell_type": "code",
   "execution_count": 69,
   "id": "e924a0e0-ea30-4ff2-bfd6-bae73adcbd20",
   "metadata": {},
   "outputs": [
    {
     "name": "stdout",
     "output_type": "stream",
     "text": [
      "0 w WELCOME\n",
      "1 w WINTER\n"
     ]
    }
   ],
   "source": [
    "for everyword in words:\n",
    "    if everyword[0] == 'w':\n",
    "        if words.index(everyword) < 2:\n",
    "            print(words.index(everyword),everyword[0],everyword.upper())"
   ]
  },
  {
   "cell_type": "code",
   "execution_count": 1,
   "id": "fb097b15-671f-4551-9f48-62a538e9e02c",
   "metadata": {},
   "outputs": [],
   "source": [
    "words = ['welcome','winter','where','cool','cold', 'america']"
   ]
  },
  {
   "cell_type": "code",
   "execution_count": 2,
   "id": "19307b1e-0989-4cd2-af2a-c9639b779151",
   "metadata": {},
   "outputs": [],
   "source": [
    "indexele = 0"
   ]
  },
  {
   "cell_type": "code",
   "execution_count": 3,
   "id": "1c7c90a7-798e-4985-9c1b-b8cdbf321f8f",
   "metadata": {},
   "outputs": [
    {
     "data": {
      "text/plain": [
       "6"
      ]
     },
     "execution_count": 3,
     "metadata": {},
     "output_type": "execute_result"
    }
   ],
   "source": [
    "len(words)"
   ]
  },
  {
   "cell_type": "code",
   "execution_count": 4,
   "id": "585fe08c-e7b1-4b74-b091-142e2cf8bb12",
   "metadata": {},
   "outputs": [
    {
     "name": "stdout",
     "output_type": "stream",
     "text": [
      "welcome\n",
      "winter\n",
      "america\n"
     ]
    }
   ],
   "source": [
    "while indexele < len(words):\n",
    "    if len(words[indexele]) > 5:\n",
    "        print(words[indexele])\n",
    "    indexele +=1"
   ]
  },
  {
   "cell_type": "code",
   "execution_count": 5,
   "id": "302f3f2d-2cce-4cdf-95f7-9c36bb460799",
   "metadata": {},
   "outputs": [
    {
     "name": "stdout",
     "output_type": "stream",
     "text": [
      "0 0 0\n",
      "0 1 0\n",
      "1 0 0\n",
      "1 1 1\n",
      "2 0 0\n",
      "2 1 2\n",
      "3 0 0\n",
      "3 1 3\n",
      "4 0 0\n",
      "4 1 4\n",
      "5 0 0\n",
      "5 1 5\n",
      "6 0 0\n",
      "6 1 6\n",
      "7 0 0\n",
      "7 1 7\n",
      "8 0 0\n",
      "8 1 8\n",
      "9 0 0\n",
      "9 1 9\n"
     ]
    }
   ],
   "source": [
    "for i in range(10):\n",
    "    for j in range(2):\n",
    "        print(i,j,i*j)"
   ]
  },
  {
   "cell_type": "code",
   "execution_count": 8,
   "id": "27bd7f0f-086c-47d2-97fa-883751e22f28",
   "metadata": {},
   "outputs": [
    {
     "name": "stdout",
     "output_type": "stream",
     "text": [
      "500\n",
      "600\n",
      "700\n",
      "800\n",
      "900\n"
     ]
    }
   ],
   "source": [
    "for i in range(5,10):\n",
    "    print(i*100)"
   ]
  },
  {
   "cell_type": "code",
   "execution_count": 9,
   "id": "ffbe2b59-c6db-45a1-9420-5836196ccd50",
   "metadata": {},
   "outputs": [
    {
     "data": {
      "text/plain": [
       "['welcome', 'winter', 'where', 'cool', 'cold', 'america']"
      ]
     },
     "execution_count": 9,
     "metadata": {},
     "output_type": "execute_result"
    }
   ],
   "source": [
    "words"
   ]
  },
  {
   "cell_type": "code",
   "execution_count": 10,
   "id": "5411ee7b-cdc9-4e2d-92aa-c04936408e7f",
   "metadata": {},
   "outputs": [
    {
     "name": "stdout",
     "output_type": "stream",
     "text": [
      "0 welcome\n",
      "0 winter\n",
      "0 where\n",
      "0 cool\n",
      "0 cold\n",
      "0 america\n",
      "1 welcome\n",
      "1 winter\n",
      "1 where\n",
      "1 cool\n",
      "1 cold\n",
      "1 america\n",
      "2 welcome\n",
      "2 winter\n",
      "2 where\n",
      "2 cool\n",
      "2 cold\n",
      "2 america\n",
      "3 welcome\n",
      "3 winter\n",
      "3 where\n",
      "3 cool\n",
      "3 cold\n",
      "3 america\n",
      "4 welcome\n",
      "4 winter\n",
      "4 where\n",
      "4 cool\n",
      "4 cold\n",
      "4 america\n"
     ]
    }
   ],
   "source": [
    "for i in range(5):\n",
    "    for word in words:\n",
    "        print(i,word)"
   ]
  },
  {
   "cell_type": "code",
   "execution_count": 11,
   "id": "b70b18bb-7a0e-402c-b5ab-0a2a8f3e2242",
   "metadata": {},
   "outputs": [
    {
     "name": "stdout",
     "output_type": "stream",
     "text": [
      "welcome\n",
      "winter\n"
     ]
    }
   ],
   "source": [
    "for i in words:\n",
    "    if i == 'where':\n",
    "        break\n",
    "    print(i)"
   ]
  },
  {
   "cell_type": "code",
   "execution_count": 12,
   "id": "a86f10c8-56f4-4cc1-be30-d28ab60bab93",
   "metadata": {},
   "outputs": [
    {
     "name": "stdout",
     "output_type": "stream",
     "text": [
      "welcome\n",
      "winter\n",
      "cool\n",
      "cold\n",
      "america\n"
     ]
    }
   ],
   "source": [
    "for i in words:\n",
    "    if i == 'where':\n",
    "        continue\n",
    "    print(i)"
   ]
  },
  {
   "cell_type": "code",
   "execution_count": 13,
   "id": "15431252-30e2-4778-8271-3087d85ed900",
   "metadata": {},
   "outputs": [],
   "source": [
    "num = [1,2,3,5,7,8,99,100]"
   ]
  },
  {
   "cell_type": "code",
   "execution_count": 14,
   "id": "658465c9-b4bf-4f4a-b148-b32397ce1b72",
   "metadata": {},
   "outputs": [
    {
     "data": {
      "text/plain": [
       "[1, 2, 3, 5, 7, 8, 99, 100]"
      ]
     },
     "execution_count": 14,
     "metadata": {},
     "output_type": "execute_result"
    }
   ],
   "source": [
    "num"
   ]
  },
  {
   "cell_type": "code",
   "execution_count": 18,
   "id": "18fdd869-621f-4f18-aac3-49eb09bfc15e",
   "metadata": {},
   "outputs": [
    {
     "name": "stdout",
     "output_type": "stream",
     "text": [
      "count 0\n",
      "7 4\n",
      "8 5\n",
      "99 6\n",
      "100 7\n",
      "count 1\n",
      "7 4\n",
      "8 5\n",
      "99 6\n",
      "100 7\n",
      "count 2\n",
      "7 4\n",
      "8 5\n",
      "99 6\n",
      "100 7\n",
      "count 3\n",
      "7 4\n",
      "8 5\n",
      "99 6\n",
      "100 7\n",
      "work is done\n"
     ]
    }
   ],
   "source": [
    "count = 0\n",
    "while count < 4:\n",
    "    print('count', count)\n",
    "    for n in num:\n",
    "        if n > 5:\n",
    "            print(n,num.index(n))\n",
    "    count +=1\n",
    "else:\n",
    "    print('work is done')\n"
   ]
  },
  {
   "cell_type": "code",
   "execution_count": 26,
   "id": "6a302c78-50fd-430a-87c4-37675a459e07",
   "metadata": {},
   "outputs": [],
   "source": [
    "x = range(100,500,5)"
   ]
  },
  {
   "cell_type": "code",
   "execution_count": 27,
   "id": "62967bf4-e860-4c47-a043-551b10bec0dd",
   "metadata": {},
   "outputs": [
    {
     "data": {
      "text/plain": [
       "range(100, 500, 5)"
      ]
     },
     "execution_count": 27,
     "metadata": {},
     "output_type": "execute_result"
    }
   ],
   "source": [
    "x"
   ]
  },
  {
   "cell_type": "code",
   "execution_count": 29,
   "id": "634523d9-bbfd-46ce-b9ca-43f9fc3217f6",
   "metadata": {},
   "outputs": [
    {
     "name": "stdout",
     "output_type": "stream",
     "text": [
      "100,105,110,115,120,125,130,135,140,145,150,155,160,165,170,175,180,185,190,195,200,205,210,215,220,225,230,235,240,245,250,255,260,265,270,275,280,285,290,295,300,305,310,315,320,325,330,335,340,345,350,355,360,365,370,375,380,385,390,395,400,405,410,415,420,425,430,435,440,445,450,455,460,465,470,475,480,485,490,495,"
     ]
    }
   ],
   "source": [
    "for n in x:\n",
    "    print(n, end=',')"
   ]
  },
  {
   "cell_type": "code",
   "execution_count": 30,
   "id": "14e3e555-f37f-4e1d-a09d-f022bfc3b37d",
   "metadata": {},
   "outputs": [],
   "source": [
    "y = range(100,50,-5)"
   ]
  },
  {
   "cell_type": "code",
   "execution_count": 31,
   "id": "a96c2037-c4bf-4e37-bb79-f454751acea5",
   "metadata": {},
   "outputs": [
    {
     "name": "stdout",
     "output_type": "stream",
     "text": [
      "100,95,90,85,80,75,70,65,60,55,"
     ]
    }
   ],
   "source": [
    "for n in y:\n",
    "    print(n, end=',')"
   ]
  },
  {
   "cell_type": "code",
   "execution_count": 32,
   "id": "df2272e8-9ed2-4a66-be6d-974322c2b624",
   "metadata": {},
   "outputs": [],
   "source": [
    "lst = ['we need more storage',\n",
    "'we need more space',\n",
    "'we need more storage',\n",
    "'we need more space',\n",
    "'we need more space',\n",
    "'storage is important',\n",
    "'more storage','zmemory']"
   ]
  },
  {
   "cell_type": "code",
   "execution_count": 33,
   "id": "331c7fba-a0ea-4765-9028-b1d2f7cb533d",
   "metadata": {},
   "outputs": [
    {
     "data": {
      "text/plain": [
       "['we need more storage',\n",
       " 'we need more space',\n",
       " 'we need more storage',\n",
       " 'we need more space',\n",
       " 'we need more space',\n",
       " 'storage is important',\n",
       " 'more storage',\n",
       " 'zmemory']"
      ]
     },
     "execution_count": 33,
     "metadata": {},
     "output_type": "execute_result"
    }
   ],
   "source": [
    "lst"
   ]
  },
  {
   "cell_type": "code",
   "execution_count": 34,
   "id": "3029dc67-f5ca-4b70-bd85-339f056df995",
   "metadata": {},
   "outputs": [
    {
     "name": "stdout",
     "output_type": "stream",
     "text": [
      "we need more storage\n",
      "we need more storage\n",
      "storage is important\n",
      "more storage\n"
     ]
    }
   ],
   "source": [
    "for i in lst:\n",
    "    if 'storage' in i:\n",
    "        print(i)"
   ]
  },
  {
   "cell_type": "code",
   "execution_count": 35,
   "id": "e2e8f52e-8d13-45c0-86d0-966fef81d565",
   "metadata": {},
   "outputs": [],
   "source": [
    "k = [\"storage\",\"space\",\"zmemory\"]"
   ]
  },
  {
   "cell_type": "code",
   "execution_count": 36,
   "id": "a83957cc-14ba-4c61-a467-f4741f73cc43",
   "metadata": {},
   "outputs": [],
   "source": [
    "def test(lst=[],k =[]):\n",
    "    l = []\n",
    "    m = set()\n",
    "    for i in lst:   \n",
    "        for n in i.split():\n",
    "            l.append(n)\n",
    "    for j in k:\n",
    "        for i in l:\n",
    "            if j==i:\n",
    "                m.add((l.count(i),j))\n",
    "                u = sorted(list(m),reverse = True)\n",
    "    return u[0:2]\n"
   ]
  },
  {
   "cell_type": "code",
   "execution_count": 37,
   "id": "71d408bc-5cca-4bbc-8786-012bd52bef73",
   "metadata": {},
   "outputs": [
    {
     "data": {
      "text/plain": [
       "[(4, 'storage'), (3, 'space')]"
      ]
     },
     "execution_count": 37,
     "metadata": {},
     "output_type": "execute_result"
    }
   ],
   "source": [
    "test(lst=lst,k=k)"
   ]
  },
  {
   "cell_type": "code",
   "execution_count": null,
   "id": "945284ee-56e7-437f-aefc-f61f0f204a95",
   "metadata": {},
   "outputs": [],
   "source": []
  }
 ],
 "metadata": {
  "kernelspec": {
   "display_name": "Python 3 (ipykernel)",
   "language": "python",
   "name": "python3"
  },
  "language_info": {
   "codemirror_mode": {
    "name": "ipython",
    "version": 3
   },
   "file_extension": ".py",
   "mimetype": "text/x-python",
   "name": "python",
   "nbconvert_exporter": "python",
   "pygments_lexer": "ipython3",
   "version": "3.8.2rc2"
  }
 },
 "nbformat": 4,
 "nbformat_minor": 5
}
