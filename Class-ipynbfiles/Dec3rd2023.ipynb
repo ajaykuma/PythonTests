{
 "cells": [
  {
   "cell_type": "code",
   "execution_count": 13,
   "id": "63ddffc7-9b5d-43ef-936e-b76d4b8c37a8",
   "metadata": {},
   "outputs": [],
   "source": [
    "def dot_product(x,y):\n",
    "    return sum(i*j for i,j in zip(x,y,strict=True))"
   ]
  },
  {
   "cell_type": "code",
   "execution_count": 15,
   "id": "72a2d23a-768a-418e-a873-0f8d7d953ac5",
   "metadata": {},
   "outputs": [
    {
     "data": {
      "text/plain": [
       "32"
      ]
     },
     "execution_count": 15,
     "metadata": {},
     "output_type": "execute_result"
    }
   ],
   "source": [
    "dot_product([1,2,3],[4,5,6])"
   ]
  },
  {
   "cell_type": "code",
   "execution_count": 9,
   "id": "1d7459c5-93b2-4d77-ab9c-cc765eb28bb7",
   "metadata": {},
   "outputs": [],
   "source": [
    "#sum(1*4+2*5+3*6)"
   ]
  },
  {
   "cell_type": "code",
   "execution_count": 17,
   "id": "204e5da6-637a-43ea-9c3c-1e4e4495691c",
   "metadata": {},
   "outputs": [],
   "source": [
    "import numpy as np\n",
    "x = np.array([1,2,3])"
   ]
  },
  {
   "cell_type": "code",
   "execution_count": 18,
   "id": "408de89b-d59b-4694-b43b-3517554d57a6",
   "metadata": {},
   "outputs": [
    {
     "data": {
      "text/plain": [
       "array([1, 2, 3])"
      ]
     },
     "execution_count": 18,
     "metadata": {},
     "output_type": "execute_result"
    }
   ],
   "source": [
    "x"
   ]
  },
  {
   "cell_type": "code",
   "execution_count": 19,
   "id": "d91aabc4-2d09-487d-b005-9a8104835c85",
   "metadata": {},
   "outputs": [],
   "source": [
    "y = np.array([100,200,300])"
   ]
  },
  {
   "cell_type": "code",
   "execution_count": 20,
   "id": "abdd52e3-8eea-41ac-af0e-7bec33150029",
   "metadata": {},
   "outputs": [
    {
     "data": {
      "text/plain": [
       "array([100, 200, 300])"
      ]
     },
     "execution_count": 20,
     "metadata": {},
     "output_type": "execute_result"
    }
   ],
   "source": [
    "y"
   ]
  },
  {
   "cell_type": "code",
   "execution_count": 21,
   "id": "aab1b163-4e7a-491d-9e5a-247f5038c5d1",
   "metadata": {},
   "outputs": [],
   "source": [
    "res = zip(x,y)"
   ]
  },
  {
   "cell_type": "code",
   "execution_count": 23,
   "id": "bfeb3786-6fc1-4f17-b5d6-46408928f778",
   "metadata": {},
   "outputs": [
    {
     "name": "stdout",
     "output_type": "stream",
     "text": [
      "(1, 100)\n",
      "(2, 200)\n",
      "(3, 300)\n"
     ]
    }
   ],
   "source": [
    "for i in res:\n",
    "    print(i)"
   ]
  },
  {
   "cell_type": "code",
   "execution_count": 24,
   "id": "51d8cf1e-b900-4a0f-a88e-ac95e9ddd00b",
   "metadata": {},
   "outputs": [],
   "source": [
    "res2 = np.add(x,y)"
   ]
  },
  {
   "cell_type": "code",
   "execution_count": 25,
   "id": "d601820b-16d9-479b-95f2-a8dee415cdad",
   "metadata": {},
   "outputs": [
    {
     "data": {
      "text/plain": [
       "array([101, 202, 303])"
      ]
     },
     "execution_count": 25,
     "metadata": {},
     "output_type": "execute_result"
    }
   ],
   "source": [
    "res2"
   ]
  },
  {
   "cell_type": "code",
   "execution_count": 26,
   "id": "e4af874b-be5e-4a16-8446-08d2aab36134",
   "metadata": {},
   "outputs": [],
   "source": [
    "res3 = np.subtract(y,x)"
   ]
  },
  {
   "cell_type": "code",
   "execution_count": 27,
   "id": "9d7ac709-26db-4f2a-bf32-346871c1bc2a",
   "metadata": {},
   "outputs": [
    {
     "data": {
      "text/plain": [
       "array([ 99, 198, 297])"
      ]
     },
     "execution_count": 27,
     "metadata": {},
     "output_type": "execute_result"
    }
   ],
   "source": [
    "res3"
   ]
  },
  {
   "cell_type": "code",
   "execution_count": 28,
   "id": "a55cf22f-07eb-48bb-be34-c5783fa80df9",
   "metadata": {},
   "outputs": [],
   "source": [
    "res4 = np.multiply(x,y)"
   ]
  },
  {
   "cell_type": "code",
   "execution_count": 29,
   "id": "d83c30cb-930c-42ff-bffc-fb361b9f605f",
   "metadata": {},
   "outputs": [
    {
     "data": {
      "text/plain": [
       "array([100, 400, 900])"
      ]
     },
     "execution_count": 29,
     "metadata": {},
     "output_type": "execute_result"
    }
   ],
   "source": [
    "res4"
   ]
  },
  {
   "cell_type": "code",
   "execution_count": 33,
   "id": "fae1ea4e-b5cc-43fa-b46c-4638d4ed0149",
   "metadata": {},
   "outputs": [],
   "source": [
    "def dot_product(x,y):\n",
    "    return sum(i*j for i,j in zip(y,y))"
   ]
  },
  {
   "cell_type": "code",
   "execution_count": 34,
   "id": "bb49f1fb-314a-4dea-8581-c79564d13ccb",
   "metadata": {},
   "outputs": [
    {
     "data": {
      "text/plain": [
       "77"
      ]
     },
     "execution_count": 34,
     "metadata": {},
     "output_type": "execute_result"
    }
   ],
   "source": [
    "dot_product([1,2,3],[4,5,6])"
   ]
  },
  {
   "cell_type": "code",
   "execution_count": 3,
   "id": "653a8643-2afd-4b34-b492-9079dcefb117",
   "metadata": {},
   "outputs": [],
   "source": [
    "import numpy as np\n",
    "a = np.array([[1,2,3],[4,5,6]])"
   ]
  },
  {
   "cell_type": "code",
   "execution_count": 4,
   "id": "b4b49797-c373-41d9-92a2-b92fb92b1631",
   "metadata": {},
   "outputs": [
    {
     "data": {
      "text/plain": [
       "array([[1, 2, 3],\n",
       "       [4, 5, 6]])"
      ]
     },
     "execution_count": 4,
     "metadata": {},
     "output_type": "execute_result"
    }
   ],
   "source": [
    "a"
   ]
  },
  {
   "cell_type": "code",
   "execution_count": 5,
   "id": "2f794c0d-8eed-4f62-ad06-4ea57612f668",
   "metadata": {},
   "outputs": [],
   "source": [
    "b = np.array([10,20,30])"
   ]
  },
  {
   "cell_type": "code",
   "execution_count": 6,
   "id": "9ead236c-5ff1-4596-984d-cf46e5817686",
   "metadata": {},
   "outputs": [
    {
     "data": {
      "text/plain": [
       "array([10, 20, 30])"
      ]
     },
     "execution_count": 6,
     "metadata": {},
     "output_type": "execute_result"
    }
   ],
   "source": [
    "b"
   ]
  },
  {
   "cell_type": "code",
   "execution_count": 8,
   "id": "96e0e99d-7ace-47fb-882d-5a983363deca",
   "metadata": {},
   "outputs": [],
   "source": [
    "res = a+b"
   ]
  },
  {
   "cell_type": "code",
   "execution_count": 9,
   "id": "b08d6c65-233f-4099-afd0-0302ff5dce8f",
   "metadata": {},
   "outputs": [
    {
     "data": {
      "text/plain": [
       "array([[11, 22, 33],\n",
       "       [14, 25, 36]])"
      ]
     },
     "execution_count": 9,
     "metadata": {},
     "output_type": "execute_result"
    }
   ],
   "source": [
    "res"
   ]
  },
  {
   "cell_type": "code",
   "execution_count": 10,
   "id": "430c3994-31c9-4269-9e53-b7e1058c39bd",
   "metadata": {},
   "outputs": [],
   "source": [
    "res2 = np.add(a,b)"
   ]
  },
  {
   "cell_type": "code",
   "execution_count": 11,
   "id": "8174d5ea-2fe9-44e8-9181-5855d1b994bf",
   "metadata": {},
   "outputs": [
    {
     "data": {
      "text/plain": [
       "array([[11, 22, 33],\n",
       "       [14, 25, 36]])"
      ]
     },
     "execution_count": 11,
     "metadata": {},
     "output_type": "execute_result"
    }
   ],
   "source": [
    "res2"
   ]
  },
  {
   "cell_type": "code",
   "execution_count": 12,
   "id": "9f58f242-553a-45b4-a903-93a0df56239e",
   "metadata": {},
   "outputs": [
    {
     "data": {
      "text/plain": [
       "array([[1, 2, 3],\n",
       "       [4, 5, 6]])"
      ]
     },
     "execution_count": 12,
     "metadata": {},
     "output_type": "execute_result"
    }
   ],
   "source": [
    "a"
   ]
  },
  {
   "cell_type": "code",
   "execution_count": 13,
   "id": "f15ea093-8a32-44d2-9fd8-53f3f69975e9",
   "metadata": {},
   "outputs": [],
   "source": [
    "c = 20"
   ]
  },
  {
   "cell_type": "code",
   "execution_count": 14,
   "id": "4b723cd2-09af-48cd-969c-8039c4b1d623",
   "metadata": {},
   "outputs": [
    {
     "data": {
      "text/plain": [
       "array([[ 20,  40,  60],\n",
       "       [ 80, 100, 120]])"
      ]
     },
     "execution_count": 14,
     "metadata": {},
     "output_type": "execute_result"
    }
   ],
   "source": [
    "a*c"
   ]
  },
  {
   "cell_type": "code",
   "execution_count": 15,
   "id": "fca82976-be0b-4dba-ab74-0b446839c7e8",
   "metadata": {},
   "outputs": [],
   "source": [
    "def myfunc(s,m):\n",
    "    sm = m\n",
    "    for i in range(len(m)):\n",
    "        for j in range(len(m[0])):\n",
    "            sm[i][j] = s*sm[i][j]\n",
    "    return sm"
   ]
  },
  {
   "cell_type": "code",
   "execution_count": 19,
   "id": "5fe20b71-bf0f-4ca4-a295-6bc28f18ea22",
   "metadata": {},
   "outputs": [
    {
     "data": {
      "text/plain": [
       "array([[100000, 200000, 300000],\n",
       "       [400000, 500000, 600000]])"
      ]
     },
     "execution_count": 19,
     "metadata": {},
     "output_type": "execute_result"
    }
   ],
   "source": [
    "myfunc(1000,a)"
   ]
  },
  {
   "cell_type": "code",
   "execution_count": 2,
   "id": "95d1734d-3af6-4762-863d-5ef059f46f9a",
   "metadata": {},
   "outputs": [],
   "source": [
    "import numpy as np\n",
    "a = np.array([[1,2,3],[4,5,6]])"
   ]
  },
  {
   "cell_type": "code",
   "execution_count": 3,
   "id": "501a11e4-bb01-4cce-8c06-ff03efefcb25",
   "metadata": {},
   "outputs": [
    {
     "data": {
      "text/plain": [
       "array([[1, 2, 3],\n",
       "       [4, 5, 6]])"
      ]
     },
     "execution_count": 3,
     "metadata": {},
     "output_type": "execute_result"
    }
   ],
   "source": [
    "a"
   ]
  },
  {
   "cell_type": "code",
   "execution_count": 8,
   "id": "6527fac2-2d4f-4b55-ab9d-fcacd6b3ed56",
   "metadata": {},
   "outputs": [
    {
     "data": {
      "text/plain": [
       "(array([[11, 12, 13],\n",
       "        [14, 15, 16]]),\n",
       " array([[10, 20, 30],\n",
       "        [40, 50, 60]]),\n",
       " array([[9, 8, 7],\n",
       "        [6, 5, 4]]),\n",
       " array([[ 2,  4,  6],\n",
       "        [ 8, 10, 12]]),\n",
       " array([[ 1,  4,  9],\n",
       "        [16, 25, 36]]))"
      ]
     },
     "execution_count": 8,
     "metadata": {},
     "output_type": "execute_result"
    }
   ],
   "source": [
    "10+a,10*a,10-a,a+a,a*a"
   ]
  },
  {
   "cell_type": "code",
   "execution_count": 9,
   "id": "f661e2d4-959b-4f70-a8c6-8b3286e3eb25",
   "metadata": {},
   "outputs": [],
   "source": [
    "b = np.array([[1,4,1],[1,2,6]])"
   ]
  },
  {
   "cell_type": "code",
   "execution_count": 10,
   "id": "934f7737-468b-46c0-a84f-e2f60d9b6fd7",
   "metadata": {},
   "outputs": [
    {
     "data": {
      "text/plain": [
       "array([[1, 4, 1],\n",
       "       [1, 2, 6]])"
      ]
     },
     "execution_count": 10,
     "metadata": {},
     "output_type": "execute_result"
    }
   ],
   "source": [
    "b"
   ]
  },
  {
   "cell_type": "code",
   "execution_count": 11,
   "id": "d72321ea-e435-4986-9b71-5eaca64dda8a",
   "metadata": {},
   "outputs": [
    {
     "data": {
      "text/plain": [
       "array([[1, 2, 3],\n",
       "       [4, 5, 6]])"
      ]
     },
     "execution_count": 11,
     "metadata": {},
     "output_type": "execute_result"
    }
   ],
   "source": [
    "a"
   ]
  },
  {
   "cell_type": "code",
   "execution_count": 12,
   "id": "6af93516-da27-4371-b037-ca74362d59d0",
   "metadata": {},
   "outputs": [
    {
     "data": {
      "text/plain": [
       "array([[ 1,  8,  3],\n",
       "       [ 4, 10, 36]])"
      ]
     },
     "execution_count": 12,
     "metadata": {},
     "output_type": "execute_result"
    }
   ],
   "source": [
    "b*a"
   ]
  },
  {
   "cell_type": "code",
   "execution_count": 24,
   "id": "cb363521-e0ad-4747-9bbe-c42505609880",
   "metadata": {},
   "outputs": [],
   "source": [
    "a = np.array([[1,2,3],[4,5,6]])"
   ]
  },
  {
   "cell_type": "code",
   "execution_count": 25,
   "id": "1b651765-3dab-4114-a253-4d678f31f33b",
   "metadata": {},
   "outputs": [],
   "source": [
    "b = np.array([[1,2],[3,4],[5,6]])"
   ]
  },
  {
   "cell_type": "code",
   "execution_count": 26,
   "id": "db77b5bc-6925-4921-83ae-ea24a05a27d6",
   "metadata": {},
   "outputs": [
    {
     "data": {
      "text/plain": [
       "(array([[1, 2, 3],\n",
       "        [4, 5, 6]]),\n",
       " array([[1, 2],\n",
       "        [3, 4],\n",
       "        [5, 6]]))"
      ]
     },
     "execution_count": 26,
     "metadata": {},
     "output_type": "execute_result"
    }
   ],
   "source": [
    "a,b"
   ]
  },
  {
   "cell_type": "code",
   "execution_count": 27,
   "id": "3089e598-104e-4452-aeb2-e135c90b1ff9",
   "metadata": {},
   "outputs": [],
   "source": [
    "res = np.matmul(a,b)"
   ]
  },
  {
   "cell_type": "code",
   "execution_count": 28,
   "id": "25581db4-5542-4379-8e35-1fef0e9d274a",
   "metadata": {},
   "outputs": [
    {
     "data": {
      "text/plain": [
       "array([[22, 28],\n",
       "       [49, 64]])"
      ]
     },
     "execution_count": 28,
     "metadata": {},
     "output_type": "execute_result"
    }
   ],
   "source": [
    "res\n"
   ]
  },
  {
   "cell_type": "code",
   "execution_count": 31,
   "id": "be57fd45-4ad7-417b-b00e-2438f5d65c35",
   "metadata": {},
   "outputs": [],
   "source": [
    "x = np.loadtxt('Sample_File.csv',delimiter=',',dtype='str')"
   ]
  },
  {
   "cell_type": "code",
   "execution_count": 32,
   "id": "a8e8d084-cc20-4da3-99f7-a31902ba1c22",
   "metadata": {},
   "outputs": [
    {
     "data": {
      "text/plain": [
       "array([['Name', 'age', 'gender'],\n",
       "       ['john', '20', 'male'],\n",
       "       ['peter', '40', 'male'],\n",
       "       ['marie', '30', 'female']], dtype='<U6')"
      ]
     },
     "execution_count": 32,
     "metadata": {},
     "output_type": "execute_result"
    }
   ],
   "source": [
    "x"
   ]
  },
  {
   "cell_type": "code",
   "execution_count": 33,
   "id": "7edce7bd-9ec3-43c3-8060-845127792c5d",
   "metadata": {},
   "outputs": [
    {
     "data": {
      "text/plain": [
       "array(['Name', 'age', 'gender'], dtype='<U6')"
      ]
     },
     "execution_count": 33,
     "metadata": {},
     "output_type": "execute_result"
    }
   ],
   "source": [
    "x[0]"
   ]
  },
  {
   "cell_type": "code",
   "execution_count": 41,
   "id": "a117669f-ff07-428d-b6ba-f2414e6ed886",
   "metadata": {},
   "outputs": [
    {
     "data": {
      "text/plain": [
       "array([['Name', 'age', 'gender'],\n",
       "       ['john', '20', 'male'],\n",
       "       ['peter', '40', 'male'],\n",
       "       ['marie', '30', 'female']], dtype='<U6')"
      ]
     },
     "execution_count": 41,
     "metadata": {},
     "output_type": "execute_result"
    }
   ],
   "source": [
    "x"
   ]
  },
  {
   "cell_type": "code",
   "execution_count": 45,
   "id": "cd559fad-e610-46a1-b470-630b163c9865",
   "metadata": {},
   "outputs": [
    {
     "data": {
      "text/plain": [
       "numpy.ndarray"
      ]
     },
     "execution_count": 45,
     "metadata": {},
     "output_type": "execute_result"
    }
   ],
   "source": [
    "type(x)"
   ]
  },
  {
   "cell_type": "code",
   "execution_count": 46,
   "id": "a160c534-c4fe-435f-9cd7-db6ecbe37bf6",
   "metadata": {},
   "outputs": [
    {
     "data": {
      "text/plain": [
       "array([['Name', 'age', 'gender'],\n",
       "       ['john', '20', 'male'],\n",
       "       ['peter', '40', 'male'],\n",
       "       ['marie', '30', 'female']], dtype='<U6')"
      ]
     },
     "execution_count": 46,
     "metadata": {},
     "output_type": "execute_result"
    }
   ],
   "source": [
    "x"
   ]
  },
  {
   "cell_type": "code",
   "execution_count": 48,
   "id": "cb7399ef-195e-48ba-92d8-ac67c483e8f5",
   "metadata": {},
   "outputs": [],
   "source": [
    "transposedx = np.transpose(x)"
   ]
  },
  {
   "cell_type": "code",
   "execution_count": 50,
   "id": "5b9f7bb9-3c81-4ce9-bc89-f077817f3cae",
   "metadata": {},
   "outputs": [
    {
     "data": {
      "text/plain": [
       "array([['Name', 'john', 'peter', 'marie'],\n",
       "       ['age', '20', '40', '30'],\n",
       "       ['gender', 'male', 'male', 'female']], dtype='<U6')"
      ]
     },
     "execution_count": 50,
     "metadata": {},
     "output_type": "execute_result"
    }
   ],
   "source": [
    "transposedx"
   ]
  },
  {
   "cell_type": "code",
   "execution_count": 68,
   "id": "0a52a47c-4d55-4948-aa4d-4d3f98969dbf",
   "metadata": {},
   "outputs": [
    {
     "data": {
      "text/plain": [
       "array(['Name', 'age', 'gender'], dtype='<U6')"
      ]
     },
     "execution_count": 68,
     "metadata": {},
     "output_type": "execute_result"
    }
   ],
   "source": [
    "x[0]"
   ]
  },
  {
   "cell_type": "code",
   "execution_count": 69,
   "id": "5648a877-7fc3-43ad-8e08-ed1db48bad67",
   "metadata": {},
   "outputs": [
    {
     "data": {
      "text/plain": [
       "array(['Name', 'john', 'peter', 'marie'], dtype='<U6')"
      ]
     },
     "execution_count": 69,
     "metadata": {},
     "output_type": "execute_result"
    }
   ],
   "source": [
    "x.T[0]"
   ]
  },
  {
   "cell_type": "code",
   "execution_count": 70,
   "id": "636fafd4-c4c8-4eeb-8037-237a6f772912",
   "metadata": {},
   "outputs": [
    {
     "data": {
      "text/plain": [
       "array([['Name', 'age', 'gender'],\n",
       "       ['john', '20', 'male'],\n",
       "       ['peter', '40', 'male'],\n",
       "       ['marie', '30', 'female']], dtype='<U6')"
      ]
     },
     "execution_count": 70,
     "metadata": {},
     "output_type": "execute_result"
    }
   ],
   "source": [
    "x"
   ]
  },
  {
   "cell_type": "code",
   "execution_count": 71,
   "id": "e96007c7-b98d-4287-b087-4ab975eadd11",
   "metadata": {},
   "outputs": [
    {
     "data": {
      "text/plain": [
       "array([[1, 2, 3],\n",
       "       [4, 5, 6]])"
      ]
     },
     "execution_count": 71,
     "metadata": {},
     "output_type": "execute_result"
    }
   ],
   "source": [
    "a"
   ]
  },
  {
   "cell_type": "code",
   "execution_count": null,
   "id": "181b06f4-bbd6-4d75-b6d5-8d715b9c147a",
   "metadata": {},
   "outputs": [],
   "source": []
  },
  {
   "cell_type": "code",
   "execution_count": null,
   "id": "8e3e5139-2e31-4e3f-a444-689e76e815cc",
   "metadata": {},
   "outputs": [],
   "source": []
  }
 ],
 "metadata": {
  "kernelspec": {
   "display_name": "Python 3 [3.10]",
   "language": "python",
   "name": "python3"
  },
  "language_info": {
   "codemirror_mode": {
    "name": "ipython",
    "version": 3
   },
   "file_extension": ".py",
   "mimetype": "text/x-python",
   "name": "python",
   "nbconvert_exporter": "python",
   "pygments_lexer": "ipython3",
   "version": "3.10.2"
  }
 },
 "nbformat": 4,
 "nbformat_minor": 5
}
