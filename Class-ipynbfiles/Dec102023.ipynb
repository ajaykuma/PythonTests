{
 "cells": [
  {
   "cell_type": "code",
   "execution_count": 1,
   "id": "0b8804b1-9360-48e9-b225-1cf7a0e20b57",
   "metadata": {},
   "outputs": [],
   "source": [
    "import numpy as np\n",
    "import pandas as pd\n",
    "import statsmodels"
   ]
  },
  {
   "cell_type": "code",
   "execution_count": 2,
   "id": "bbcafa9a-3c2d-474b-a666-2a2da90a408f",
   "metadata": {},
   "outputs": [],
   "source": [
    "power_data = pd.read_csv(\"https://raw.githubusercontent.com/ajaykuma/Datasets_For_Work/main/comm-power.csv\")"
   ]
  },
  {
   "cell_type": "code",
   "execution_count": 27,
   "id": "ccc10bbe-9824-4b16-9c1d-96b35334bedf",
   "metadata": {},
   "outputs": [
    {
     "data": {
      "text/html": [
       "<div>\n",
       "<style scoped>\n",
       "    .dataframe tbody tr th:only-of-type {\n",
       "        vertical-align: middle;\n",
       "    }\n",
       "\n",
       "    .dataframe tbody tr th {\n",
       "        vertical-align: top;\n",
       "    }\n",
       "\n",
       "    .dataframe thead th {\n",
       "        text-align: right;\n",
       "    }\n",
       "</style>\n",
       "<table border=\"1\" class=\"dataframe\">\n",
       "  <thead>\n",
       "    <tr style=\"text-align: right;\">\n",
       "      <th></th>\n",
       "      <th>START_DATE</th>\n",
       "      <th>VALUE</th>\n",
       "    </tr>\n",
       "  </thead>\n",
       "  <tbody>\n",
       "    <tr>\n",
       "      <th>0</th>\n",
       "      <td>15-Dec-17</td>\n",
       "      <td>32.009998</td>\n",
       "    </tr>\n",
       "    <tr>\n",
       "      <th>1</th>\n",
       "      <td>15-Dec-17</td>\n",
       "      <td>30.930000</td>\n",
       "    </tr>\n",
       "    <tr>\n",
       "      <th>2</th>\n",
       "      <td>15-Dec-17</td>\n",
       "      <td>29.000000</td>\n",
       "    </tr>\n",
       "    <tr>\n",
       "      <th>3</th>\n",
       "      <td>15-Dec-17</td>\n",
       "      <td>28.969999</td>\n",
       "    </tr>\n",
       "    <tr>\n",
       "      <th>4</th>\n",
       "      <td>15-Dec-17</td>\n",
       "      <td>29.570000</td>\n",
       "    </tr>\n",
       "  </tbody>\n",
       "</table>\n",
       "</div>"
      ],
      "text/plain": [
       "  START_DATE      VALUE\n",
       "0  15-Dec-17  32.009998\n",
       "1  15-Dec-17  30.930000\n",
       "2  15-Dec-17  29.000000\n",
       "3  15-Dec-17  28.969999\n",
       "4  15-Dec-17  29.570000"
      ]
     },
     "execution_count": 27,
     "metadata": {},
     "output_type": "execute_result"
    }
   ],
   "source": [
    "power_data.head()"
   ]
  },
  {
   "cell_type": "code",
   "execution_count": 9,
   "id": "f28b94bc-be77-421b-8b3b-804b27247ebc",
   "metadata": {},
   "outputs": [
    {
     "data": {
      "text/plain": [
       "Index(['START_DATE', 'VALUE'], dtype='object')"
      ]
     },
     "execution_count": 9,
     "metadata": {},
     "output_type": "execute_result"
    }
   ],
   "source": [
    "power_data.columns"
   ]
  },
  {
   "cell_type": "code",
   "execution_count": 10,
   "id": "a5f6b4b6-70e7-4a3a-9535-b964b05649dc",
   "metadata": {},
   "outputs": [
    {
     "data": {
      "text/plain": [
       "0        32.009998\n",
       "1        30.930000\n",
       "2        29.000000\n",
       "3        28.969999\n",
       "4        29.570000\n",
       "           ...    \n",
       "37618    44.524761\n",
       "37619    41.243295\n",
       "37620    39.866686\n",
       "37621    38.239598\n",
       "37622    38.611845\n",
       "Name: VALUE, Length: 37623, dtype: float64"
      ]
     },
     "execution_count": 10,
     "metadata": {},
     "output_type": "execute_result"
    }
   ],
   "source": [
    "power_data.loc[:,\"VALUE\"]"
   ]
  },
  {
   "cell_type": "code",
   "execution_count": 14,
   "id": "02f00964-a590-4ea8-88d7-46d1d9e0d69e",
   "metadata": {},
   "outputs": [],
   "source": [
    "power_data_lst = power_data.iloc[:,1].tolist()"
   ]
  },
  {
   "cell_type": "code",
   "execution_count": 15,
   "id": "15836764-33b9-4fd0-a7ea-3bed8e6faacb",
   "metadata": {},
   "outputs": [
    {
     "data": {
      "text/plain": [
       "pandas.core.frame.DataFrame"
      ]
     },
     "execution_count": 15,
     "metadata": {},
     "output_type": "execute_result"
    }
   ],
   "source": [
    "type(power_data)"
   ]
  },
  {
   "cell_type": "code",
   "execution_count": 16,
   "id": "c0cb9207-dcfb-42d6-a1c6-b61c3c9d7b5f",
   "metadata": {},
   "outputs": [
    {
     "data": {
      "text/plain": [
       "list"
      ]
     },
     "execution_count": 16,
     "metadata": {},
     "output_type": "execute_result"
    }
   ],
   "source": [
    "type(power_data_lst)"
   ]
  },
  {
   "cell_type": "code",
   "execution_count": 17,
   "id": "dc3a30eb-79db-450f-85cc-09282c23d6c5",
   "metadata": {},
   "outputs": [],
   "source": [
    "import matplotlib.pyplot as plt"
   ]
  },
  {
   "cell_type": "code",
   "execution_count": 20,
   "id": "b0df0849-86fd-49b5-b178-b8b121bb2fbc",
   "metadata": {},
   "outputs": [
    {
     "data": {
      "text/plain": [
       "(array([  18.,  424., 1934., 8090., 9031., 8874., 5360., 2744.,  914.,\n",
       "         234.]),\n",
       " array([-3.34880004,  4.7002189 , 12.74923783, 20.79825677, 28.8472757 ,\n",
       "        36.89629464, 44.94531358, 52.99433251, 61.04335145, 69.09237038,\n",
       "        77.14138932]),\n",
       " <BarContainer object of 10 artists>)"
      ]
     },
     "execution_count": 20,
     "metadata": {},
     "output_type": "execute_result"
    },
    {
     "data": {
      "image/png": "[encoded data removed]",
      "text/plain": [
       "<Figure size 432x288 with 1 Axes>"
      ]
     },
     "metadata": {
      "needs_background": "light"
     },
     "output_type": "display_data"
    }
   ],
   "source": [
    "plt.hist(power_data_lst,10)"
   ]
  },
  {
   "cell_type": "code",
   "execution_count": 22,
   "id": "eec73364-3aa1-4588-9368-f9ea2b0a9d6e",
   "metadata": {},
   "outputs": [
    {
     "data": {
      "text/plain": [
       "(array([  758., 11347., 16305.,  7799.]),\n",
       " array([ 0., 15., 30., 45., 60.]),\n",
       " <BarContainer object of 4 artists>)"
      ]
     },
     "execution_count": 22,
     "metadata": {},
     "output_type": "execute_result"
    },
    {
     "data": {
      "image/png": "[encoded data removed]",
      "text/plain": [
       "<Figure size 432x288 with 1 Axes>"
      ]
     },
     "metadata": {
      "needs_background": "light"
     },
     "output_type": "display_data"
    }
   ],
   "source": [
    "    bin_edges = [0,15,30,45,60]     \n",
    "    plt.hist(power_data_lst,\n",
    "                  bins=bin_edges,\n",
    "         density=False,\n",
    "         histtype='bar',\n",
    "         color='b',\n",
    "         edgecolor='k',\n",
    "         alpha=0.5)"
   ]
  },
  {
   "cell_type": "code",
   "execution_count": 24,
   "id": "c73df92d-c3c6-49fb-8d49-631055d2c952",
   "metadata": {},
   "outputs": [],
   "source": [
    "import statistics"
   ]
  },
  {
   "cell_type": "code",
   "execution_count": 25,
   "id": "3b50a2a1-df7d-4fc7-8832-784d7e7cd25b",
   "metadata": {},
   "outputs": [
    {
     "data": {
      "text/plain": [
       "37.07442088121282"
      ]
     },
     "execution_count": 25,
     "metadata": {},
     "output_type": "execute_result"
    }
   ],
   "source": [
    "statistics.mean(power_data_lst)"
   ]
  },
  {
   "cell_type": "code",
   "execution_count": 26,
   "id": "b0f2d2a8-4a76-4893-a292-a6eb20e4d9d6",
   "metadata": {},
   "outputs": [
    {
     "data": {
      "text/plain": [
       "28.59781901"
      ]
     },
     "execution_count": 26,
     "metadata": {},
     "output_type": "execute_result"
    }
   ],
   "source": [
    "statistics.mode(power_data_lst)"
   ]
  },
  {
   "cell_type": "code",
   "execution_count": 2,
   "id": "fd6b122e-f790-44b2-bd49-82db3a69db73",
   "metadata": {},
   "outputs": [],
   "source": [
    "import numpy as np\n",
    "import matplotlib as plt"
   ]
  },
  {
   "cell_type": "code",
   "execution_count": 3,
   "id": "9413635b-a1a4-49c3-bd33-ff9f06ed0f44",
   "metadata": {},
   "outputs": [],
   "source": [
    "x = np.linspace(1,50,200)"
   ]
  },
  {
   "cell_type": "code",
   "execution_count": 25,
   "id": "16e98b74-16ca-4e74-bcaf-e2270407fd87",
   "metadata": {},
   "outputs": [
    {
     "data": {
      "text/plain": [
       "array([ 1.        ,  1.24623116,  1.49246231,  1.73869347,  1.98492462,\n",
       "        2.23115578,  2.47738693,  2.72361809,  2.96984925,  3.2160804 ,\n",
       "        3.46231156,  3.70854271,  3.95477387,  4.20100503,  4.44723618,\n",
       "        4.69346734,  4.93969849,  5.18592965,  5.4321608 ,  5.67839196,\n",
       "        5.92462312,  6.17085427,  6.41708543,  6.66331658,  6.90954774,\n",
       "        7.15577889,  7.40201005,  7.64824121,  7.89447236,  8.14070352,\n",
       "        8.38693467,  8.63316583,  8.87939698,  9.12562814,  9.3718593 ,\n",
       "        9.61809045,  9.86432161, 10.11055276, 10.35678392, 10.60301508,\n",
       "       10.84924623, 11.09547739, 11.34170854, 11.5879397 , 11.83417085,\n",
       "       12.08040201, 12.32663317, 12.57286432, 12.81909548, 13.06532663,\n",
       "       13.31155779, 13.55778894, 13.8040201 , 14.05025126, 14.29648241,\n",
       "       14.54271357, 14.78894472, 15.03517588, 15.28140704, 15.52763819,\n",
       "       15.77386935, 16.0201005 , 16.26633166, 16.51256281, 16.75879397,\n",
       "       17.00502513, 17.25125628, 17.49748744, 17.74371859, 17.98994975,\n",
       "       18.2361809 , 18.48241206, 18.72864322, 18.97487437, 19.22110553,\n",
       "       19.46733668, 19.71356784, 19.95979899, 20.20603015, 20.45226131,\n",
       "       20.69849246, 20.94472362, 21.19095477, 21.43718593, 21.68341709,\n",
       "       21.92964824, 22.1758794 , 22.42211055, 22.66834171, 22.91457286,\n",
       "       23.16080402, 23.40703518, 23.65326633, 23.89949749, 24.14572864,\n",
       "       24.3919598 , 24.63819095, 24.88442211, 25.13065327, 25.37688442,\n",
       "       25.62311558, 25.86934673, 26.11557789, 26.36180905, 26.6080402 ,\n",
       "       26.85427136, 27.10050251, 27.34673367, 27.59296482, 27.83919598,\n",
       "       28.08542714, 28.33165829, 28.57788945, 28.8241206 , 29.07035176,\n",
       "       29.31658291, 29.56281407, 29.80904523, 30.05527638, 30.30150754,\n",
       "       30.54773869, 30.79396985, 31.04020101, 31.28643216, 31.53266332,\n",
       "       31.77889447, 32.02512563, 32.27135678, 32.51758794, 32.7638191 ,\n",
       "       33.01005025, 33.25628141, 33.50251256, 33.74874372, 33.99497487,\n",
       "       34.24120603, 34.48743719, 34.73366834, 34.9798995 , 35.22613065,\n",
       "       35.47236181, 35.71859296, 35.96482412, 36.21105528, 36.45728643,\n",
       "       36.70351759, 36.94974874, 37.1959799 , 37.44221106, 37.68844221,\n",
       "       37.93467337, 38.18090452, 38.42713568, 38.67336683, 38.91959799,\n",
       "       39.16582915, 39.4120603 , 39.65829146, 39.90452261, 40.15075377,\n",
       "       40.39698492, 40.64321608, 40.88944724, 41.13567839, 41.38190955,\n",
       "       41.6281407 , 41.87437186, 42.12060302, 42.36683417, 42.61306533,\n",
       "       42.85929648, 43.10552764, 43.35175879, 43.59798995, 43.84422111,\n",
       "       44.09045226, 44.33668342, 44.58291457, 44.82914573, 45.07537688,\n",
       "       45.32160804, 45.5678392 , 45.81407035, 46.06030151, 46.30653266,\n",
       "       46.55276382, 46.79899497, 47.04522613, 47.29145729, 47.53768844,\n",
       "       47.7839196 , 48.03015075, 48.27638191, 48.52261307, 48.76884422,\n",
       "       49.01507538, 49.26130653, 49.50753769, 49.75376884, 50.        ])"
      ]
     },
     "execution_count": 25,
     "metadata": {},
     "output_type": "execute_result"
    }
   ],
   "source": [
    "x"
   ]
  },
  {
   "cell_type": "code",
   "execution_count": 8,
   "id": "73f3d723-2b16-48f4-9ed3-de309d4de16d",
   "metadata": {},
   "outputs": [],
   "source": [
    "mean = np.mean(x)"
   ]
  },
  {
   "cell_type": "code",
   "execution_count": 9,
   "id": "9214a9b1-15e0-40a8-b03d-08514290c509",
   "metadata": {},
   "outputs": [
    {
     "data": {
      "text/plain": [
       "25.5"
      ]
     },
     "execution_count": 9,
     "metadata": {},
     "output_type": "execute_result"
    }
   ],
   "source": [
    "mean"
   ]
  },
  {
   "cell_type": "code",
   "execution_count": 26,
   "id": "83db620f-ee08-4b42-a1cd-a381e0a67e6b",
   "metadata": {},
   "outputs": [],
   "source": [
    "sd = np.std(x)"
   ]
  },
  {
   "cell_type": "code",
   "execution_count": 11,
   "id": "e4ed3267-6929-4533-ae11-f738d15f0d17",
   "metadata": {},
   "outputs": [
    {
     "data": {
      "text/plain": [
       "14.215984704041"
      ]
     },
     "execution_count": 11,
     "metadata": {},
     "output_type": "execute_result"
    }
   ],
   "source": [
    "sd"
   ]
  },
  {
   "cell_type": "code",
   "execution_count": 12,
   "id": "79d961fc-8fee-4788-9f6d-9727f9ce3d3a",
   "metadata": {},
   "outputs": [],
   "source": [
    "def normal_dist(x, mean, sd):\n",
    "    prob_density = (np.pi*sd) * np.exp(-0.5*((x-mean)/sd)**2)\n",
    "    return prob_density"
   ]
  },
  {
   "cell_type": "code",
   "execution_count": 14,
   "id": "bd83f16a-861e-45c6-93dd-8a7f818b0c92",
   "metadata": {},
   "outputs": [],
   "source": [
    "mydata = normal_dist(x,mean,sd)"
   ]
  },
  {
   "cell_type": "code",
   "execution_count": 17,
   "id": "2ed5b708-c6e8-4778-aee0-07f3960e008d",
   "metadata": {},
   "outputs": [
    {
     "data": {
      "text/plain": [
       "Text(0.5, 0, 'Data points')"
      ]
     },
     "execution_count": 17,
     "metadata": {},
     "output_type": "execute_result"
    },
    {
     "data": {
      "image/png": "[encoded data removed]",
      "text/plain": [
       "<Figure size 432x288 with 1 Axes>"
      ]
     },
     "metadata": {
      "needs_background": "light"
     },
     "output_type": "display_data"
    }
   ],
   "source": [
    "import matplotlib.pyplot as plt\n",
    "plt.plot(x,mydata,color='red')\n",
    "plt.xlabel('Data points')"
   ]
  },
  {
   "cell_type": "code",
   "execution_count": 27,
   "id": "93736b80-486b-43ce-9616-4571ee8d48f3",
   "metadata": {},
   "outputs": [],
   "source": [
    "import scipy"
   ]
  },
  {
   "cell_type": "code",
   "execution_count": 28,
   "id": "8bcf89a3-b69c-49bd-abb6-3386fa7f4c30",
   "metadata": {},
   "outputs": [],
   "source": [
    "from scipy.stats import norm"
   ]
  },
  {
   "cell_type": "code",
   "execution_count": 29,
   "id": "1607e868-f117-4a6b-9c67-8d87ab109286",
   "metadata": {},
   "outputs": [],
   "source": [
    "import numpy as np\n",
    "import matplotlib.pyplot as plt\n",
    "import seaborn as sb"
   ]
  },
  {
   "cell_type": "code",
   "execution_count": 30,
   "id": "89ebecb8-84f1-46dd-9aa6-586ef267b04b",
   "metadata": {},
   "outputs": [],
   "source": [
    "data = np.arange(1,10,0.01)"
   ]
  },
  {
   "cell_type": "code",
   "execution_count": 36,
   "id": "05537a65-1f92-49f9-879b-e443504573db",
   "metadata": {},
   "outputs": [
    {
     "data": {
      "text/plain": [
       "array([1.  , 1.01, 1.02, 1.03, 1.04, 1.05, 1.06, 1.07, 1.08, 1.09])"
      ]
     },
     "execution_count": 36,
     "metadata": {},
     "output_type": "execute_result"
    }
   ],
   "source": [
    "data[0:10]"
   ]
  },
  {
   "cell_type": "code",
   "execution_count": 39,
   "id": "0da90924-ad7b-438c-b7b4-49972e779dd2",
   "metadata": {},
   "outputs": [],
   "source": [
    "mean = data.mean()"
   ]
  },
  {
   "cell_type": "code",
   "execution_count": 40,
   "id": "57a43961-bc7a-451d-b62f-13c998072bf5",
   "metadata": {},
   "outputs": [],
   "source": [
    "sd = data.std()"
   ]
  },
  {
   "cell_type": "code",
   "execution_count": 41,
   "id": "96a1a55b-aa37-4f82-93c8-f9750ae04b43",
   "metadata": {},
   "outputs": [],
   "source": [
    "mydata_1 = normal_dist(data,mean,sd)"
   ]
  },
  {
   "cell_type": "code",
   "execution_count": 43,
   "id": "d13c382a-8775-4be9-8423-1ffd0624b5ce",
   "metadata": {},
   "outputs": [
    {
     "data": {
      "text/plain": [
       "Text(0.5, 0, 'Data points')"
      ]
     },
     "execution_count": 43,
     "metadata": {},
     "output_type": "execute_result"
    },
    {
     "data": {
      "image/png": "[encoded data removed]",
      "text/plain": [
       "<Figure size 432x288 with 1 Axes>"
      ]
     },
     "metadata": {
      "needs_background": "light"
     },
     "output_type": "display_data"
    }
   ],
   "source": [
    "import matplotlib.pyplot as plt\n",
    "plt.plot(data,mydata_1,color='red')\n",
    "plt.xlabel('Data points')"
   ]
  },
  {
   "cell_type": "code",
   "execution_count": 44,
   "id": "9f8bd3f2-953d-40ea-9ee5-84dea43c9d6d",
   "metadata": {},
   "outputs": [],
   "source": [
    "mydata_2 = norm.pdf(data,mean,sd)"
   ]
  },
  {
   "cell_type": "code",
   "execution_count": 67,
   "id": "eeb38b77-02f1-4ce0-a989-2e10d6f0d6a5",
   "metadata": {},
   "outputs": [
    {
     "data": {
      "text/plain": [
       "Text(0, 0.5, 'PDF')"
      ]
     },
     "execution_count": 67,
     "metadata": {},
     "output_type": "execute_result"
    },
    {
     "data": {
      "image/png": "[encoded data removed]",
      "text/plain": [
       "<Figure size 432x288 with 1 Axes>"
      ]
     },
     "metadata": {},
     "output_type": "display_data"
    }
   ],
   "source": [
    "import matplotlib.pyplot as plt\n",
    "plt.plot(data,mydata_2,color='red')\n",
    "plt.xlabel('Data points')\n",
    "#sb.set_style('whitegrid')\n",
    "#sb.lineplot(data)\n",
    "plt.xlabel('Heights')\n",
    "plt.ylabel('PDF')"
   ]
  },
  {
   "cell_type": "code",
   "execution_count": 50,
   "id": "e44cfdf6-bd5e-43b8-b9c8-99752eeb4af5",
   "metadata": {},
   "outputs": [
    {
     "data": {
      "text/plain": [
       "Text(0, 0.5, 'PDF')"
      ]
     },
     "execution_count": 50,
     "metadata": {},
     "output_type": "execute_result"
    },
    {
     "data": {
      "image/png": "[encoded data removed]",
      "text/plain": [
       "<Figure size 432x288 with 1 Axes>"
      ]
     },
     "metadata": {},
     "output_type": "display_data"
    }
   ],
   "source": [
    "import matplotlib.pyplot as plt\n",
    "plt.plot(data,mydata_2,color='red')\n",
    "plt.xlabel('Data points')\n",
    "plt.ylabel('PDF')"
   ]
  },
  {
   "cell_type": "code",
   "execution_count": 53,
   "id": "5272052c-2032-4eb2-afeb-a9ce7e639e5b",
   "metadata": {},
   "outputs": [],
   "source": [
    "mydata_x = norm(loc = mean, scale = sd).cdf(4.5)"
   ]
  },
  {
   "cell_type": "code",
   "execution_count": 54,
   "id": "747b50e8-e995-4f17-9cdb-10f15ef5c454",
   "metadata": {},
   "outputs": [
    {
     "data": {
      "text/plain": [
       "0.3508688111078876"
      ]
     },
     "execution_count": 54,
     "metadata": {},
     "output_type": "execute_result"
    }
   ],
   "source": [
    "mydata_x"
   ]
  },
  {
   "cell_type": "code",
   "execution_count": 55,
   "id": "a1853b38-33d9-4b1e-9c8a-4dd6490954db",
   "metadata": {},
   "outputs": [],
   "source": [
    "mydata_x = norm(loc = 5.5, scale = 1).cdf(4.5)"
   ]
  },
  {
   "cell_type": "code",
   "execution_count": 56,
   "id": "97c09273-f3ed-4c3a-bba5-7f30613f6729",
   "metadata": {},
   "outputs": [
    {
     "data": {
      "text/plain": [
       "0.15865525393145707"
      ]
     },
     "execution_count": 56,
     "metadata": {},
     "output_type": "execute_result"
    }
   ],
   "source": [
    "mydata_x"
   ]
  },
  {
   "cell_type": "code",
   "execution_count": 57,
   "id": "1ef5713a-4bf3-48fd-bea0-6c257a4d7d92",
   "metadata": {},
   "outputs": [],
   "source": [
    "mydata_3 = norm.pdf(data,5.5,1)"
   ]
  },
  {
   "cell_type": "code",
   "execution_count": 58,
   "id": "327d13b3-d916-4671-a7a2-1d51e5ac31fb",
   "metadata": {},
   "outputs": [
    {
     "data": {
      "text/plain": [
       "Text(0, 0.5, 'PDF')"
      ]
     },
     "execution_count": 58,
     "metadata": {},
     "output_type": "execute_result"
    },
    {
     "data": {
      "image/png": "[encoded data removed]",
      "text/plain": [
       "<Figure size 432x288 with 1 Axes>"
      ]
     },
     "metadata": {},
     "output_type": "display_data"
    }
   ],
   "source": [
    "plt.plot(data,mydata_3,color='red')\n",
    "plt.xlabel('Data points')\n",
    "plt.ylabel('PDF')"
   ]
  },
  {
   "cell_type": "code",
   "execution_count": 59,
   "id": "0cf9e72d-dcde-460b-be3c-dca6d874f554",
   "metadata": {},
   "outputs": [],
   "source": [
    "mydata_x = norm(loc = mean, scale = sd).cdf(4.5)"
   ]
  },
  {
   "cell_type": "code",
   "execution_count": 60,
   "id": "2224e965-8c4c-4a68-9b4c-871b1e93f397",
   "metadata": {},
   "outputs": [
    {
     "data": {
      "text/plain": [
       "0.3508688111078876"
      ]
     },
     "execution_count": 60,
     "metadata": {},
     "output_type": "execute_result"
    }
   ],
   "source": [
    "mydata_x"
   ]
  },
  {
   "cell_type": "code",
   "execution_count": 61,
   "id": "b4023d6e-a823-47a9-bb47-17c9344a3320",
   "metadata": {},
   "outputs": [],
   "source": [
    "mydata_upper = norm(loc = mean, scale = sd).cdf(6.5)"
   ]
  },
  {
   "cell_type": "code",
   "execution_count": 62,
   "id": "0da4b140-6832-4482-9282-3d2470840939",
   "metadata": {},
   "outputs": [],
   "source": [
    "mydata_lower = norm(loc = mean, scale = sd).cdf(4.5)"
   ]
  },
  {
   "cell_type": "code",
   "execution_count": 63,
   "id": "3c8c4465-39aa-417e-92af-a80deb532089",
   "metadata": {},
   "outputs": [],
   "source": [
    "prob = mydata_upper - mydata_lower"
   ]
  },
  {
   "cell_type": "code",
   "execution_count": 64,
   "id": "b19c4109-4d8e-4e7c-9083-f71528db4276",
   "metadata": {},
   "outputs": [
    {
     "data": {
      "text/plain": [
       "29.968827498941554"
      ]
     },
     "execution_count": 64,
     "metadata": {},
     "output_type": "execute_result"
    }
   ],
   "source": [
    "prob* 100"
   ]
  },
  {
   "cell_type": "code",
   "execution_count": 92,
   "id": "cbde62a0-5a82-4790-945b-b660bdd66adf",
   "metadata": {},
   "outputs": [],
   "source": [
    "import pandas as pd\n",
    "power_data = pd.read_csv(\"https://raw.githubusercontent.com/ajaykuma/Datasets_For_Work/main/comm-power.csv\")"
   ]
  },
  {
   "cell_type": "code",
   "execution_count": 70,
   "id": "bddec8e1-1004-4c26-9bc8-7a09da6239c9",
   "metadata": {},
   "outputs": [],
   "source": [
    "power_data_lst = power_data.iloc[:,1].tolist()"
   ]
  },
  {
   "cell_type": "code",
   "execution_count": 74,
   "id": "9d5860d6-c5c8-4746-b33a-1926c88aa48c",
   "metadata": {},
   "outputs": [
    {
     "data": {
      "text/plain": [
       "37.07442088121282"
      ]
     },
     "execution_count": 74,
     "metadata": {},
     "output_type": "execute_result"
    }
   ],
   "source": [
    "import statistics\n",
    "statistics.mean(power_data_lst)"
   ]
  },
  {
   "cell_type": "code",
   "execution_count": 80,
   "id": "9df5c5af-7bda-4dcf-95b5-47aebd248d74",
   "metadata": {},
   "outputs": [
    {
     "data": {
      "text/plain": [
       "<seaborn.axisgrid.FacetGrid at 0x7fb9e43d7d90>"
      ]
     },
     "execution_count": 80,
     "metadata": {},
     "output_type": "execute_result"
    },
    {
     "data": {
      "image/png": "[encoded data removed]",
      "text/plain": [
       "<Figure size 360x360 with 1 Axes>"
      ]
     },
     "metadata": {},
     "output_type": "display_data"
    }
   ],
   "source": [
    "sb.displot(power_data_lst)\n",
    "#distribution doesnt follow gaussian dist/normal / ie asymmetric"
   ]
  },
  {
   "cell_type": "code",
   "execution_count": 81,
   "id": "62335588-6ccb-4144-85e5-6114ed7782a2",
   "metadata": {},
   "outputs": [],
   "source": [
    "#sample_size = 2\n",
    "#no_of_sample_means = 100"
   ]
  },
  {
   "cell_type": "code",
   "execution_count": 93,
   "id": "258ab156-c505-434a-b88b-070fef270143",
   "metadata": {},
   "outputs": [],
   "source": [
    "import pandas as pd\n",
    "power_data = pd.read_csv(\"https://raw.githubusercontent.com/ajaykuma/Datasets_For_Work/main/comm-power.csv\")\n",
    "power_data_col = power_data['VALUE']"
   ]
  },
  {
   "cell_type": "code",
   "execution_count": 101,
   "id": "88a9f3f4-0c04-4d53-ab70-e7de482b9e0e",
   "metadata": {},
   "outputs": [],
   "source": [
    "mean = []\n",
    "def calc_sample_mean(sample_size,no_of_sample_means):\n",
    "    for i in range(no_of_sample_means):\n",
    "        sample_data = power_data_col.sample(n=sample_size)\n",
    "        sample_mean = statistics.mean(sample_data)\n",
    "        mean.append(sample_mean)\n",
    "    return mean"
   ]
  },
  {
   "cell_type": "code",
   "execution_count": 111,
   "id": "4df5f981-8a5d-4f18-95d6-f4f119975552",
   "metadata": {},
   "outputs": [],
   "source": [
    "mean_2 = calc_sample_mean(sample_size=2,no_of_sample_means=500)"
   ]
  },
  {
   "cell_type": "code",
   "execution_count": 113,
   "id": "c3eea271-dceb-457f-b1d0-3eac05f61fda",
   "metadata": {},
   "outputs": [
    {
     "data": {
      "text/plain": [
       "550"
      ]
     },
     "execution_count": 113,
     "metadata": {},
     "output_type": "execute_result"
    }
   ],
   "source": [
    "len(mean)"
   ]
  },
  {
   "cell_type": "code",
   "execution_count": 114,
   "id": "f7ce5ddb-9d6a-453a-81b1-dcada06c23ab",
   "metadata": {},
   "outputs": [
    {
     "data": {
      "text/plain": [
       "<seaborn.axisgrid.FacetGrid at 0x7fb9e37e10c0>"
      ]
     },
     "execution_count": 114,
     "metadata": {},
     "output_type": "execute_result"
    },
    {
     "data": {
      "image/png": "[encoded data removed]",
      "text/plain": [
       "<Figure size 360x360 with 1 Axes>"
      ]
     },
     "metadata": {},
     "output_type": "display_data"
    }
   ],
   "source": [
    "sb.displot(mean, color='b')"
   ]
  },
  {
   "cell_type": "code",
   "execution_count": 115,
   "id": "74506f31-360e-465d-988a-79af6c3778b2",
   "metadata": {},
   "outputs": [
    {
     "name": "stderr",
     "output_type": "stream",
     "text": [
      "/tmp/ipykernel_71/3488119921.py:1: UserWarning: \n",
      "\n",
      "`distplot` is a deprecated function and will be removed in seaborn v0.14.0.\n",
      "\n",
      "Please adapt your code to use either `displot` (a figure-level function with\n",
      "similar flexibility) or `histplot` (an axes-level function for histograms).\n",
      "\n",
      "For a guide to updating your code to use the new functions, please see\n",
      "https://gist.github.com/mwaskom/de44147ed2974457ad6372750bbe5751\n",
      "\n",
      "  sb.distplot(mean, color='b')\n"
     ]
    },
    {
     "data": {
      "text/plain": [
       "<AxesSubplot: ylabel='Density'>"
      ]
     },
     "execution_count": 115,
     "metadata": {},
     "output_type": "execute_result"
    },
    {
     "data": {
      "image/png": "[encoded data removed]",
      "text/plain": [
       "<Figure size 432x288 with 1 Axes>"
      ]
     },
     "metadata": {},
     "output_type": "display_data"
    }
   ],
   "source": [
    "sb.distplot(mean, color='b')"
   ]
  },
  {
   "cell_type": "code",
   "execution_count": 116,
   "id": "95df28c2-bbab-4a6f-a6c5-2b31b1065499",
   "metadata": {},
   "outputs": [],
   "source": [
    "\n",
    "mean_3 = calc_sample_mean(sample_size=2,no_of_sample_means=5000)"
   ]
  },
  {
   "cell_type": "code",
   "execution_count": 117,
   "id": "fd203d99-58db-4b4c-af91-18ff8515a1f3",
   "metadata": {},
   "outputs": [
    {
     "data": {
      "text/plain": [
       "5550"
      ]
     },
     "execution_count": 117,
     "metadata": {},
     "output_type": "execute_result"
    }
   ],
   "source": [
    "len(mean)"
   ]
  },
  {
   "cell_type": "code",
   "execution_count": 118,
   "id": "84e47738-8a09-481f-aaa2-311304f087d3",
   "metadata": {},
   "outputs": [
    {
     "name": "stderr",
     "output_type": "stream",
     "text": [
      "/tmp/ipykernel_71/3488119921.py:1: UserWarning: \n",
      "\n",
      "`distplot` is a deprecated function and will be removed in seaborn v0.14.0.\n",
      "\n",
      "Please adapt your code to use either `displot` (a figure-level function with\n",
      "similar flexibility) or `histplot` (an axes-level function for histograms).\n",
      "\n",
      "For a guide to updating your code to use the new functions, please see\n",
      "https://gist.github.com/mwaskom/de44147ed2974457ad6372750bbe5751\n",
      "\n",
      "  sb.distplot(mean, color='b')\n"
     ]
    },
    {
     "data": {
      "text/plain": [
       "<AxesSubplot: ylabel='Density'>"
      ]
     },
     "execution_count": 118,
     "metadata": {},
     "output_type": "execute_result"
    },
    {
     "data": {
      "image/png": "[encoded data removed]",
      "text/plain": [
       "<Figure size 432x288 with 1 Axes>"
      ]
     },
     "metadata": {},
     "output_type": "display_data"
    }
   ],
   "source": [
    "sb.distplot(mean, color='b')"
   ]
  },
  {
   "cell_type": "code",
   "execution_count": 119,
   "id": "bcece5b4-bec4-4699-8513-339692315dc3",
   "metadata": {},
   "outputs": [],
   "source": [
    "mean_new = []\n",
    "def calc_sample_mean(sample_size,no_of_sample_means):\n",
    "    for i in range(no_of_sample_means):\n",
    "        sample_data = power_data_col.sample(n=sample_size)\n",
    "        sample_mean = statistics.mean(sample_data)\n",
    "        mean_new.append(sample_mean)\n",
    "    return mean_new"
   ]
  },
  {
   "cell_type": "code",
   "execution_count": 120,
   "id": "37062563-62d6-4301-9aff-d92aea1ea31f",
   "metadata": {},
   "outputs": [],
   "source": [
    "mean_new = calc_sample_mean(sample_size=2,no_of_sample_means=5)"
   ]
  },
  {
   "cell_type": "code",
   "execution_count": 121,
   "id": "97204b82-3b28-4534-bfc8-3cdd4b378476",
   "metadata": {},
   "outputs": [
    {
     "name": "stderr",
     "output_type": "stream",
     "text": [
      "/tmp/ipykernel_71/1029238638.py:1: UserWarning: \n",
      "\n",
      "`distplot` is a deprecated function and will be removed in seaborn v0.14.0.\n",
      "\n",
      "Please adapt your code to use either `displot` (a figure-level function with\n",
      "similar flexibility) or `histplot` (an axes-level function for histograms).\n",
      "\n",
      "For a guide to updating your code to use the new functions, please see\n",
      "https://gist.github.com/mwaskom/de44147ed2974457ad6372750bbe5751\n",
      "\n",
      "  sb.distplot(mean_new, color='b')\n"
     ]
    },
    {
     "data": {
      "text/plain": [
       "<AxesSubplot: ylabel='Density'>"
      ]
     },
     "execution_count": 121,
     "metadata": {},
     "output_type": "execute_result"
    },
    {
     "data": {
      "image/png": "[encoded data removed]",
      "text/plain": [
       "<Figure size 432x288 with 1 Axes>"
      ]
     },
     "metadata": {},
     "output_type": "display_data"
    }
   ],
   "source": [
    "sb.distplot(mean_new, color='b')"
   ]
  },
  {
   "cell_type": "code",
   "execution_count": null,
   "id": "9fb16092-dd93-4ec1-8cd3-f8fed70dbf49",
   "metadata": {},
   "outputs": [],
   "source": []
  }
 ],
 "metadata": {
  "kernelspec": {
   "display_name": "Python 3 [3.10]",
   "language": "python",
   "name": "python3"
  },
  "language_info": {
   "codemirror_mode": {
    "name": "ipython",
    "version": 3
   },
   "file_extension": ".py",
   "mimetype": "text/x-python",
   "name": "python",
   "nbconvert_exporter": "python",
   "pygments_lexer": "ipython3",
   "version": "3.10.2"
  }
 },
 "nbformat": 4,
 "nbformat_minor": 5
}
