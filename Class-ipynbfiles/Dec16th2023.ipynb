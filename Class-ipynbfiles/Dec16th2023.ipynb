{
 "cells": [
  {
   "cell_type": "code",
   "execution_count": 1,
   "id": "82b68131-1d62-40e6-b233-062da4161878",
   "metadata": {},
   "outputs": [],
   "source": [
    "import numpy as np\n",
    "import scipy.stats as stats"
   ]
  },
  {
   "cell_type": "code",
   "execution_count": 10,
   "id": "31331b28-b7ed-43b9-b4fc-0d07031c1f2d",
   "metadata": {},
   "outputs": [],
   "source": [
    "data = np.random.randint(20,40,10)"
   ]
  },
  {
   "cell_type": "code",
   "execution_count": 11,
   "id": "c0a366b5-c2f1-458a-9660-2986cd2444da",
   "metadata": {},
   "outputs": [
    {
     "data": {
      "text/plain": [
       "array([34, 38, 39, 21, 21, 39, 36, 33, 34, 29])"
      ]
     },
     "execution_count": 11,
     "metadata": {},
     "output_type": "execute_result"
    }
   ],
   "source": [
    "data"
   ]
  },
  {
   "cell_type": "code",
   "execution_count": 12,
   "id": "9cfaf6ed-e98c-4b51-bc6d-ded7d20ed0c2",
   "metadata": {},
   "outputs": [],
   "source": [
    "H0 = \"Avg weight of 10 yr kid is 32kg\""
   ]
  },
  {
   "cell_type": "code",
   "execution_count": 13,
   "id": "86553ac3-90a6-4838-8116-486970163bc9",
   "metadata": {},
   "outputs": [],
   "source": [
    "H1 = \"Avg weight of 10 yr kid is greater than 32kg\""
   ]
  },
  {
   "cell_type": "code",
   "execution_count": 14,
   "id": "a6db2821-b055-4ae4-80d4-ba7ae7d28912",
   "metadata": {},
   "outputs": [],
   "source": [
    "test_stat, p_value = stats.ttest_1samp(data, 32)"
   ]
  },
  {
   "cell_type": "code",
   "execution_count": 15,
   "id": "bd63412b-5d8d-4023-b36b-0c3a9bf0ef8b",
   "metadata": {},
   "outputs": [
    {
     "name": "stdout",
     "output_type": "stream",
     "text": [
      "test statistic:   0.18777526317732107\n",
      "p-value:   0.8552181484916163\n"
     ]
    }
   ],
   "source": [
    "print(\"test statistic:  \" , test_stat)\n",
    "print(\"p-value:  \" , p_value)"
   ]
  },
  {
   "cell_type": "code",
   "execution_count": 16,
   "id": "6a2de39e-eb80-42c1-944b-159290e61bf7",
   "metadata": {},
   "outputs": [
    {
     "name": "stdout",
     "output_type": "stream",
     "text": [
      "fail to reject null hypothesis\n"
     ]
    }
   ],
   "source": [
    "if p_value < 0.05:\n",
    "    print(\"reject null hypothesis\")\n",
    "else:\n",
    "    print(\"fail to reject null hypothesis\")"
   ]
  },
  {
   "cell_type": "code",
   "execution_count": 17,
   "id": "eb11fb97-6bab-417d-b261-ee0c7248a6e4",
   "metadata": {},
   "outputs": [],
   "source": [
    "#calc CI using t-distribution\n",
    "#stats.t.interval(alpha,length,loc,scale)"
   ]
  },
  {
   "cell_type": "code",
   "execution_count": 18,
   "id": "f1a30b54-751f-43dc-9a06-7f8e79c225e5",
   "metadata": {},
   "outputs": [],
   "source": [
    "data = [1,1,1,2,2,2,3,3,3,3,4,4,5,5,5,6,6,6,7,7,8,9,10]"
   ]
  },
  {
   "cell_type": "code",
   "execution_count": 19,
   "id": "b8fdef94-30e2-4229-8348-3a1cc6f0b56b",
   "metadata": {},
   "outputs": [
    {
     "data": {
      "text/plain": [
       "[1, 1, 1, 2, 2, 2, 3, 3, 3, 3, 4, 4, 5, 5, 5, 6, 6, 6, 7, 7, 8, 9, 10]"
      ]
     },
     "execution_count": 19,
     "metadata": {},
     "output_type": "execute_result"
    }
   ],
   "source": [
    "data\n"
   ]
  },
  {
   "cell_type": "code",
   "execution_count": 20,
   "id": "aa3be02c-7e48-4da5-bfca-4f5b9c3c8ba6",
   "metadata": {},
   "outputs": [
    {
     "name": "stderr",
     "output_type": "stream",
     "text": [
      "/tmp/ipykernel_84/872576596.py:2: DeprecationWarning: Use of keyword argument `alpha` for method `interval` is deprecated. Use first positional argument or keyword argument `confidence` instead.\n",
      "  stats.t.interval(alpha=0.90,df = len(data)-1,loc = np.mean(data), scale = stats.sem(data))\n"
     ]
    },
    {
     "data": {
      "text/plain": [
       "(3.550407557753421, 5.4061141813770135)"
      ]
     },
     "execution_count": 20,
     "metadata": {},
     "output_type": "execute_result"
    }
   ],
   "source": [
    "#create 90% confidence interval\n",
    "stats.t.interval(alpha=0.90,df = len(data)-1,loc = np.mean(data), scale = stats.sem(data))"
   ]
  },
  {
   "cell_type": "code",
   "execution_count": 23,
   "id": "9dce2b10-82a5-46a2-818e-5a2b378f996f",
   "metadata": {},
   "outputs": [
    {
     "data": {
      "text/plain": [
       "4.478260869565218"
      ]
     },
     "execution_count": 23,
     "metadata": {},
     "output_type": "execute_result"
    }
   ],
   "source": [
    "np.mean(data)"
   ]
  },
  {
   "cell_type": "code",
   "execution_count": null,
   "id": "82ea50af-12a2-4f9d-970b-e7a1c5031f4c",
   "metadata": {},
   "outputs": [],
   "source": []
  }
 ],
 "metadata": {
  "kernelspec": {
   "display_name": "Python 3 [3.10]",
   "language": "python",
   "name": "python3"
  },
  "language_info": {
   "codemirror_mode": {
    "name": "ipython",
    "version": 3
   },
   "file_extension": ".py",
   "mimetype": "text/x-python",
   "name": "python",
   "nbconvert_exporter": "python",
   "pygments_lexer": "ipython3",
   "version": "3.10.2"
  }
 },
 "nbformat": 4,
 "nbformat_minor": 5
}
