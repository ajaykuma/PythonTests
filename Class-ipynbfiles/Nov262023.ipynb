{
 "cells": [
  {
   "cell_type": "code",
   "execution_count": null,
   "id": "143cedfa-d76a-40e2-8275-c303ce20f89f",
   "metadata": {},
   "outputs": [],
   "source": [
    "import datetime"
   ]
  },
  {
   "cell_type": "code",
   "execution_count": null,
   "id": "fa9064a5-d413-41e4-bca3-fa85941507b0",
   "metadata": {},
   "outputs": [],
   "source": [
    "from datetime import date\n",
    "mydate = date(2023,11,26)"
   ]
  },
  {
   "cell_type": "code",
   "execution_count": null,
   "id": "a4d67b0b-bf9b-451f-98c8-cfcad152f672",
   "metadata": {},
   "outputs": [],
   "source": [
    "print(type(mydate))\n"
   ]
  },
  {
   "cell_type": "code",
   "execution_count": null,
   "id": "0da349d2-748e-4e29-aa25-730130cd0a51",
   "metadata": {},
   "outputs": [],
   "source": [
    "mydate = '2023-11-26'"
   ]
  },
  {
   "cell_type": "code",
   "execution_count": null,
   "id": "9d21c266-55db-4e70-925e-3a03026654b0",
   "metadata": {},
   "outputs": [],
   "source": [
    "x = datetime.strptime(mydate, \"%Y-%m-%d\")"
   ]
  },
  {
   "cell_type": "code",
   "execution_count": null,
   "id": "34904384-14a0-4140-8f36-3769f0cc2667",
   "metadata": {},
   "outputs": [],
   "source": [
    "x.year"
   ]
  },
  {
   "cell_type": "code",
   "execution_count": null,
   "id": "79521a17-772a-4ee4-9f45-4928a7aaf7d1",
   "metadata": {},
   "outputs": [],
   "source": [
    "x.month"
   ]
  },
  {
   "cell_type": "code",
   "execution_count": null,
   "id": "3a451144-4f81-47ac-99a3-1f432b8a417a",
   "metadata": {},
   "outputs": [],
   "source": [
    "x.day"
   ]
  },
  {
   "cell_type": "code",
   "execution_count": null,
   "id": "b0e2bd10-80fc-42f9-bb4c-568cb5e2b300",
   "metadata": {},
   "outputs": [],
   "source": [
    "mydate = date(2023,12,27)"
   ]
  },
  {
   "cell_type": "code",
   "execution_count": null,
   "id": "f39ca962-7bc3-47e7-b15e-033de92761a9",
   "metadata": {},
   "outputs": [],
   "source": [
    "mydate.year"
   ]
  },
  {
   "cell_type": "code",
   "execution_count": null,
   "id": "94669484-a675-49b1-9647-d80eb5d98f15",
   "metadata": {},
   "outputs": [],
   "source": [
    "mydate.month"
   ]
  },
  {
   "cell_type": "code",
   "execution_count": null,
   "id": "fd234b7a-aede-4838-8b21-29a2d35fce7b",
   "metadata": {},
   "outputs": [],
   "source": [
    "mydate.day"
   ]
  },
  {
   "cell_type": "code",
   "execution_count": null,
   "id": "604fbb8a-e072-452a-b1b0-14232b901a83",
   "metadata": {},
   "outputs": [],
   "source": [
    "today = datetime.now()"
   ]
  },
  {
   "cell_type": "code",
   "execution_count": null,
   "id": "02d7d09a-ca69-4043-98cd-5e7acef8f512",
   "metadata": {},
   "outputs": [],
   "source": [
    "today"
   ]
  },
  {
   "cell_type": "code",
   "execution_count": null,
   "id": "99c1f9a0-cb79-4b9e-9910-2cdbdf10835f",
   "metadata": {},
   "outputs": [],
   "source": [
    "from datetime import timedelta\n",
    "futdate = today + timedelta(days=10)"
   ]
  },
  {
   "cell_type": "code",
   "execution_count": null,
   "id": "098f35e7-1144-4692-80f8-16f381a06465",
   "metadata": {},
   "outputs": [],
   "source": [
    "futdate"
   ]
  },
  {
   "cell_type": "code",
   "execution_count": null,
   "id": "e58875fc-2b87-4b07-9732-c071fc98b9fe",
   "metadata": {},
   "outputs": [],
   "source": [
    "difference = futdate - today"
   ]
  },
  {
   "cell_type": "code",
   "execution_count": null,
   "id": "18fba558-55d5-4336-a3ad-551f30bd7841",
   "metadata": {},
   "outputs": [],
   "source": [
    "difference"
   ]
  },
  {
   "cell_type": "code",
   "execution_count": null,
   "id": "726732ce-d307-41c0-9391-47f4fa6408f3",
   "metadata": {},
   "outputs": [],
   "source": [
    "calcnow = today.toordinal() - futdate.toordinal()"
   ]
  },
  {
   "cell_type": "code",
   "execution_count": null,
   "id": "9c25d75e-0939-407c-be6f-1a1351de6555",
   "metadata": {},
   "outputs": [],
   "source": [
    "calcnow"
   ]
  },
  {
   "cell_type": "code",
   "execution_count": null,
   "id": "1eeeecc4-7cd3-4c89-9bcc-fdb6f0605db2",
   "metadata": {},
   "outputs": [],
   "source": [
    "import calendar"
   ]
  },
  {
   "cell_type": "code",
   "execution_count": null,
   "id": "d643badc-7bfa-457a-8122-2465497bc6c2",
   "metadata": {},
   "outputs": [],
   "source": [
    "date"
   ]
  },
  {
   "cell_type": "code",
   "execution_count": null,
   "id": "1177ba38-82ba-4e6f-be51-7beee4c82196",
   "metadata": {},
   "outputs": [],
   "source": [
    "mydate = date(2023,12,27)"
   ]
  },
  {
   "cell_type": "code",
   "execution_count": null,
   "id": "8305b4c9-ffcf-4f13-8618-4295b2a07fd1",
   "metadata": {},
   "outputs": [],
   "source": [
    "mydate.month"
   ]
  },
  {
   "cell_type": "code",
   "execution_count": null,
   "id": "0cb5284c-ddef-49cc-abd5-0b185592c3de",
   "metadata": {},
   "outputs": [],
   "source": [
    "mydate.day"
   ]
  },
  {
   "cell_type": "code",
   "execution_count": 67,
   "id": "073b3c04-31d7-48c3-975a-87931d9d25e6",
   "metadata": {},
   "outputs": [
    {
     "data": {
      "text/plain": [
       "2"
      ]
     },
     "execution_count": 67,
     "metadata": {},
     "output_type": "execute_result"
    }
   ],
   "source": [
    "calendar.weekday(mydate.year,mydate.month,mydate.day)"
   ]
  },
  {
   "cell_type": "code",
   "execution_count": 68,
   "id": "0c1d3f15-935f-4930-9488-2e7c69cd7c99",
   "metadata": {},
   "outputs": [],
   "source": [
    "mydates = ['2023-11-1','2023-11-2','2023-11-3','2023-11-4','2023-11-5','2023-11-6','2023-11-7','2023-11-8']"
   ]
  },
  {
   "cell_type": "code",
   "execution_count": 69,
   "id": "c5c3fa1c-5896-41e8-8ef0-ea936b76b974",
   "metadata": {},
   "outputs": [],
   "source": [
    "#populate values in these empty lists\n",
    "monthval = []\n",
    "dayval = []\n",
    "yearval = []\n",
    "weekdays = []"
   ]
  },
  {
   "cell_type": "code",
   "execution_count": 70,
   "id": "82cd06a7-f000-4b71-8888-c5fe13b2c416",
   "metadata": {},
   "outputs": [],
   "source": [
    "#monthval.append()"
   ]
  },
  {
   "cell_type": "code",
   "execution_count": 73,
   "id": "fd50d8b8-f9cc-4469-9675-db3bc54cf392",
   "metadata": {},
   "outputs": [
    {
     "name": "stdout",
     "output_type": "stream",
     "text": [
      "2023-11-1 <class 'str'>\n",
      "2023-11-2 <class 'str'>\n",
      "2023-11-3 <class 'str'>\n",
      "2023-11-4 <class 'str'>\n",
      "2023-11-5 <class 'str'>\n",
      "2023-11-6 <class 'str'>\n",
      "2023-11-7 <class 'str'>\n",
      "2023-11-8 <class 'str'>\n"
     ]
    }
   ],
   "source": [
    "for i in mydates:\n",
    "    print(i,type(i))"
   ]
  },
  {
   "cell_type": "code",
   "execution_count": 80,
   "id": "1c87c083-45aa-49ed-87dc-079650a5a1ea",
   "metadata": {},
   "outputs": [],
   "source": [
    "monthval = list(map(lambda n: (datetime.strptime(n, \"%Y-%m-%d\").month),mydates))\n",
    "yearval = list(map(lambda n: (datetime.strptime(n, \"%Y-%m-%d\").year),mydates))\n",
    "dayval = list(map(lambda n: (datetime.strptime(n, \"%Y-%m-%d\").day),mydates))"
   ]
  },
  {
   "cell_type": "code",
   "execution_count": 79,
   "id": "a9a11ebc-6221-4e62-aaa3-a0a34c8c2456",
   "metadata": {},
   "outputs": [
    {
     "data": {
      "text/plain": [
       "[11, 11, 11, 11, 11, 11, 11, 11]"
      ]
     },
     "execution_count": 79,
     "metadata": {},
     "output_type": "execute_result"
    }
   ],
   "source": [
    "monthval"
   ]
  },
  {
   "cell_type": "code",
   "execution_count": 81,
   "id": "2b2bb402-dceb-4d96-b0e6-f734a824d256",
   "metadata": {},
   "outputs": [
    {
     "data": {
      "text/plain": [
       "[2023, 2023, 2023, 2023, 2023, 2023, 2023, 2023]"
      ]
     },
     "execution_count": 81,
     "metadata": {},
     "output_type": "execute_result"
    }
   ],
   "source": [
    "yearval"
   ]
  },
  {
   "cell_type": "code",
   "execution_count": 82,
   "id": "d59e6a70-0d9a-4d73-8c33-3ef76c9e76c8",
   "metadata": {},
   "outputs": [
    {
     "data": {
      "text/plain": [
       "[1, 2, 3, 4, 5, 6, 7, 8]"
      ]
     },
     "execution_count": 82,
     "metadata": {},
     "output_type": "execute_result"
    }
   ],
   "source": [
    "dayval"
   ]
  },
  {
   "cell_type": "code",
   "execution_count": 91,
   "id": "985db4c1-7872-4e9e-bc76-3318e77fee3e",
   "metadata": {},
   "outputs": [
    {
     "name": "stdout",
     "output_type": "stream",
     "text": [
      "['November', 'December']\n",
      "[12, 12]\n",
      "[2023, 2023]\n",
      "['Sunday', 'Tuesday']\n"
     ]
    }
   ],
   "source": [
    "\n",
    "   #using Pandas (suggested by Arka)\n",
    "import pandas as pd\n",
    "mydates=['11-12-2023','12-12-2023']\n",
    "\n",
    "months_val=[]\n",
    "days_val=[]\n",
    "year_val=[]\n",
    "weekdays=[]\n",
    "for i in mydates:\n",
    "\n",
    "    date_pd=pd.Timestamp(i)\n",
    "    months_val.append(date_pd.month_name())\n",
    "    days_val.append(date_pd.day)\n",
    "    year_val.append(date_pd.year)\n",
    "    weekdays.append(date_pd.day_name())\n",
    "print(months_val)\n",
    "print(days_val)\n",
    "print(year_val)\n",
    "print(weekdays)\n"
   ]
  },
  {
   "cell_type": "code",
   "execution_count": 103,
   "id": "4b993112-27fe-4f1c-b372-d67e6e0ea062",
   "metadata": {},
   "outputs": [],
   "source": [
    "greetings = ['hello','hi','welcome','namste','bonjour']"
   ]
  },
  {
   "cell_type": "code",
   "execution_count": 104,
   "id": "c79a37b6-5d8d-464a-89dd-ee60a662c304",
   "metadata": {},
   "outputs": [],
   "source": [
    "chogre = [n for n in greetings if len(n)>2 ]"
   ]
  },
  {
   "cell_type": "code",
   "execution_count": 105,
   "id": "ba170e92-fb3c-4218-869c-58984b246a25",
   "metadata": {},
   "outputs": [
    {
     "data": {
      "text/plain": [
       "['hello', 'welcome', 'namste', 'bonjour']"
      ]
     },
     "execution_count": 105,
     "metadata": {},
     "output_type": "execute_result"
    }
   ],
   "source": [
    "chogre"
   ]
  },
  {
   "cell_type": "code",
   "execution_count": 109,
   "id": "6d68f15f-f1fa-4c1e-bfd2-d4b739a33a69",
   "metadata": {},
   "outputs": [],
   "source": [
    "chogre = [n for n in greetings if n[0] == 'h' ]"
   ]
  },
  {
   "cell_type": "code",
   "execution_count": 110,
   "id": "f3479eb7-b279-49c5-8000-3bbb27733551",
   "metadata": {},
   "outputs": [
    {
     "data": {
      "text/plain": [
       "['hello', 'hi']"
      ]
     },
     "execution_count": 110,
     "metadata": {},
     "output_type": "execute_result"
    }
   ],
   "source": [
    "chogre"
   ]
  },
  {
   "cell_type": "code",
   "execution_count": 111,
   "id": "84b3ef83-da1d-4610-bc3d-ce905b5bf4a4",
   "metadata": {},
   "outputs": [],
   "source": [
    "chogrelam = list(filter(lambda n: n[0]=='h',greetings))"
   ]
  },
  {
   "cell_type": "code",
   "execution_count": 112,
   "id": "300baa9d-ba15-4be8-ba5f-cc7ddfa05be5",
   "metadata": {},
   "outputs": [
    {
     "data": {
      "text/plain": [
       "['hello', 'hi']"
      ]
     },
     "execution_count": 112,
     "metadata": {},
     "output_type": "execute_result"
    }
   ],
   "source": [
    "chogrelam"
   ]
  },
  {
   "cell_type": "code",
   "execution_count": 119,
   "id": "c705b161-7809-4aaa-9399-857bd00eef85",
   "metadata": {},
   "outputs": [],
   "source": [
    "x = '15S'"
   ]
  },
  {
   "cell_type": "code",
   "execution_count": 115,
   "id": "7bc9bcd0-aa7b-409e-b4df-3b46f27cb52c",
   "metadata": {},
   "outputs": [],
   "source": [
    "def timeff(x):\n",
    "    n = pd.to_timedelta(x)\n",
    "    return n"
   ]
  },
  {
   "cell_type": "code",
   "execution_count": 120,
   "id": "9dd48e4b-bedd-4c9c-824d-d465e6d71086",
   "metadata": {},
   "outputs": [
    {
     "data": {
      "text/plain": [
       "Timedelta('0 days 00:00:15')"
      ]
     },
     "execution_count": 120,
     "metadata": {},
     "output_type": "execute_result"
    }
   ],
   "source": [
    "timeff(x)"
   ]
  },
  {
   "cell_type": "code",
   "execution_count": 121,
   "id": "b9f535f9-9ea8-44ad-9c08-e34ebb4f4ad1",
   "metadata": {},
   "outputs": [],
   "source": [
    "mytime = ['1H15M','15M','15M30S']"
   ]
  },
  {
   "cell_type": "code",
   "execution_count": 123,
   "id": "91067ab0-1ac7-424d-b562-9f46f432d935",
   "metadata": {},
   "outputs": [
    {
     "name": "stdout",
     "output_type": "stream",
     "text": [
      "0 days 01:15:00\n",
      "0 days 00:15:00\n",
      "0 days 00:15:30\n"
     ]
    },
    {
     "name": "stderr",
     "output_type": "stream",
     "text": [
      "/tmp/ipykernel_70/125088881.py:2: FutureWarning: Units 'M', 'Y' and 'y' do not represent unambiguous timedelta values and will be removed in a future version.\n",
      "  n = pd.to_timedelta(x)\n"
     ]
    }
   ],
   "source": [
    "for i in mytime:\n",
    "    print(timeff(i))"
   ]
  },
  {
   "cell_type": "code",
   "execution_count": 124,
   "id": "ad79da6f-2122-455e-9de6-4d7e6288d07e",
   "metadata": {},
   "outputs": [],
   "source": [
    "import numpy as np"
   ]
  },
  {
   "cell_type": "code",
   "execution_count": 125,
   "id": "64fa1b4e-7823-4fa6-a13c-9ed781526234",
   "metadata": {},
   "outputs": [
    {
     "name": "stdout",
     "output_type": "stream",
     "text": [
      "75.0\n",
      "15.0\n",
      "15.5\n"
     ]
    },
    {
     "name": "stderr",
     "output_type": "stream",
     "text": [
      "/tmp/ipykernel_70/125088881.py:2: FutureWarning: Units 'M', 'Y' and 'y' do not represent unambiguous timedelta values and will be removed in a future version.\n",
      "  n = pd.to_timedelta(x)\n"
     ]
    }
   ],
   "source": [
    "for i in mytime:\n",
    "    print(timeff(i)/np.timedelta64(1, 'm'))"
   ]
  },
  {
   "cell_type": "code",
   "execution_count": 126,
   "id": "630cbf1f-c5f3-4780-b55c-9d03c157c948",
   "metadata": {},
   "outputs": [],
   "source": [
    "x = np.array(range(1,10))\n"
   ]
  },
  {
   "cell_type": "code",
   "execution_count": 127,
   "id": "2444838a-5889-4ef2-9359-b5a057d83b9f",
   "metadata": {},
   "outputs": [
    {
     "data": {
      "text/plain": [
       "array([1, 2, 3, 4, 5, 6, 7, 8, 9])"
      ]
     },
     "execution_count": 127,
     "metadata": {},
     "output_type": "execute_result"
    }
   ],
   "source": [
    "x"
   ]
  },
  {
   "cell_type": "code",
   "execution_count": 128,
   "id": "bab0b8b5-20e7-4367-9dea-cc6e7a206894",
   "metadata": {},
   "outputs": [
    {
     "data": {
      "text/plain": [
       "numpy.ndarray"
      ]
     },
     "execution_count": 128,
     "metadata": {},
     "output_type": "execute_result"
    }
   ],
   "source": [
    "type(x)"
   ]
  },
  {
   "cell_type": "code",
   "execution_count": 131,
   "id": "370e469b-ca59-410b-8558-2d91819e5677",
   "metadata": {},
   "outputs": [
    {
     "data": {
      "text/plain": [
       "1"
      ]
     },
     "execution_count": 131,
     "metadata": {},
     "output_type": "execute_result"
    }
   ],
   "source": [
    "x.ndim"
   ]
  },
  {
   "cell_type": "code",
   "execution_count": 132,
   "id": "2d2fa432-a66a-43c3-a3dd-f717f159f4db",
   "metadata": {},
   "outputs": [
    {
     "data": {
      "text/plain": [
       "(9,)"
      ]
     },
     "execution_count": 132,
     "metadata": {},
     "output_type": "execute_result"
    }
   ],
   "source": [
    "x.shape"
   ]
  },
  {
   "cell_type": "code",
   "execution_count": 133,
   "id": "89c2384f-f3bd-4df4-a18a-6991a1e32ab2",
   "metadata": {},
   "outputs": [
    {
     "data": {
      "text/plain": [
       "9"
      ]
     },
     "execution_count": 133,
     "metadata": {},
     "output_type": "execute_result"
    }
   ],
   "source": [
    "x.size"
   ]
  },
  {
   "cell_type": "code",
   "execution_count": 135,
   "id": "b26a0d06-338c-499f-982e-dc8c17cc5ebd",
   "metadata": {},
   "outputs": [
    {
     "data": {
      "text/plain": [
       "9"
      ]
     },
     "execution_count": 135,
     "metadata": {},
     "output_type": "execute_result"
    }
   ],
   "source": [
    "x.max()"
   ]
  },
  {
   "cell_type": "code",
   "execution_count": 136,
   "id": "07e59073-febd-4ee4-b052-4b495ef97b9d",
   "metadata": {},
   "outputs": [
    {
     "data": {
      "text/plain": [
       "range"
      ]
     },
     "execution_count": 136,
     "metadata": {},
     "output_type": "execute_result"
    }
   ],
   "source": [
    "y = range(1,10)\n",
    "type(y)"
   ]
  },
  {
   "cell_type": "code",
   "execution_count": 137,
   "id": "5cc3585d-053e-41d5-9649-25a2ff16c378",
   "metadata": {},
   "outputs": [
    {
     "data": {
      "text/plain": [
       "numpy.ndarray"
      ]
     },
     "execution_count": 137,
     "metadata": {},
     "output_type": "execute_result"
    }
   ],
   "source": [
    "y = np.array(range(1,10))\n",
    "type(y)"
   ]
  },
  {
   "cell_type": "code",
   "execution_count": 138,
   "id": "95e61573-fcb3-4392-9e44-194751262081",
   "metadata": {},
   "outputs": [
    {
     "data": {
      "text/plain": [
       "list"
      ]
     },
     "execution_count": 138,
     "metadata": {},
     "output_type": "execute_result"
    }
   ],
   "source": [
    "y = list(range(1,10))\n",
    "type(y)"
   ]
  },
  {
   "cell_type": "code",
   "execution_count": 140,
   "id": "7eabc2bd-6150-42a3-9aee-005dc1f6a851",
   "metadata": {},
   "outputs": [],
   "source": [
    "y = np.array(range(1,10))"
   ]
  },
  {
   "cell_type": "code",
   "execution_count": 143,
   "id": "dc3b5d6c-b002-40bb-bfbb-0b14f1d77fc1",
   "metadata": {},
   "outputs": [],
   "source": [
    "df1 = pd.DataFrame({'key': ['b', 'b', 'a', 'c', 'a', 'a', 'b'],'data1': range(7)})"
   ]
  },
  {
   "cell_type": "code",
   "execution_count": 146,
   "id": "4d3b61c1-3bd6-4033-bab2-719c580bd80e",
   "metadata": {},
   "outputs": [
    {
     "data": {
      "text/plain": [
       "Index(['key', 'data1'], dtype='object')"
      ]
     },
     "execution_count": 146,
     "metadata": {},
     "output_type": "execute_result"
    }
   ],
   "source": [
    "df1.columns"
   ]
  },
  {
   "cell_type": "code",
   "execution_count": 151,
   "id": "33038f5d-2179-46f5-8d61-14323bdb5c25",
   "metadata": {},
   "outputs": [],
   "source": [
    "df1['key'] = df1['key'].apply(lambda n:n.upper())"
   ]
  },
  {
   "cell_type": "code",
   "execution_count": 152,
   "id": "e86b58aa-356d-4815-96b7-b1f641bb77a3",
   "metadata": {},
   "outputs": [
    {
     "data": {
      "text/html": [
       "<div>\n",
       "<style scoped>\n",
       "    .dataframe tbody tr th:only-of-type {\n",
       "        vertical-align: middle;\n",
       "    }\n",
       "\n",
       "    .dataframe tbody tr th {\n",
       "        vertical-align: top;\n",
       "    }\n",
       "\n",
       "    .dataframe thead th {\n",
       "        text-align: right;\n",
       "    }\n",
       "</style>\n",
       "<table border=\"1\" class=\"dataframe\">\n",
       "  <thead>\n",
       "    <tr style=\"text-align: right;\">\n",
       "      <th></th>\n",
       "      <th>key</th>\n",
       "      <th>data1</th>\n",
       "    </tr>\n",
       "  </thead>\n",
       "  <tbody>\n",
       "    <tr>\n",
       "      <th>0</th>\n",
       "      <td>B</td>\n",
       "      <td>0</td>\n",
       "    </tr>\n",
       "    <tr>\n",
       "      <th>1</th>\n",
       "      <td>B</td>\n",
       "      <td>1</td>\n",
       "    </tr>\n",
       "    <tr>\n",
       "      <th>2</th>\n",
       "      <td>A</td>\n",
       "      <td>2</td>\n",
       "    </tr>\n",
       "    <tr>\n",
       "      <th>3</th>\n",
       "      <td>C</td>\n",
       "      <td>3</td>\n",
       "    </tr>\n",
       "    <tr>\n",
       "      <th>4</th>\n",
       "      <td>A</td>\n",
       "      <td>4</td>\n",
       "    </tr>\n",
       "    <tr>\n",
       "      <th>5</th>\n",
       "      <td>A</td>\n",
       "      <td>5</td>\n",
       "    </tr>\n",
       "    <tr>\n",
       "      <th>6</th>\n",
       "      <td>B</td>\n",
       "      <td>6</td>\n",
       "    </tr>\n",
       "  </tbody>\n",
       "</table>\n",
       "</div>"
      ],
      "text/plain": [
       "  key  data1\n",
       "0   B      0\n",
       "1   B      1\n",
       "2   A      2\n",
       "3   C      3\n",
       "4   A      4\n",
       "5   A      5\n",
       "6   B      6"
      ]
     },
     "execution_count": 152,
     "metadata": {},
     "output_type": "execute_result"
    }
   ],
   "source": [
    "df1"
   ]
  },
  {
   "cell_type": "code",
   "execution_count": 153,
   "id": "bc647cb2-365e-4da3-8736-ba76ceaaf8db",
   "metadata": {},
   "outputs": [],
   "source": [
    "df2 = pd.DataFrame({'population': [20000,40000,50000,100000,500000],'countries': ['germany','italy','america','china','india']})"
   ]
  },
  {
   "cell_type": "code",
   "execution_count": 154,
   "id": "eae0e767-cf27-442b-9dc3-279dc8042170",
   "metadata": {},
   "outputs": [
    {
     "data": {
      "text/html": [
       "<div>\n",
       "<style scoped>\n",
       "    .dataframe tbody tr th:only-of-type {\n",
       "        vertical-align: middle;\n",
       "    }\n",
       "\n",
       "    .dataframe tbody tr th {\n",
       "        vertical-align: top;\n",
       "    }\n",
       "\n",
       "    .dataframe thead th {\n",
       "        text-align: right;\n",
       "    }\n",
       "</style>\n",
       "<table border=\"1\" class=\"dataframe\">\n",
       "  <thead>\n",
       "    <tr style=\"text-align: right;\">\n",
       "      <th></th>\n",
       "      <th>population</th>\n",
       "      <th>countries</th>\n",
       "    </tr>\n",
       "  </thead>\n",
       "  <tbody>\n",
       "    <tr>\n",
       "      <th>0</th>\n",
       "      <td>20000</td>\n",
       "      <td>germany</td>\n",
       "    </tr>\n",
       "    <tr>\n",
       "      <th>1</th>\n",
       "      <td>40000</td>\n",
       "      <td>italy</td>\n",
       "    </tr>\n",
       "    <tr>\n",
       "      <th>2</th>\n",
       "      <td>50000</td>\n",
       "      <td>america</td>\n",
       "    </tr>\n",
       "    <tr>\n",
       "      <th>3</th>\n",
       "      <td>100000</td>\n",
       "      <td>china</td>\n",
       "    </tr>\n",
       "    <tr>\n",
       "      <th>4</th>\n",
       "      <td>500000</td>\n",
       "      <td>india</td>\n",
       "    </tr>\n",
       "  </tbody>\n",
       "</table>\n",
       "</div>"
      ],
      "text/plain": [
       "   population countries\n",
       "0       20000   germany\n",
       "1       40000     italy\n",
       "2       50000   america\n",
       "3      100000     china\n",
       "4      500000     india"
      ]
     },
     "execution_count": 154,
     "metadata": {},
     "output_type": "execute_result"
    }
   ],
   "source": [
    "df2"
   ]
  },
  {
   "cell_type": "code",
   "execution_count": 155,
   "id": "ebf6ad5f-bd79-4ddd-b94c-1de34a85f9f2",
   "metadata": {},
   "outputs": [
    {
     "data": {
      "text/plain": [
       "<pandas.core.indexing._iLocIndexer at 0x7f539487afc0>"
      ]
     },
     "execution_count": 155,
     "metadata": {},
     "output_type": "execute_result"
    }
   ],
   "source": [
    "df2.iloc(1)"
   ]
  },
  {
   "cell_type": "code",
   "execution_count": 1,
   "id": "eea0e72e-3cba-4b6b-bce7-a0fb7915bc49",
   "metadata": {},
   "outputs": [],
   "source": [
    "#Dec22023"
   ]
  },
  {
   "cell_type": "code",
   "execution_count": 2,
   "id": "df200ef6-c92f-4d64-89ba-e42faa40dff8",
   "metadata": {},
   "outputs": [],
   "source": [
    "list = [10,20,45.4,35,2223.3333]"
   ]
  },
  {
   "cell_type": "code",
   "execution_count": 3,
   "id": "2064852f-1292-4b26-9f3f-0b017b22c958",
   "metadata": {},
   "outputs": [
    {
     "data": {
      "text/plain": [
       "list"
      ]
     },
     "execution_count": 3,
     "metadata": {},
     "output_type": "execute_result"
    }
   ],
   "source": [
    "type(list)"
   ]
  },
  {
   "cell_type": "code",
   "execution_count": 4,
   "id": "146d5699-119d-4ea8-a995-e302dd3cdeb1",
   "metadata": {},
   "outputs": [],
   "source": [
    "list = ['welcome',23,23,4,'hello']"
   ]
  },
  {
   "cell_type": "code",
   "execution_count": 5,
   "id": "6ba0d2a7-51f8-411f-b801-03b95d1c263e",
   "metadata": {},
   "outputs": [
    {
     "data": {
      "text/plain": [
       "list"
      ]
     },
     "execution_count": 5,
     "metadata": {},
     "output_type": "execute_result"
    }
   ],
   "source": [
    "type(list)"
   ]
  },
  {
   "cell_type": "code",
   "execution_count": 6,
   "id": "e3d219f4-a5c3-4921-a811-a275549e4737",
   "metadata": {},
   "outputs": [
    {
     "name": "stdout",
     "output_type": "stream",
     "text": [
      "welcome <class 'str'>\n",
      "23 <class 'int'>\n",
      "23 <class 'int'>\n",
      "4 <class 'int'>\n",
      "hello <class 'str'>\n"
     ]
    }
   ],
   "source": [
    "for i in list:\n",
    "    print(i,type(i))"
   ]
  },
  {
   "cell_type": "code",
   "execution_count": 7,
   "id": "9182e07b-edbb-4698-9f91-696e1909aa5f",
   "metadata": {},
   "outputs": [],
   "source": [
    "set1 = (1,2,2,3,2,3,4,4)"
   ]
  },
  {
   "cell_type": "code",
   "execution_count": 8,
   "id": "1d895e9f-aedd-4423-af49-38c9b2e14933",
   "metadata": {},
   "outputs": [
    {
     "data": {
      "text/plain": [
       "tuple"
      ]
     },
     "execution_count": 8,
     "metadata": {},
     "output_type": "execute_result"
    }
   ],
   "source": [
    "type(set1)"
   ]
  },
  {
   "cell_type": "code",
   "execution_count": 9,
   "id": "ec833023-811b-4f96-8c83-0958b88a8be3",
   "metadata": {},
   "outputs": [],
   "source": [
    "actset = set(set1)"
   ]
  },
  {
   "cell_type": "code",
   "execution_count": 10,
   "id": "8a5e9af1-b3d4-4926-a947-69c337704e30",
   "metadata": {},
   "outputs": [
    {
     "data": {
      "text/plain": [
       "set"
      ]
     },
     "execution_count": 10,
     "metadata": {},
     "output_type": "execute_result"
    }
   ],
   "source": [
    "type(actset)"
   ]
  },
  {
   "cell_type": "code",
   "execution_count": 11,
   "id": "b2c4bd1b-b336-4753-85a7-112562e8b985",
   "metadata": {},
   "outputs": [
    {
     "data": {
      "text/plain": [
       "{1, 2, 3, 4}"
      ]
     },
     "execution_count": 11,
     "metadata": {},
     "output_type": "execute_result"
    }
   ],
   "source": [
    "actset"
   ]
  },
  {
   "cell_type": "code",
   "execution_count": 12,
   "id": "e5f38cfa-56d8-4d58-8596-fb84d7854b22",
   "metadata": {},
   "outputs": [],
   "source": [
    "dict = ({1:'welcome'},{2:'hello'})"
   ]
  },
  {
   "cell_type": "code",
   "execution_count": 13,
   "id": "50bea4ff-9ea4-4361-8a4d-0950d903db8a",
   "metadata": {},
   "outputs": [
    {
     "data": {
      "text/plain": [
       "tuple"
      ]
     },
     "execution_count": 13,
     "metadata": {},
     "output_type": "execute_result"
    }
   ],
   "source": [
    "type(dict)"
   ]
  },
  {
   "cell_type": "code",
   "execution_count": 16,
   "id": "0e453b2b-f6f4-46b3-bf7e-7bb7a4c91f4f",
   "metadata": {},
   "outputs": [],
   "source": [
    "import numpy as np"
   ]
  },
  {
   "cell_type": "code",
   "execution_count": 17,
   "id": "04238154-58c3-4373-8a63-6f66fdb90661",
   "metadata": {},
   "outputs": [
    {
     "data": {
      "text/plain": [
       "['welcome', 23, 23, 4, 'hello']"
      ]
     },
     "execution_count": 17,
     "metadata": {},
     "output_type": "execute_result"
    }
   ],
   "source": [
    "list"
   ]
  },
  {
   "cell_type": "code",
   "execution_count": 18,
   "id": "b9767772-ae67-40e2-86a2-f124546755a4",
   "metadata": {},
   "outputs": [],
   "source": [
    "tryconv = np.array(list)"
   ]
  },
  {
   "cell_type": "code",
   "execution_count": 19,
   "id": "6ad17d3b-38d5-4380-966c-68ff127f8180",
   "metadata": {},
   "outputs": [
    {
     "data": {
      "text/plain": [
       "numpy.ndarray"
      ]
     },
     "execution_count": 19,
     "metadata": {},
     "output_type": "execute_result"
    }
   ],
   "source": [
    "type(tryconv)"
   ]
  },
  {
   "cell_type": "code",
   "execution_count": 20,
   "id": "0137ce34-7cb0-4968-b20b-fbbde93b642f",
   "metadata": {},
   "outputs": [
    {
     "name": "stdout",
     "output_type": "stream",
     "text": [
      "welcome <class 'numpy.str_'>\n",
      "23 <class 'numpy.str_'>\n",
      "23 <class 'numpy.str_'>\n",
      "4 <class 'numpy.str_'>\n",
      "hello <class 'numpy.str_'>\n"
     ]
    }
   ],
   "source": [
    "for i in tryconv:\n",
    "    print(i,type(i))"
   ]
  },
  {
   "cell_type": "code",
   "execution_count": 21,
   "id": "b39b0e91-11dd-4f14-86c9-5d61db5d632e",
   "metadata": {},
   "outputs": [
    {
     "name": "stdout",
     "output_type": "stream",
     "text": [
      "welcome welcomewelcomewelcomewelcomewelcomewelcomewelcomewelcomewelcomewelcomewelcomewelcomewelcomewelcomewelcomewelcomewelcomewelcomewelcomewelcomewelcomewelcomewelcomewelcomewelcomewelcomewelcomewelcomewelcomewelcomewelcomewelcomewelcomewelcomewelcomewelcomewelcomewelcomewelcomewelcomewelcomewelcomewelcomewelcomewelcomewelcomewelcomewelcomewelcomewelcomewelcomewelcomewelcomewelcomewelcomewelcomewelcomewelcomewelcomewelcomewelcomewelcomewelcomewelcomewelcomewelcomewelcomewelcomewelcomewelcomewelcomewelcomewelcomewelcomewelcomewelcomewelcomewelcomewelcomewelcomewelcomewelcomewelcomewelcomewelcomewelcomewelcomewelcomewelcomewelcomewelcomewelcomewelcomewelcomewelcomewelcomewelcomewelcomewelcomewelcome\n",
      "23 23232323232323232323232323232323232323232323232323232323232323232323232323232323232323232323232323232323232323232323232323232323232323232323232323232323232323232323232323232323232323232323232323232323\n",
      "23 23232323232323232323232323232323232323232323232323232323232323232323232323232323232323232323232323232323232323232323232323232323232323232323232323232323232323232323232323232323232323232323232323232323\n",
      "4 4444444444444444444444444444444444444444444444444444444444444444444444444444444444444444444444444444\n",
      "hello hellohellohellohellohellohellohellohellohellohellohellohellohellohellohellohellohellohellohellohellohellohellohellohellohellohellohellohellohellohellohellohellohellohellohellohellohellohellohellohellohellohellohellohellohellohellohellohellohellohellohellohellohellohellohellohellohellohellohellohellohellohellohellohellohellohellohellohellohellohellohellohellohellohellohellohellohellohellohellohellohellohellohellohellohellohellohellohellohellohellohellohellohellohellohellohellohellohellohellohello\n"
     ]
    }
   ],
   "source": [
    "for i in tryconv:\n",
    "    print(i,i*100)"
   ]
  },
  {
   "cell_type": "code",
   "execution_count": 22,
   "id": "0150149b-6330-4e4c-9b96-b8b4da43e0a2",
   "metadata": {},
   "outputs": [
    {
     "data": {
      "text/plain": [
       "array(['welcome', '23', '23', '4', 'hello'], dtype='<U21')"
      ]
     },
     "execution_count": 22,
     "metadata": {},
     "output_type": "execute_result"
    }
   ],
   "source": [
    "tryconv\n"
   ]
  },
  {
   "cell_type": "code",
   "execution_count": 24,
   "id": "dc694d92-b66d-44bf-b9c9-45e8baac5e16",
   "metadata": {},
   "outputs": [
    {
     "data": {
      "text/plain": [
       "1"
      ]
     },
     "execution_count": 24,
     "metadata": {},
     "output_type": "execute_result"
    }
   ],
   "source": [
    "tryconv.ndim"
   ]
  },
  {
   "cell_type": "code",
   "execution_count": 25,
   "id": "85fbb4fb-ad3f-42f3-961e-714f039e5cb6",
   "metadata": {},
   "outputs": [
    {
     "data": {
      "text/plain": [
       "(5,)"
      ]
     },
     "execution_count": 25,
     "metadata": {},
     "output_type": "execute_result"
    }
   ],
   "source": [
    "tryconv.shape\n"
   ]
  },
  {
   "cell_type": "code",
   "execution_count": 26,
   "id": "d3fb3d89-f632-48a6-9e82-c4f6339064db",
   "metadata": {},
   "outputs": [
    {
     "data": {
      "text/plain": [
       "5"
      ]
     },
     "execution_count": 26,
     "metadata": {},
     "output_type": "execute_result"
    }
   ],
   "source": [
    "tryconv.size"
   ]
  },
  {
   "cell_type": "code",
   "execution_count": 27,
   "id": "217a32cd-2ae7-486f-ac8b-b6c0121bc974",
   "metadata": {},
   "outputs": [
    {
     "data": {
      "text/plain": [
       "dtype('<U21')"
      ]
     },
     "execution_count": 27,
     "metadata": {},
     "output_type": "execute_result"
    }
   ],
   "source": [
    "tryconv.dtype"
   ]
  },
  {
   "cell_type": "code",
   "execution_count": 28,
   "id": "67c30d50-152c-47c5-9ffa-54dc27294072",
   "metadata": {},
   "outputs": [
    {
     "data": {
      "text/plain": [
       "84"
      ]
     },
     "execution_count": 28,
     "metadata": {},
     "output_type": "execute_result"
    }
   ],
   "source": [
    "tryconv.itemsize"
   ]
  },
  {
   "cell_type": "code",
   "execution_count": 30,
   "id": "e0576fe8-56d2-4156-9bcd-0659128842d8",
   "metadata": {},
   "outputs": [
    {
     "data": {
      "text/plain": [
       "array([['welcome'],\n",
       "       ['23'],\n",
       "       ['23'],\n",
       "       ['4'],\n",
       "       ['hello']], dtype='<U21')"
      ]
     },
     "execution_count": 30,
     "metadata": {},
     "output_type": "execute_result"
    }
   ],
   "source": [
    "tryconv.reshape(5,1)"
   ]
  },
  {
   "cell_type": "code",
   "execution_count": 31,
   "id": "efaff714-7e22-4045-a622-a2edfdb577f4",
   "metadata": {},
   "outputs": [
    {
     "data": {
      "text/plain": [
       "array(['welcome', '23', '23', '4', 'hello'], dtype='<U21')"
      ]
     },
     "execution_count": 31,
     "metadata": {},
     "output_type": "execute_result"
    }
   ],
   "source": [
    "tryconv"
   ]
  },
  {
   "cell_type": "code",
   "execution_count": 32,
   "id": "d0479a16-ea2b-46b6-8a56-a58052dcef95",
   "metadata": {},
   "outputs": [],
   "source": [
    "n = tryconv.reshape(5,1)"
   ]
  },
  {
   "cell_type": "code",
   "execution_count": 33,
   "id": "1d1ca19d-d190-4a89-9e04-c34ad07607cf",
   "metadata": {},
   "outputs": [
    {
     "data": {
      "text/plain": [
       "(5, 1)"
      ]
     },
     "execution_count": 33,
     "metadata": {},
     "output_type": "execute_result"
    }
   ],
   "source": [
    "n.shape"
   ]
  },
  {
   "cell_type": "code",
   "execution_count": 35,
   "id": "11ba7fcb-2728-4669-8bb2-23683c8ff4e3",
   "metadata": {},
   "outputs": [
    {
     "data": {
      "text/plain": [
       "(5,)"
      ]
     },
     "execution_count": 35,
     "metadata": {},
     "output_type": "execute_result"
    }
   ],
   "source": [
    "tryconv.shape"
   ]
  },
  {
   "cell_type": "code",
   "execution_count": 36,
   "id": "75476e47-a4cc-4d33-ac77-8ba9cbbe3308",
   "metadata": {},
   "outputs": [
    {
     "data": {
      "text/plain": [
       "5"
      ]
     },
     "execution_count": 36,
     "metadata": {},
     "output_type": "execute_result"
    }
   ],
   "source": [
    "tryconv.size"
   ]
  },
  {
   "cell_type": "code",
   "execution_count": 38,
   "id": "738839d1-5dd8-4ac9-bab5-3c3554044e8c",
   "metadata": {},
   "outputs": [
    {
     "data": {
      "text/plain": [
       "5"
      ]
     },
     "execution_count": 38,
     "metadata": {},
     "output_type": "execute_result"
    }
   ],
   "source": [
    "n.size"
   ]
  },
  {
   "cell_type": "code",
   "execution_count": 39,
   "id": "c0007652-2559-45a8-a6de-66d3481acb71",
   "metadata": {},
   "outputs": [],
   "source": [
    "listoflist = [[1,2,3],[3,4,5],[4,5,6]]"
   ]
  },
  {
   "cell_type": "code",
   "execution_count": 40,
   "id": "154f1867-9c43-46ac-817d-9a882c76e361",
   "metadata": {},
   "outputs": [
    {
     "data": {
      "text/plain": [
       "list"
      ]
     },
     "execution_count": 40,
     "metadata": {},
     "output_type": "execute_result"
    }
   ],
   "source": [
    "type(listoflist)"
   ]
  },
  {
   "cell_type": "code",
   "execution_count": 41,
   "id": "a25e680c-345b-4cab-9672-8826caf71439",
   "metadata": {},
   "outputs": [
    {
     "name": "stdout",
     "output_type": "stream",
     "text": [
      "[1, 2, 3] <class 'list'>\n",
      "[3, 4, 5] <class 'list'>\n",
      "[4, 5, 6] <class 'list'>\n"
     ]
    }
   ],
   "source": [
    "for i in listoflist:\n",
    "    print(i,type(i))"
   ]
  },
  {
   "cell_type": "code",
   "execution_count": 44,
   "id": "116eeb94-d8cf-40ee-99d3-e3856c64db5f",
   "metadata": {},
   "outputs": [
    {
     "name": "stdout",
     "output_type": "stream",
     "text": [
      "[1, 2, 3] 1 this is type of element:  <class 'list'> this is type of element in element: <class 'int'>\n",
      "[1, 2, 3] 2 this is type of element:  <class 'list'> this is type of element in element: <class 'int'>\n",
      "[1, 2, 3] 3 this is type of element:  <class 'list'> this is type of element in element: <class 'int'>\n",
      "[3, 4, 5] 3 this is type of element:  <class 'list'> this is type of element in element: <class 'int'>\n",
      "[3, 4, 5] 4 this is type of element:  <class 'list'> this is type of element in element: <class 'int'>\n",
      "[3, 4, 5] 5 this is type of element:  <class 'list'> this is type of element in element: <class 'int'>\n",
      "[4, 5, 6] 4 this is type of element:  <class 'list'> this is type of element in element: <class 'int'>\n",
      "[4, 5, 6] 5 this is type of element:  <class 'list'> this is type of element in element: <class 'int'>\n",
      "[4, 5, 6] 6 this is type of element:  <class 'list'> this is type of element in element: <class 'int'>\n"
     ]
    }
   ],
   "source": [
    "for i in listoflist:\n",
    "    for j in i:\n",
    "        print(i,j,'this is type of element: ',type(i),'this is type of element in element:', type(j))"
   ]
  },
  {
   "cell_type": "code",
   "execution_count": 45,
   "id": "c80074b7-e53a-4f84-8019-134c93ece250",
   "metadata": {},
   "outputs": [],
   "source": [
    "arr = np.array(listoflist)"
   ]
  },
  {
   "cell_type": "code",
   "execution_count": 46,
   "id": "b9c68fcc-ef93-48db-ac27-87abe9c5ec2e",
   "metadata": {},
   "outputs": [
    {
     "data": {
      "text/plain": [
       "array([[1, 2, 3],\n",
       "       [3, 4, 5],\n",
       "       [4, 5, 6]])"
      ]
     },
     "execution_count": 46,
     "metadata": {},
     "output_type": "execute_result"
    }
   ],
   "source": [
    "arr"
   ]
  },
  {
   "cell_type": "code",
   "execution_count": 49,
   "id": "c25ba188-32c4-4fb3-8156-506eece8321d",
   "metadata": {},
   "outputs": [
    {
     "name": "stdout",
     "output_type": "stream",
     "text": [
      "[1 2 3] 1 <class 'numpy.int64'>\n",
      "[1 2 3] 2 <class 'numpy.int64'>\n",
      "[1 2 3] 3 <class 'numpy.int64'>\n",
      "[3 4 5] 3 <class 'numpy.int64'>\n",
      "[3 4 5] 4 <class 'numpy.int64'>\n",
      "[3 4 5] 5 <class 'numpy.int64'>\n",
      "[4 5 6] 4 <class 'numpy.int64'>\n",
      "[4 5 6] 5 <class 'numpy.int64'>\n",
      "[4 5 6] 6 <class 'numpy.int64'>\n"
     ]
    }
   ],
   "source": [
    "for i in arr:\n",
    "    for j in i:\n",
    "        print(i,j,type(j))"
   ]
  },
  {
   "cell_type": "code",
   "execution_count": 50,
   "id": "db5b090e-8e2e-4398-87fa-f1da9313c4ae",
   "metadata": {},
   "outputs": [],
   "source": [
    "listoflist2 = [[1,2,3.5],['hello','welcome','cool']]"
   ]
  },
  {
   "cell_type": "code",
   "execution_count": 51,
   "id": "ee2256fa-67dd-481b-af8a-647b0c36c35d",
   "metadata": {},
   "outputs": [],
   "source": [
    "arr = np.array(listoflist2)"
   ]
  },
  {
   "cell_type": "code",
   "execution_count": 52,
   "id": "14ab470e-8f52-49f8-9f22-26a1a6c4645e",
   "metadata": {},
   "outputs": [
    {
     "data": {
      "text/plain": [
       "array([['1', '2', '3.5'],\n",
       "       ['hello', 'welcome', 'cool']], dtype='<U32')"
      ]
     },
     "execution_count": 52,
     "metadata": {},
     "output_type": "execute_result"
    }
   ],
   "source": [
    "arr"
   ]
  },
  {
   "cell_type": "code",
   "execution_count": 53,
   "id": "45cb5331-4c6e-4a4e-9e24-c3040b4d6846",
   "metadata": {},
   "outputs": [
    {
     "name": "stdout",
     "output_type": "stream",
     "text": [
      "['1' '2' '3.5'] 1 <class 'numpy.str_'>\n",
      "['1' '2' '3.5'] 2 <class 'numpy.str_'>\n",
      "['1' '2' '3.5'] 3.5 <class 'numpy.str_'>\n",
      "['hello' 'welcome' 'cool'] hello <class 'numpy.str_'>\n",
      "['hello' 'welcome' 'cool'] welcome <class 'numpy.str_'>\n",
      "['hello' 'welcome' 'cool'] cool <class 'numpy.str_'>\n"
     ]
    }
   ],
   "source": [
    "for i in arr:\n",
    "    for j in i:\n",
    "        print(i,j,type(j))"
   ]
  },
  {
   "cell_type": "code",
   "execution_count": 54,
   "id": "26b484f3-6588-4f8e-b73b-1bf2c4b55c30",
   "metadata": {},
   "outputs": [
    {
     "data": {
      "text/plain": [
       "2"
      ]
     },
     "execution_count": 54,
     "metadata": {},
     "output_type": "execute_result"
    }
   ],
   "source": [
    "arr.ndim"
   ]
  },
  {
   "cell_type": "code",
   "execution_count": 55,
   "id": "7fc1c728-6d46-4b45-be71-34b2be3df880",
   "metadata": {},
   "outputs": [
    {
     "data": {
      "text/plain": [
       "6"
      ]
     },
     "execution_count": 55,
     "metadata": {},
     "output_type": "execute_result"
    }
   ],
   "source": [
    "arr.size"
   ]
  },
  {
   "cell_type": "code",
   "execution_count": 56,
   "id": "823e0e52-0a29-44d4-a2ed-d068dc2a0e8d",
   "metadata": {},
   "outputs": [
    {
     "data": {
      "text/plain": [
       "(2, 3)"
      ]
     },
     "execution_count": 56,
     "metadata": {},
     "output_type": "execute_result"
    }
   ],
   "source": [
    "arr.shape"
   ]
  },
  {
   "cell_type": "code",
   "execution_count": 57,
   "id": "f275e884-2fe6-47e6-87f9-b642e1c127b1",
   "metadata": {},
   "outputs": [
    {
     "data": {
      "text/plain": [
       "128"
      ]
     },
     "execution_count": 57,
     "metadata": {},
     "output_type": "execute_result"
    }
   ],
   "source": [
    "arr.itemsize"
   ]
  },
  {
   "cell_type": "code",
   "execution_count": 2,
   "id": "4c74e7c5-55f5-40ca-acbc-1553847ca5b1",
   "metadata": {},
   "outputs": [],
   "source": [
    "import numpy as np\n"
   ]
  },
  {
   "cell_type": "code",
   "execution_count": 7,
   "id": "ff2d2602-dac1-4a57-8f21-dfcfab396cf9",
   "metadata": {},
   "outputs": [],
   "source": [
    "auctiondata = np.loadtxt('auction.csv',delimiter=',',dtype='str')"
   ]
  },
  {
   "cell_type": "code",
   "execution_count": 8,
   "id": "6a69c745-3351-45d9-b92e-5dca5ff7c354",
   "metadata": {},
   "outputs": [
    {
     "data": {
      "text/plain": [
       "array([['auctionid', 'bid', 'bidtime', ..., 'price', 'item',\n",
       "        'auction_type'],\n",
       "       ['1638893549', '175', '2.230949', ..., '177.5',\n",
       "        'Cartier wristwatch', '3 day auction'],\n",
       "       ['1638893549', '100', '2.600116', ..., '177.5',\n",
       "        'Cartier wristwatch', '3 day auction'],\n",
       "       ...,\n",
       "       ['8214889177', '90', '6.428738', ..., '90.01',\n",
       "        'Xbox game console', '7 day auction'],\n",
       "       ['8214889177', '88', '6.760081', ..., '90.01',\n",
       "        'Xbox game console', '7 day auction'],\n",
       "       ['8214889177', '90.01', '6.988831', ..., '90.01',\n",
       "        'Xbox game console', '7 day auction']], dtype='<U33')"
      ]
     },
     "execution_count": 8,
     "metadata": {},
     "output_type": "execute_result"
    }
   ],
   "source": [
    "auctiondata"
   ]
  },
  {
   "cell_type": "code",
   "execution_count": 9,
   "id": "0c47accb-1171-4222-9525-01fe1d4f9788",
   "metadata": {},
   "outputs": [
    {
     "data": {
      "text/plain": [
       "96138"
      ]
     },
     "execution_count": 9,
     "metadata": {},
     "output_type": "execute_result"
    }
   ],
   "source": [
    "auctiondata.size"
   ]
  },
  {
   "cell_type": "code",
   "execution_count": 10,
   "id": "67632488-b215-4a80-bce8-d1a670e101f7",
   "metadata": {},
   "outputs": [
    {
     "data": {
      "text/plain": [
       "2"
      ]
     },
     "execution_count": 10,
     "metadata": {},
     "output_type": "execute_result"
    }
   ],
   "source": [
    "auctiondata.ndim"
   ]
  },
  {
   "cell_type": "code",
   "execution_count": 11,
   "id": "5f40b504-5a58-4731-8102-77fef10bfa39",
   "metadata": {},
   "outputs": [
    {
     "data": {
      "text/plain": [
       "(10682, 9)"
      ]
     },
     "execution_count": 11,
     "metadata": {},
     "output_type": "execute_result"
    }
   ],
   "source": [
    "auctiondata.shape"
   ]
  },
  {
   "cell_type": "code",
   "execution_count": 12,
   "id": "0b44b068-6c25-4524-ab34-c4c75131128a",
   "metadata": {},
   "outputs": [
    {
     "data": {
      "text/plain": [
       "array(['auctionid', 'bid', 'bidtime', 'bidder', 'bidderrate', 'openbid',\n",
       "       'price', 'item', 'auction_type'], dtype='<U33')"
      ]
     },
     "execution_count": 12,
     "metadata": {},
     "output_type": "execute_result"
    }
   ],
   "source": [
    "auctiondata[0]"
   ]
  },
  {
   "cell_type": "code",
   "execution_count": 13,
   "id": "ed8a4ccd-f045-49d0-a6b5-0fe9d5d4f3fb",
   "metadata": {},
   "outputs": [
    {
     "data": {
      "text/plain": [
       "array([['auctionid', 'bid', 'bidtime', 'bidder', 'bidderrate', 'openbid',\n",
       "        'price', 'item', 'auction_type'],\n",
       "       ['1638893549', '175', '2.230949', 'schadenfreud', '0', '99',\n",
       "        '177.5', 'Cartier wristwatch', '3 day auction']], dtype='<U33')"
      ]
     },
     "execution_count": 13,
     "metadata": {},
     "output_type": "execute_result"
    }
   ],
   "source": [
    "auctiondata[0:2]"
   ]
  },
  {
   "cell_type": "code",
   "execution_count": 21,
   "id": "e6979248-7e0f-4850-9d0c-8d0109c511e5",
   "metadata": {},
   "outputs": [
    {
     "data": {
      "text/plain": [
       "array([['auctionid', 'bid', 'bidtime', ..., 'price', 'item',\n",
       "        'auction_type'],\n",
       "       ['1638893549', '175', '2.230949', ..., '177.5',\n",
       "        'Cartier wristwatch', '3 day auction'],\n",
       "       ['1638893549', '100', '2.600116', ..., '177.5',\n",
       "        'Cartier wristwatch', '3 day auction'],\n",
       "       ...,\n",
       "       ['8214889177', '90', '6.428738', ..., '90.01',\n",
       "        'Xbox game console', '7 day auction'],\n",
       "       ['8214889177', '88', '6.760081', ..., '90.01',\n",
       "        'Xbox game console', '7 day auction'],\n",
       "       ['8214889177', '90.01', '6.988831', ..., '90.01',\n",
       "        'Xbox game console', '7 day auction']], dtype='<U33')"
      ]
     },
     "execution_count": 21,
     "metadata": {},
     "output_type": "execute_result"
    }
   ],
   "source": [
    "auctiondata"
   ]
  },
  {
   "cell_type": "code",
   "execution_count": 19,
   "id": "97e302d4-19fd-4fc1-a30f-0f185c016b47",
   "metadata": {},
   "outputs": [
    {
     "data": {
      "text/plain": [
       "array([['auctionid', 'bid', 'bidtime', ..., 'price', 'item',\n",
       "        'auction_type'],\n",
       "       ['1638893549', '175', '2.230949', ..., '177.5',\n",
       "        'Cartier wristwatch', '3 day auction'],\n",
       "       ['1638893549', '100', '2.600116', ..., '177.5',\n",
       "        'Cartier wristwatch', '3 day auction'],\n",
       "       ...,\n",
       "       ['8214889177', '90', '6.428738', ..., '90.01',\n",
       "        'Xbox game console', '7 day auction'],\n",
       "       ['8214889177', '88', '6.760081', ..., '90.01',\n",
       "        'Xbox game console', '7 day auction'],\n",
       "       ['8214889177', '90.01', '6.988831', ..., '90.01',\n",
       "        'Xbox game console', '7 day auction']], dtype='<U33')"
      ]
     },
     "execution_count": 19,
     "metadata": {},
     "output_type": "execute_result"
    }
   ],
   "source": [
    "popdata"
   ]
  },
  {
   "cell_type": "code",
   "execution_count": 23,
   "id": "81f021b4-82e1-4ca6-85ef-e6d960ea840c",
   "metadata": {},
   "outputs": [],
   "source": [
    "new_cyclist_trials = np.array([[10,15,17,26,13,19],[12,13,14,24,14,23]])"
   ]
  },
  {
   "cell_type": "code",
   "execution_count": 26,
   "id": "b8cb89aa-5d43-4064-bb5d-e8a8cc543682",
   "metadata": {},
   "outputs": [],
   "source": [
    "collective_data = new_cyclist_trials.ravel()"
   ]
  },
  {
   "cell_type": "code",
   "execution_count": 30,
   "id": "b57cb144-d08a-4b69-be3c-a4829931cef4",
   "metadata": {},
   "outputs": [
    {
     "name": "stdout",
     "output_type": "stream",
     "text": [
      "[array([10, 15, 17]), array([26, 13, 19]), array([12, 13, 14]), array([24, 14, 23])]\n"
     ]
    }
   ],
   "source": [
    "print(np.hsplit(collective_data,4))"
   ]
  },
  {
   "cell_type": "code",
   "execution_count": 31,
   "id": "776debe7-9978-41a5-889e-31f8fb985433",
   "metadata": {},
   "outputs": [],
   "source": [
    "countries = np.array(['luxembourg','Norway','Japan','Switzerland','USA'])"
   ]
  },
  {
   "cell_type": "code",
   "execution_count": 32,
   "id": "9d189f59-1315-409c-b16f-35e138bfe756",
   "metadata": {},
   "outputs": [
    {
     "data": {
      "text/plain": [
       "array(['luxembourg', 'Norway', 'Japan', 'Switzerland', 'USA'],\n",
       "      dtype='<U11')"
      ]
     },
     "execution_count": 32,
     "metadata": {},
     "output_type": "execute_result"
    }
   ],
   "source": [
    "countries"
   ]
  },
  {
   "cell_type": "code",
   "execution_count": 33,
   "id": "f564f861-fcad-4182-afa5-bcdbf6c0cd09",
   "metadata": {},
   "outputs": [],
   "source": [
    "gdp_per_capita = np.array([52056.1234,40345.4565,45456.78564,33245.56782,34544.45888])"
   ]
  },
  {
   "cell_type": "code",
   "execution_count": 35,
   "id": "05653f12-1a2f-49a0-861c-7b8845f405df",
   "metadata": {},
   "outputs": [
    {
     "data": {
      "text/plain": [
       "array([52056.1234 , 40345.4565 , 45456.78564, 33245.56782, 34544.45888])"
      ]
     },
     "execution_count": 35,
     "metadata": {},
     "output_type": "execute_result"
    }
   ],
   "source": [
    "gdp_per_capita"
   ]
  },
  {
   "cell_type": "code",
   "execution_count": 41,
   "id": "06c4ae59-30f1-4c33-83b8-02bc3f95102b",
   "metadata": {},
   "outputs": [],
   "source": [
    "max_gdp_per_capita = gdp_per_capita.max()"
   ]
  },
  {
   "cell_type": "code",
   "execution_count": 42,
   "id": "3ccb603c-a852-4f45-8cd7-7edc36603052",
   "metadata": {},
   "outputs": [
    {
     "data": {
      "text/plain": [
       "52056.1234"
      ]
     },
     "execution_count": 42,
     "metadata": {},
     "output_type": "execute_result"
    }
   ],
   "source": [
    "max_gdp_per_capita"
   ]
  },
  {
   "cell_type": "code",
   "execution_count": 43,
   "id": "e954e54f-2dff-4b43-bd03-000dbb5ca0b8",
   "metadata": {},
   "outputs": [],
   "source": [
    "max_gdp_per_capita = gdp_per_capita.argmax()"
   ]
  },
  {
   "cell_type": "code",
   "execution_count": 44,
   "id": "7d746665-07af-45af-a18b-6b1edff79bd6",
   "metadata": {},
   "outputs": [
    {
     "data": {
      "text/plain": [
       "0"
      ]
     },
     "execution_count": 44,
     "metadata": {},
     "output_type": "execute_result"
    }
   ],
   "source": [
    "max_gdp_per_capita"
   ]
  },
  {
   "cell_type": "code",
   "execution_count": 45,
   "id": "073e5fa1-a0ec-4803-9f77-99636c33aa13",
   "metadata": {},
   "outputs": [],
   "source": [
    "country_with_max_gdp_per_capita = countries[max_gdp_per_capita]"
   ]
  },
  {
   "cell_type": "code",
   "execution_count": 46,
   "id": "4fd2004f-0dc8-407e-8b66-dd625c89360c",
   "metadata": {},
   "outputs": [
    {
     "data": {
      "text/plain": [
       "'luxembourg'"
      ]
     },
     "execution_count": 46,
     "metadata": {},
     "output_type": "execute_result"
    }
   ],
   "source": [
    "country_with_max_gdp_per_capita"
   ]
  },
  {
   "cell_type": "code",
   "execution_count": 47,
   "id": "3f7fd399-7bb8-4b41-8823-7c209932ad32",
   "metadata": {},
   "outputs": [
    {
     "name": "stdout",
     "output_type": "stream",
     "text": [
      "country luxembourg per capita gdp is 52056.1234\n",
      "country Norway per capita gdp is 40345.4565\n",
      "country Japan per capita gdp is 45456.78564\n",
      "country Switzerland per capita gdp is 33245.56782\n"
     ]
    }
   ],
   "source": [
    "for i in range(0,len(countries)-1):\n",
    "    country = countries[i]\n",
    "    country_gdp_per_capita = gdp_per_capita[i]\n",
    "    print('country {} per capita gdp is {}'.format(country,country_gdp_per_capita))\n"
   ]
  },
  {
   "cell_type": "code",
   "execution_count": null,
   "id": "3ab2e87c-727e-4f57-ab8d-8400222ca0a6",
   "metadata": {},
   "outputs": [],
   "source": []
  }
 ],
 "metadata": {
  "kernelspec": {
   "display_name": "Python 3 [3.10]",
   "language": "python",
   "name": "python3"
  },
  "language_info": {
   "codemirror_mode": {
    "name": "ipython",
    "version": 3
   },
   "file_extension": ".py",
   "mimetype": "text/x-python",
   "name": "python",
   "nbconvert_exporter": "python",
   "pygments_lexer": "ipython3",
   "version": "3.10.2"
  }
 },
 "nbformat": 4,
 "nbformat_minor": 5
}
