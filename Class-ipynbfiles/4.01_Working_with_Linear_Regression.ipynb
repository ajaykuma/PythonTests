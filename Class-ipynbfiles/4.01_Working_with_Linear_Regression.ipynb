{
 "cells": [
  {
   "cell_type": "markdown",
   "metadata": {
    "id": "Iz1N-R2_lZXU"
   },
   "source": [
    "## **Working with Linear Regression**"
   ]
  },
  {
   "cell_type": "markdown",
   "metadata": {
    "id": "q1QOfSodb3Nx"
   },
   "source": [
    "## Step 1: Data Preparation\n",
    "\n",
    "- Import the required libraries\n",
    "- Load the Boston housing data set\n",
    "- Prepare the data set\n"
   ]
  },
  {
   "cell_type": "code",
   "execution_count": 10,
   "metadata": {
    "id": "f2bWUm6Rb3N0"
   },
   "outputs": [],
   "source": [
    "import numpy as np\n",
    "import pandas as pd\n",
    "import matplotlib.pyplot as plt\n",
    "import seaborn as sns\n",
    "from sklearn import datasets"
   ]
  },
  {
   "cell_type": "code",
   "execution_count": 11,
   "metadata": {
    "id": "VGzEXIplb3N1"
   },
   "outputs": [],
   "source": [
    "#https://www.kaggle.com/code/alexandrecazals/sklearn-boston-housing-dataset\n",
    "#https://fairlearn.org/main/user_guide/datasets/boston_housing_data.html\n",
    "from sklearn.datasets import fetch_openml\n",
    "\n",
    "boston = fetch_openml(name='boston', version=1, as_frame=True, parser='auto')\n",
    "data = boston.data\n",
    "target = boston.target\n",
    "feature_names = boston.feature_names"
   ]
  },
  {
   "cell_type": "code",
   "execution_count": 80,
   "metadata": {},
   "outputs": [
    {
     "data": {
      "text/plain": [
       "dtype('float64')"
      ]
     },
     "execution_count": 80,
     "metadata": {},
     "output_type": "execute_result"
    }
   ],
   "source": [
    "type(data)\n",
    "data.dtypes\n",
    "type(target)\n",
    "target.dtypes"
   ]
  },
  {
   "cell_type": "code",
   "execution_count": 81,
   "metadata": {},
   "outputs": [
    {
     "data": {
      "text/plain": [
       "<bound method NDFrame.head of         CRIM    ZN  INDUS CHAS    NOX     RM   AGE     DIS RAD    TAX  \\\n",
       "0    0.00632  18.0   2.31    0  0.538  6.575  65.2  4.0900   1  296.0   \n",
       "1    0.02731   0.0   7.07    0  0.469  6.421  78.9  4.9671   2  242.0   \n",
       "2    0.02729   0.0   7.07    0  0.469  7.185  61.1  4.9671   2  242.0   \n",
       "3    0.03237   0.0   2.18    0  0.458  6.998  45.8  6.0622   3  222.0   \n",
       "4    0.06905   0.0   2.18    0  0.458  7.147  54.2  6.0622   3  222.0   \n",
       "..       ...   ...    ...  ...    ...    ...   ...     ...  ..    ...   \n",
       "501  0.06263   0.0  11.93    0  0.573  6.593  69.1  2.4786   1  273.0   \n",
       "502  0.04527   0.0  11.93    0  0.573  6.120  76.7  2.2875   1  273.0   \n",
       "503  0.06076   0.0  11.93    0  0.573  6.976  91.0  2.1675   1  273.0   \n",
       "504  0.10959   0.0  11.93    0  0.573  6.794  89.3  2.3889   1  273.0   \n",
       "505  0.04741   0.0  11.93    0  0.573  6.030  80.8  2.5050   1  273.0   \n",
       "\n",
       "     PTRATIO       B  LSTAT  \n",
       "0       15.3  396.90   4.98  \n",
       "1       17.8  396.90   9.14  \n",
       "2       17.8  392.83   4.03  \n",
       "3       18.7  394.63   2.94  \n",
       "4       18.7  396.90   5.33  \n",
       "..       ...     ...    ...  \n",
       "501     21.0  391.99   9.67  \n",
       "502     21.0  396.90   9.08  \n",
       "503     21.0  396.90   5.64  \n",
       "504     21.0  393.45   6.48  \n",
       "505     21.0  396.90   7.88  \n",
       "\n",
       "[506 rows x 13 columns]>"
      ]
     },
     "execution_count": 81,
     "metadata": {},
     "output_type": "execute_result"
    }
   ],
   "source": [
    "data.head"
   ]
  },
  {
   "cell_type": "code",
   "execution_count": 15,
   "metadata": {},
   "outputs": [
    {
     "data": {
      "text/plain": [
       "0      24.0\n",
       "1      21.6\n",
       "2      34.7\n",
       "3      33.4\n",
       "4      36.2\n",
       "       ... \n",
       "501    22.4\n",
       "502    20.6\n",
       "503    23.9\n",
       "504    22.0\n",
       "505    11.9\n",
       "Name: MEDV, Length: 506, dtype: float64"
      ]
     },
     "execution_count": 15,
     "metadata": {},
     "output_type": "execute_result"
    }
   ],
   "source": [
    "#data,target,feature_names"
   ]
  },
  {
   "cell_type": "markdown",
   "metadata": {
    "id": "ibc51nHjd2CV"
   },
   "source": [
    "## Step 2: Create a DataFrame and Check for Missing Values\n",
    "\n",
    "- Create a DataFrame using the Boston housing data\n",
    "- Display basic statistics\n",
    "- Check for missing values\n"
   ]
  },
  {
   "cell_type": "code",
   "execution_count": 16,
   "metadata": {
    "id": "ZVV5gD0Cb3N1",
    "outputId": "a34b2108-60c7-435a-b484-dc3cc9a5554a"
   },
   "outputs": [
    {
     "data": {
      "text/html": [
       "<div>\n",
       "<style scoped>\n",
       "    .dataframe tbody tr th:only-of-type {\n",
       "        vertical-align: middle;\n",
       "    }\n",
       "\n",
       "    .dataframe tbody tr th {\n",
       "        vertical-align: top;\n",
       "    }\n",
       "\n",
       "    .dataframe thead th {\n",
       "        text-align: right;\n",
       "    }\n",
       "</style>\n",
       "<table border=\"1\" class=\"dataframe\">\n",
       "  <thead>\n",
       "    <tr style=\"text-align: right;\">\n",
       "      <th></th>\n",
       "      <th>CRIM</th>\n",
       "      <th>ZN</th>\n",
       "      <th>INDUS</th>\n",
       "      <th>CHAS</th>\n",
       "      <th>NOX</th>\n",
       "      <th>RM</th>\n",
       "      <th>AGE</th>\n",
       "      <th>DIS</th>\n",
       "      <th>RAD</th>\n",
       "      <th>TAX</th>\n",
       "      <th>PTRATIO</th>\n",
       "      <th>B</th>\n",
       "      <th>LSTAT</th>\n",
       "      <th>HousePrice</th>\n",
       "    </tr>\n",
       "  </thead>\n",
       "  <tbody>\n",
       "    <tr>\n",
       "      <th>0</th>\n",
       "      <td>0.00632</td>\n",
       "      <td>18.0</td>\n",
       "      <td>2.31</td>\n",
       "      <td>0</td>\n",
       "      <td>0.538</td>\n",
       "      <td>6.575</td>\n",
       "      <td>65.2</td>\n",
       "      <td>4.0900</td>\n",
       "      <td>1</td>\n",
       "      <td>296.0</td>\n",
       "      <td>15.3</td>\n",
       "      <td>396.90</td>\n",
       "      <td>4.98</td>\n",
       "      <td>24.0</td>\n",
       "    </tr>\n",
       "    <tr>\n",
       "      <th>1</th>\n",
       "      <td>0.02731</td>\n",
       "      <td>0.0</td>\n",
       "      <td>7.07</td>\n",
       "      <td>0</td>\n",
       "      <td>0.469</td>\n",
       "      <td>6.421</td>\n",
       "      <td>78.9</td>\n",
       "      <td>4.9671</td>\n",
       "      <td>2</td>\n",
       "      <td>242.0</td>\n",
       "      <td>17.8</td>\n",
       "      <td>396.90</td>\n",
       "      <td>9.14</td>\n",
       "      <td>21.6</td>\n",
       "    </tr>\n",
       "    <tr>\n",
       "      <th>2</th>\n",
       "      <td>0.02729</td>\n",
       "      <td>0.0</td>\n",
       "      <td>7.07</td>\n",
       "      <td>0</td>\n",
       "      <td>0.469</td>\n",
       "      <td>7.185</td>\n",
       "      <td>61.1</td>\n",
       "      <td>4.9671</td>\n",
       "      <td>2</td>\n",
       "      <td>242.0</td>\n",
       "      <td>17.8</td>\n",
       "      <td>392.83</td>\n",
       "      <td>4.03</td>\n",
       "      <td>34.7</td>\n",
       "    </tr>\n",
       "    <tr>\n",
       "      <th>3</th>\n",
       "      <td>0.03237</td>\n",
       "      <td>0.0</td>\n",
       "      <td>2.18</td>\n",
       "      <td>0</td>\n",
       "      <td>0.458</td>\n",
       "      <td>6.998</td>\n",
       "      <td>45.8</td>\n",
       "      <td>6.0622</td>\n",
       "      <td>3</td>\n",
       "      <td>222.0</td>\n",
       "      <td>18.7</td>\n",
       "      <td>394.63</td>\n",
       "      <td>2.94</td>\n",
       "      <td>33.4</td>\n",
       "    </tr>\n",
       "    <tr>\n",
       "      <th>4</th>\n",
       "      <td>0.06905</td>\n",
       "      <td>0.0</td>\n",
       "      <td>2.18</td>\n",
       "      <td>0</td>\n",
       "      <td>0.458</td>\n",
       "      <td>7.147</td>\n",
       "      <td>54.2</td>\n",
       "      <td>6.0622</td>\n",
       "      <td>3</td>\n",
       "      <td>222.0</td>\n",
       "      <td>18.7</td>\n",
       "      <td>396.90</td>\n",
       "      <td>5.33</td>\n",
       "      <td>36.2</td>\n",
       "    </tr>\n",
       "  </tbody>\n",
       "</table>\n",
       "</div>"
      ],
      "text/plain": [
       "      CRIM    ZN  INDUS CHAS    NOX     RM   AGE     DIS RAD    TAX  PTRATIO  \\\n",
       "0  0.00632  18.0   2.31    0  0.538  6.575  65.2  4.0900   1  296.0     15.3   \n",
       "1  0.02731   0.0   7.07    0  0.469  6.421  78.9  4.9671   2  242.0     17.8   \n",
       "2  0.02729   0.0   7.07    0  0.469  7.185  61.1  4.9671   2  242.0     17.8   \n",
       "3  0.03237   0.0   2.18    0  0.458  6.998  45.8  6.0622   3  222.0     18.7   \n",
       "4  0.06905   0.0   2.18    0  0.458  7.147  54.2  6.0622   3  222.0     18.7   \n",
       "\n",
       "        B  LSTAT  HousePrice  \n",
       "0  396.90   4.98        24.0  \n",
       "1  396.90   9.14        21.6  \n",
       "2  392.83   4.03        34.7  \n",
       "3  394.63   2.94        33.4  \n",
       "4  396.90   5.33        36.2  "
      ]
     },
     "execution_count": 16,
     "metadata": {},
     "output_type": "execute_result"
    }
   ],
   "source": [
    "df = pd.DataFrame(boston.data, columns=boston.feature_names)\n",
    "df['HousePrice'] = boston.target\n",
    "df.head()"
   ]
  },
  {
   "cell_type": "markdown",
   "metadata": {
    "id": "1lRXzMVsRl3l"
   },
   "source": [
    "__Observation__:\n",
    "\n",
    "- This is the head of the data set."
   ]
  },
  {
   "cell_type": "code",
   "execution_count": 17,
   "metadata": {
    "id": "cwGH3zYVb3N2",
    "outputId": "86e47772-1a8f-4e9d-c8f3-e78cba8b405c"
   },
   "outputs": [
    {
     "data": {
      "text/html": [
       "<div>\n",
       "<style scoped>\n",
       "    .dataframe tbody tr th:only-of-type {\n",
       "        vertical-align: middle;\n",
       "    }\n",
       "\n",
       "    .dataframe tbody tr th {\n",
       "        vertical-align: top;\n",
       "    }\n",
       "\n",
       "    .dataframe thead th {\n",
       "        text-align: right;\n",
       "    }\n",
       "</style>\n",
       "<table border=\"1\" class=\"dataframe\">\n",
       "  <thead>\n",
       "    <tr style=\"text-align: right;\">\n",
       "      <th></th>\n",
       "      <th>CRIM</th>\n",
       "      <th>ZN</th>\n",
       "      <th>INDUS</th>\n",
       "      <th>NOX</th>\n",
       "      <th>RM</th>\n",
       "      <th>AGE</th>\n",
       "      <th>DIS</th>\n",
       "      <th>TAX</th>\n",
       "      <th>PTRATIO</th>\n",
       "      <th>B</th>\n",
       "      <th>LSTAT</th>\n",
       "      <th>HousePrice</th>\n",
       "    </tr>\n",
       "  </thead>\n",
       "  <tbody>\n",
       "    <tr>\n",
       "      <th>count</th>\n",
       "      <td>506.000000</td>\n",
       "      <td>506.000000</td>\n",
       "      <td>506.000000</td>\n",
       "      <td>506.000000</td>\n",
       "      <td>506.000000</td>\n",
       "      <td>506.000000</td>\n",
       "      <td>506.000000</td>\n",
       "      <td>506.000000</td>\n",
       "      <td>506.000000</td>\n",
       "      <td>506.000000</td>\n",
       "      <td>506.000000</td>\n",
       "      <td>506.000000</td>\n",
       "    </tr>\n",
       "    <tr>\n",
       "      <th>mean</th>\n",
       "      <td>3.613524</td>\n",
       "      <td>11.363636</td>\n",
       "      <td>11.136779</td>\n",
       "      <td>0.554695</td>\n",
       "      <td>6.284634</td>\n",
       "      <td>68.574901</td>\n",
       "      <td>3.795043</td>\n",
       "      <td>408.237154</td>\n",
       "      <td>18.455534</td>\n",
       "      <td>356.674032</td>\n",
       "      <td>12.653063</td>\n",
       "      <td>22.532806</td>\n",
       "    </tr>\n",
       "    <tr>\n",
       "      <th>std</th>\n",
       "      <td>8.601545</td>\n",
       "      <td>23.322453</td>\n",
       "      <td>6.860353</td>\n",
       "      <td>0.115878</td>\n",
       "      <td>0.702617</td>\n",
       "      <td>28.148861</td>\n",
       "      <td>2.105710</td>\n",
       "      <td>168.537116</td>\n",
       "      <td>2.164946</td>\n",
       "      <td>91.294864</td>\n",
       "      <td>7.141062</td>\n",
       "      <td>9.197104</td>\n",
       "    </tr>\n",
       "    <tr>\n",
       "      <th>min</th>\n",
       "      <td>0.006320</td>\n",
       "      <td>0.000000</td>\n",
       "      <td>0.460000</td>\n",
       "      <td>0.385000</td>\n",
       "      <td>3.561000</td>\n",
       "      <td>2.900000</td>\n",
       "      <td>1.129600</td>\n",
       "      <td>187.000000</td>\n",
       "      <td>12.600000</td>\n",
       "      <td>0.320000</td>\n",
       "      <td>1.730000</td>\n",
       "      <td>5.000000</td>\n",
       "    </tr>\n",
       "    <tr>\n",
       "      <th>25%</th>\n",
       "      <td>0.082045</td>\n",
       "      <td>0.000000</td>\n",
       "      <td>5.190000</td>\n",
       "      <td>0.449000</td>\n",
       "      <td>5.885500</td>\n",
       "      <td>45.025000</td>\n",
       "      <td>2.100175</td>\n",
       "      <td>279.000000</td>\n",
       "      <td>17.400000</td>\n",
       "      <td>375.377500</td>\n",
       "      <td>6.950000</td>\n",
       "      <td>17.025000</td>\n",
       "    </tr>\n",
       "    <tr>\n",
       "      <th>50%</th>\n",
       "      <td>0.256510</td>\n",
       "      <td>0.000000</td>\n",
       "      <td>9.690000</td>\n",
       "      <td>0.538000</td>\n",
       "      <td>6.208500</td>\n",
       "      <td>77.500000</td>\n",
       "      <td>3.207450</td>\n",
       "      <td>330.000000</td>\n",
       "      <td>19.050000</td>\n",
       "      <td>391.440000</td>\n",
       "      <td>11.360000</td>\n",
       "      <td>21.200000</td>\n",
       "    </tr>\n",
       "    <tr>\n",
       "      <th>75%</th>\n",
       "      <td>3.677083</td>\n",
       "      <td>12.500000</td>\n",
       "      <td>18.100000</td>\n",
       "      <td>0.624000</td>\n",
       "      <td>6.623500</td>\n",
       "      <td>94.075000</td>\n",
       "      <td>5.188425</td>\n",
       "      <td>666.000000</td>\n",
       "      <td>20.200000</td>\n",
       "      <td>396.225000</td>\n",
       "      <td>16.955000</td>\n",
       "      <td>25.000000</td>\n",
       "    </tr>\n",
       "    <tr>\n",
       "      <th>max</th>\n",
       "      <td>88.976200</td>\n",
       "      <td>100.000000</td>\n",
       "      <td>27.740000</td>\n",
       "      <td>0.871000</td>\n",
       "      <td>8.780000</td>\n",
       "      <td>100.000000</td>\n",
       "      <td>12.126500</td>\n",
       "      <td>711.000000</td>\n",
       "      <td>22.000000</td>\n",
       "      <td>396.900000</td>\n",
       "      <td>37.970000</td>\n",
       "      <td>50.000000</td>\n",
       "    </tr>\n",
       "  </tbody>\n",
       "</table>\n",
       "</div>"
      ],
      "text/plain": [
       "             CRIM          ZN       INDUS         NOX          RM         AGE  \\\n",
       "count  506.000000  506.000000  506.000000  506.000000  506.000000  506.000000   \n",
       "mean     3.613524   11.363636   11.136779    0.554695    6.284634   68.574901   \n",
       "std      8.601545   23.322453    6.860353    0.115878    0.702617   28.148861   \n",
       "min      0.006320    0.000000    0.460000    0.385000    3.561000    2.900000   \n",
       "25%      0.082045    0.000000    5.190000    0.449000    5.885500   45.025000   \n",
       "50%      0.256510    0.000000    9.690000    0.538000    6.208500   77.500000   \n",
       "75%      3.677083   12.500000   18.100000    0.624000    6.623500   94.075000   \n",
       "max     88.976200  100.000000   27.740000    0.871000    8.780000  100.000000   \n",
       "\n",
       "              DIS         TAX     PTRATIO           B       LSTAT  HousePrice  \n",
       "count  506.000000  506.000000  506.000000  506.000000  506.000000  506.000000  \n",
       "mean     3.795043  408.237154   18.455534  356.674032   12.653063   22.532806  \n",
       "std      2.105710  168.537116    2.164946   91.294864    7.141062    9.197104  \n",
       "min      1.129600  187.000000   12.600000    0.320000    1.730000    5.000000  \n",
       "25%      2.100175  279.000000   17.400000  375.377500    6.950000   17.025000  \n",
       "50%      3.207450  330.000000   19.050000  391.440000   11.360000   21.200000  \n",
       "75%      5.188425  666.000000   20.200000  396.225000   16.955000   25.000000  \n",
       "max     12.126500  711.000000   22.000000  396.900000   37.970000   50.000000  "
      ]
     },
     "execution_count": 17,
     "metadata": {},
     "output_type": "execute_result"
    }
   ],
   "source": [
    "df.describe()"
   ]
  },
  {
   "cell_type": "markdown",
   "metadata": {
    "id": "Myu1DvhsR-tI"
   },
   "source": [
    "__Observation__:\n",
    "- Here, you can see the statistical analysis of the data set."
   ]
  },
  {
   "cell_type": "code",
   "execution_count": 18,
   "metadata": {
    "id": "E6HKwO5ub3N3",
    "outputId": "afb54069-c3fb-42d5-c6f8-ae27866af72c"
   },
   "outputs": [
    {
     "data": {
      "text/plain": [
       "CRIM          0\n",
       "ZN            0\n",
       "INDUS         0\n",
       "CHAS          0\n",
       "NOX           0\n",
       "RM            0\n",
       "AGE           0\n",
       "DIS           0\n",
       "RAD           0\n",
       "TAX           0\n",
       "PTRATIO       0\n",
       "B             0\n",
       "LSTAT         0\n",
       "HousePrice    0\n",
       "dtype: int64"
      ]
     },
     "execution_count": 18,
     "metadata": {},
     "output_type": "execute_result"
    }
   ],
   "source": [
    "df.isna().sum()"
   ]
  },
  {
   "cell_type": "markdown",
   "metadata": {
    "id": "4oW0CDYQSRAF"
   },
   "source": [
    "__Observation__:\n",
    "\n",
    "- There are no empty rows in the dataset."
   ]
  },
  {
   "cell_type": "markdown",
   "metadata": {
    "id": "M3K1ODY7d-1B"
   },
   "source": [
    "## Step 3: Remove Outliers from the HousePrice Column\n",
    "\n",
    "\n",
    "- Use a boxplot to visualize the outliers\n",
    "- Remove outliers from the __HousePrice__ column using the 1% and 99% quantiles\n"
   ]
  },
  {
   "cell_type": "code",
   "execution_count": 19,
   "metadata": {
    "id": "-k9RGwnZb3N3",
    "outputId": "22fc3226-cc45-40c8-ab5c-38eda94e2a0c"
   },
   "outputs": [
    {
     "data": {
      "text/plain": [
       "<Axes: ylabel='HousePrice'>"
      ]
     },
     "execution_count": 19,
     "metadata": {},
     "output_type": "execute_result"
    },
    {
     "data": {
      "image/png": "[encoded data removed]",
      "text/plain": [
       "<Figure size 640x480 with 1 Axes>"
      ]
     },
     "metadata": {},
     "output_type": "display_data"
    }
   ],
   "source": [
    "sns.boxplot(df['HousePrice'])"
   ]
  },
  {
   "cell_type": "markdown",
   "metadata": {
    "id": "BZp3K8QKSdZK"
   },
   "source": [
    "__Observation__:\n",
    "\n",
    "- There are outliers in the data set."
   ]
  },
  {
   "cell_type": "code",
   "execution_count": 20,
   "metadata": {
    "id": "yN1zIWAxb3N3"
   },
   "outputs": [],
   "source": [
    "upper_limit = df['HousePrice'].quantile(0.99)\n",
    "lower_limit = df['HousePrice'].quantile(0.01)"
   ]
  },
  {
   "cell_type": "code",
   "execution_count": 50,
   "metadata": {},
   "outputs": [
    {
     "data": {
      "text/plain": [
       "(50.0, 7.01)"
      ]
     },
     "execution_count": 50,
     "metadata": {},
     "output_type": "execute_result"
    }
   ],
   "source": [
    "#df.query('HousePrice > 40').count()\n",
    "#df[df['HousePrice'] > 30]\n",
    "#df[df['HousePrice'] > 40]\n",
    "upper_limit, lower_limit"
   ]
  },
  {
   "cell_type": "code",
   "execution_count": 51,
   "metadata": {
    "id": "GZRLEq0Ob3N4"
   },
   "outputs": [],
   "source": [
    "df['HousePrice'] = np.where(df['HousePrice'] < lower_limit, lower_limit, df['HousePrice'])\n",
    "df['HousePrice'] = np.where(df['HousePrice'] > upper_limit, upper_limit, df['HousePrice'])"
   ]
  },
  {
   "cell_type": "code",
   "execution_count": 52,
   "metadata": {},
   "outputs": [
    {
     "data": {
      "text/plain": [
       "array([24.  , 21.6 , 34.7 , 33.4 , 36.2 , 28.7 , 22.9 , 27.1 , 16.5 ,\n",
       "       18.9 , 15.  , 18.9 , 21.7 , 20.4 , 18.2 , 19.9 , 23.1 , 17.5 ,\n",
       "       20.2 , 18.2 , 13.6 , 19.6 , 15.2 , 14.5 , 15.6 , 13.9 , 16.6 ,\n",
       "       14.8 , 18.4 , 21.  , 12.7 , 14.5 , 13.2 , 13.1 , 13.5 , 18.9 ,\n",
       "       20.  , 21.  , 24.7 , 30.8 , 34.9 , 26.6 , 25.3 , 24.7 , 21.2 ,\n",
       "       19.3 , 20.  , 16.6 , 14.4 , 19.4 , 19.7 , 20.5 , 25.  , 23.4 ,\n",
       "       18.9 , 35.4 , 24.7 , 31.6 , 23.3 , 19.6 , 18.7 , 16.  , 22.2 ,\n",
       "       25.  , 33.  , 23.5 , 19.4 , 22.  , 17.4 , 20.9 , 24.2 , 21.7 ,\n",
       "       22.8 , 23.4 , 24.1 , 21.4 , 20.  , 20.8 , 21.2 , 20.3 , 28.  ,\n",
       "       23.9 , 24.8 , 22.9 , 23.9 , 26.6 , 22.5 , 22.2 , 23.6 , 28.7 ,\n",
       "       22.6 , 22.  , 22.9 , 25.  , 20.6 , 28.4 , 21.4 , 38.7 , 43.8 ,\n",
       "       33.2 , 27.5 , 26.5 , 18.6 , 19.3 , 20.1 , 19.5 , 19.5 , 20.4 ,\n",
       "       19.8 , 19.4 , 21.7 , 22.8 , 18.8 , 18.7 , 18.5 , 18.3 , 21.2 ,\n",
       "       19.2 , 20.4 , 19.3 , 22.  , 20.3 , 20.5 , 17.3 , 18.8 , 21.4 ,\n",
       "       15.7 , 16.2 , 18.  , 14.3 , 19.2 , 19.6 , 23.  , 18.4 , 15.6 ,\n",
       "       18.1 , 17.4 , 17.1 , 13.3 , 17.8 , 14.  , 14.4 , 13.4 , 15.6 ,\n",
       "       11.8 , 13.8 , 15.6 , 14.6 , 17.8 , 15.4 , 21.5 , 19.6 , 15.3 ,\n",
       "       19.4 , 17.  , 15.6 , 13.1 , 41.3 , 24.3 , 23.3 , 27.  , 50.  ,\n",
       "       50.  , 50.  , 22.7 , 25.  , 50.  , 23.8 , 23.8 , 22.3 , 17.4 ,\n",
       "       19.1 , 23.1 , 23.6 , 22.6 , 29.4 , 23.2 , 24.6 , 29.9 , 37.2 ,\n",
       "       39.8 , 36.2 , 37.9 , 32.5 , 26.4 , 29.6 , 50.  , 32.  , 29.8 ,\n",
       "       34.9 , 37.  , 30.5 , 36.4 , 31.1 , 29.1 , 50.  , 33.3 , 30.3 ,\n",
       "       34.6 , 34.9 , 32.9 , 24.1 , 42.3 , 48.5 , 50.  , 22.6 , 24.4 ,\n",
       "       22.5 , 24.4 , 20.  , 21.7 , 19.3 , 22.4 , 28.1 , 23.7 , 25.  ,\n",
       "       23.3 , 28.7 , 21.5 , 23.  , 26.7 , 21.7 , 27.5 , 30.1 , 44.8 ,\n",
       "       50.  , 37.6 , 31.6 , 46.7 , 31.5 , 24.3 , 31.7 , 41.7 , 48.3 ,\n",
       "       29.  , 24.  , 25.1 , 31.5 , 23.7 , 23.3 , 22.  , 20.1 , 22.2 ,\n",
       "       23.7 , 17.6 , 18.5 , 24.3 , 20.5 , 24.5 , 26.2 , 24.4 , 24.8 ,\n",
       "       29.6 , 42.8 , 21.9 , 20.9 , 44.  , 50.  , 36.  , 30.1 , 33.8 ,\n",
       "       43.1 , 48.8 , 31.  , 36.5 , 22.8 , 30.7 , 50.  , 43.5 , 20.7 ,\n",
       "       21.1 , 25.2 , 24.4 , 35.2 , 32.4 , 32.  , 33.2 , 33.1 , 29.1 ,\n",
       "       35.1 , 45.4 , 35.4 , 46.  , 50.  , 32.2 , 22.  , 20.1 , 23.2 ,\n",
       "       22.3 , 24.8 , 28.5 , 37.3 , 27.9 , 23.9 , 21.7 , 28.6 , 27.1 ,\n",
       "       20.3 , 22.5 , 29.  , 24.8 , 22.  , 26.4 , 33.1 , 36.1 , 28.4 ,\n",
       "       33.4 , 28.2 , 22.8 , 20.3 , 16.1 , 22.1 , 19.4 , 21.6 , 23.8 ,\n",
       "       16.2 , 17.8 , 19.8 , 23.1 , 21.  , 23.8 , 23.1 , 20.4 , 18.5 ,\n",
       "       25.  , 24.6 , 23.  , 22.2 , 19.3 , 22.6 , 19.8 , 17.1 , 19.4 ,\n",
       "       22.2 , 20.7 , 21.1 , 19.5 , 18.5 , 20.6 , 19.  , 18.7 , 32.7 ,\n",
       "       16.5 , 23.9 , 31.2 , 17.5 , 17.2 , 23.1 , 24.5 , 26.6 , 22.9 ,\n",
       "       24.1 , 18.6 , 30.1 , 18.2 , 20.6 , 17.8 , 21.7 , 22.7 , 22.6 ,\n",
       "       25.  , 19.9 , 20.8 , 16.8 , 21.9 , 27.5 , 21.9 , 23.1 , 50.  ,\n",
       "       50.  , 50.  , 50.  , 50.  , 13.8 , 13.8 , 15.  , 13.9 , 13.3 ,\n",
       "       13.1 , 10.2 , 10.4 , 10.9 , 11.3 , 12.3 ,  8.8 ,  7.2 , 10.5 ,\n",
       "        7.4 , 10.2 , 11.5 , 15.1 , 23.2 ,  9.7 , 13.8 , 12.7 , 13.1 ,\n",
       "       12.5 ,  8.5 ,  7.01,  7.01,  7.01,  7.2 , 12.1 ,  8.3 ,  8.5 ,\n",
       "        7.01, 11.9 , 27.9 , 17.2 , 27.5 , 15.  , 17.2 , 17.9 , 16.3 ,\n",
       "        7.01,  7.2 ,  7.5 , 10.4 ,  8.8 ,  8.4 , 16.7 , 14.2 , 20.8 ,\n",
       "       13.4 , 11.7 ,  8.3 , 10.2 , 10.9 , 11.  ,  9.5 , 14.5 , 14.1 ,\n",
       "       16.1 , 14.3 , 11.7 , 13.4 ,  9.6 ,  8.7 ,  8.4 , 12.8 , 10.5 ,\n",
       "       17.1 , 18.4 , 15.4 , 10.8 , 11.8 , 14.9 , 12.6 , 14.1 , 13.  ,\n",
       "       13.4 , 15.2 , 16.1 , 17.8 , 14.9 , 14.1 , 12.7 , 13.5 , 14.9 ,\n",
       "       20.  , 16.4 , 17.7 , 19.5 , 20.2 , 21.4 , 19.9 , 19.  , 19.1 ,\n",
       "       19.1 , 20.1 , 19.9 , 19.6 , 23.2 , 29.8 , 13.8 , 13.3 , 16.7 ,\n",
       "       12.  , 14.6 , 21.4 , 23.  , 23.7 , 25.  , 21.8 , 20.6 , 21.2 ,\n",
       "       19.1 , 20.6 , 15.2 ,  7.01,  8.1 , 13.6 , 20.1 , 21.8 , 24.5 ,\n",
       "       23.1 , 19.7 , 18.3 , 21.2 , 17.5 , 16.8 , 22.4 , 20.6 , 23.9 ,\n",
       "       22.  , 11.9 ])"
      ]
     },
     "execution_count": 52,
     "metadata": {},
     "output_type": "execute_result"
    }
   ],
   "source": [
    "np.where(df['HousePrice'] < lower_limit, lower_limit, df['HousePrice'])"
   ]
  },
  {
   "cell_type": "markdown",
   "metadata": {
    "id": "6mEcChrUb3N4"
   },
   "source": [
    "## Step 4: Test for Linearity of the Model\n",
    "\n",
    "- Fit the model and display the summary\n",
    "- Define functions to calculate residuals and plot actual vs. predicted values\n",
    "- Test for linearity\n"
   ]
  },
  {
   "cell_type": "code",
   "execution_count": null,
   "metadata": {},
   "outputs": [],
   "source": []
  },
  {
   "cell_type": "code",
   "execution_count": 82,
   "metadata": {
    "id": "DAqXRl2Tb3N4",
    "outputId": "109dec1e-f200-423b-d549-ef7a0a6a5b83"
   },
   "outputs": [
    {
     "data": {
      "text/html": [
       "<table class=\"simpletable\">\n",
       "<caption>OLS Regression Results</caption>\n",
       "<tr>\n",
       "  <th>Dep. Variable:</th>          <td>MEDV</td>       <th>  R-squared (uncentered):</th>      <td>   0.959</td>\n",
       "</tr>\n",
       "<tr>\n",
       "  <th>Model:</th>                   <td>OLS</td>       <th>  Adj. R-squared (uncentered):</th> <td>   0.958</td>\n",
       "</tr>\n",
       "<tr>\n",
       "  <th>Method:</th>             <td>Least Squares</td>  <th>  F-statistic:       </th>          <td>   891.3</td>\n",
       "</tr>\n",
       "<tr>\n",
       "  <th>Date:</th>             <td>Sat, 10 Feb 2024</td> <th>  Prob (F-statistic):</th>           <td>  0.00</td> \n",
       "</tr>\n",
       "<tr>\n",
       "  <th>Time:</th>                 <td>17:18:05</td>     <th>  Log-Likelihood:    </th>          <td> -1523.8</td>\n",
       "</tr>\n",
       "<tr>\n",
       "  <th>No. Observations:</th>      <td>   506</td>      <th>  AIC:               </th>          <td>   3074.</td>\n",
       "</tr>\n",
       "<tr>\n",
       "  <th>Df Residuals:</th>          <td>   493</td>      <th>  BIC:               </th>          <td>   3128.</td>\n",
       "</tr>\n",
       "<tr>\n",
       "  <th>Df Model:</th>              <td>    13</td>      <th>                     </th>              <td> </td>   \n",
       "</tr>\n",
       "<tr>\n",
       "  <th>Covariance Type:</th>      <td>nonrobust</td>    <th>                     </th>              <td> </td>   \n",
       "</tr>\n",
       "</table>\n",
       "<table class=\"simpletable\">\n",
       "<tr>\n",
       "   <td></td>      <th>coef</th>     <th>std err</th>      <th>t</th>      <th>P>|t|</th>  <th>[0.025</th>    <th>0.975]</th>  \n",
       "</tr>\n",
       "<tr>\n",
       "  <th>x1</th>  <td>   -0.0929</td> <td>    0.034</td> <td>   -2.699</td> <td> 0.007</td> <td>   -0.161</td> <td>   -0.025</td>\n",
       "</tr>\n",
       "<tr>\n",
       "  <th>x2</th>  <td>    0.0487</td> <td>    0.014</td> <td>    3.382</td> <td> 0.001</td> <td>    0.020</td> <td>    0.077</td>\n",
       "</tr>\n",
       "<tr>\n",
       "  <th>x3</th>  <td>   -0.0041</td> <td>    0.064</td> <td>   -0.063</td> <td> 0.950</td> <td>   -0.131</td> <td>    0.123</td>\n",
       "</tr>\n",
       "<tr>\n",
       "  <th>x4</th>  <td>    2.8540</td> <td>    0.904</td> <td>    3.157</td> <td> 0.002</td> <td>    1.078</td> <td>    4.630</td>\n",
       "</tr>\n",
       "<tr>\n",
       "  <th>x5</th>  <td>   -2.8684</td> <td>    3.359</td> <td>   -0.854</td> <td> 0.394</td> <td>   -9.468</td> <td>    3.731</td>\n",
       "</tr>\n",
       "<tr>\n",
       "  <th>x6</th>  <td>    5.9281</td> <td>    0.309</td> <td>   19.178</td> <td> 0.000</td> <td>    5.321</td> <td>    6.535</td>\n",
       "</tr>\n",
       "<tr>\n",
       "  <th>x7</th>  <td>   -0.0073</td> <td>    0.014</td> <td>   -0.526</td> <td> 0.599</td> <td>   -0.034</td> <td>    0.020</td>\n",
       "</tr>\n",
       "<tr>\n",
       "  <th>x8</th>  <td>   -0.9685</td> <td>    0.196</td> <td>   -4.951</td> <td> 0.000</td> <td>   -1.353</td> <td>   -0.584</td>\n",
       "</tr>\n",
       "<tr>\n",
       "  <th>x9</th>  <td>    0.1712</td> <td>    0.067</td> <td>    2.564</td> <td> 0.011</td> <td>    0.040</td> <td>    0.302</td>\n",
       "</tr>\n",
       "<tr>\n",
       "  <th>x10</th> <td>   -0.0094</td> <td>    0.004</td> <td>   -2.395</td> <td> 0.017</td> <td>   -0.017</td> <td>   -0.002</td>\n",
       "</tr>\n",
       "<tr>\n",
       "  <th>x11</th> <td>   -0.3922</td> <td>    0.110</td> <td>   -3.570</td> <td> 0.000</td> <td>   -0.608</td> <td>   -0.176</td>\n",
       "</tr>\n",
       "<tr>\n",
       "  <th>x12</th> <td>    0.0149</td> <td>    0.003</td> <td>    5.528</td> <td> 0.000</td> <td>    0.010</td> <td>    0.020</td>\n",
       "</tr>\n",
       "<tr>\n",
       "  <th>x13</th> <td>   -0.4163</td> <td>    0.051</td> <td>   -8.197</td> <td> 0.000</td> <td>   -0.516</td> <td>   -0.317</td>\n",
       "</tr>\n",
       "</table>\n",
       "<table class=\"simpletable\">\n",
       "<tr>\n",
       "  <th>Omnibus:</th>       <td>204.082</td> <th>  Durbin-Watson:     </th> <td>   0.999</td> \n",
       "</tr>\n",
       "<tr>\n",
       "  <th>Prob(Omnibus):</th> <td> 0.000</td>  <th>  Jarque-Bera (JB):  </th> <td>1374.225</td> \n",
       "</tr>\n",
       "<tr>\n",
       "  <th>Skew:</th>          <td> 1.609</td>  <th>  Prob(JB):          </th> <td>3.90e-299</td>\n",
       "</tr>\n",
       "<tr>\n",
       "  <th>Kurtosis:</th>      <td>10.404</td>  <th>  Cond. No.          </th> <td>8.50e+03</td> \n",
       "</tr>\n",
       "</table><br/><br/>Notes:<br/>[1] R² is computed without centering (uncentered) since the model does not contain a constant.<br/>[2] Standard Errors assume that the covariance matrix of the errors is correctly specified.<br/>[3] The condition number is large, 8.5e+03. This might indicate that there are<br/>strong multicollinearity or other numerical problems."
      ],
      "text/latex": [
       "\\begin{center}\n",
       "\\begin{tabular}{lclc}\n",
       "\\toprule\n",
       "\\textbf{Dep. Variable:}    &       MEDV       & \\textbf{  R-squared (uncentered):}      &     0.959   \\\\\n",
       "\\textbf{Model:}            &       OLS        & \\textbf{  Adj. R-squared (uncentered):} &     0.958   \\\\\n",
       "\\textbf{Method:}           &  Least Squares   & \\textbf{  F-statistic:       }          &     891.3   \\\\\n",
       "\\textbf{Date:}             & Sat, 10 Feb 2024 & \\textbf{  Prob (F-statistic):}          &     0.00    \\\\\n",
       "\\textbf{Time:}             &     17:18:05     & \\textbf{  Log-Likelihood:    }          &   -1523.8   \\\\\n",
       "\\textbf{No. Observations:} &         506      & \\textbf{  AIC:               }          &     3074.   \\\\\n",
       "\\textbf{Df Residuals:}     &         493      & \\textbf{  BIC:               }          &     3128.   \\\\\n",
       "\\textbf{Df Model:}         &          13      & \\textbf{                     }          &             \\\\\n",
       "\\textbf{Covariance Type:}  &    nonrobust     & \\textbf{                     }          &             \\\\\n",
       "\\bottomrule\n",
       "\\end{tabular}\n",
       "\\begin{tabular}{lcccccc}\n",
       "             & \\textbf{coef} & \\textbf{std err} & \\textbf{t} & \\textbf{P$> |$t$|$} & \\textbf{[0.025} & \\textbf{0.975]}  \\\\\n",
       "\\midrule\n",
       "\\textbf{x1}  &      -0.0929  &        0.034     &    -2.699  &         0.007        &       -0.161    &       -0.025     \\\\\n",
       "\\textbf{x2}  &       0.0487  &        0.014     &     3.382  &         0.001        &        0.020    &        0.077     \\\\\n",
       "\\textbf{x3}  &      -0.0041  &        0.064     &    -0.063  &         0.950        &       -0.131    &        0.123     \\\\\n",
       "\\textbf{x4}  &       2.8540  &        0.904     &     3.157  &         0.002        &        1.078    &        4.630     \\\\\n",
       "\\textbf{x5}  &      -2.8684  &        3.359     &    -0.854  &         0.394        &       -9.468    &        3.731     \\\\\n",
       "\\textbf{x6}  &       5.9281  &        0.309     &    19.178  &         0.000        &        5.321    &        6.535     \\\\\n",
       "\\textbf{x7}  &      -0.0073  &        0.014     &    -0.526  &         0.599        &       -0.034    &        0.020     \\\\\n",
       "\\textbf{x8}  &      -0.9685  &        0.196     &    -4.951  &         0.000        &       -1.353    &       -0.584     \\\\\n",
       "\\textbf{x9}  &       0.1712  &        0.067     &     2.564  &         0.011        &        0.040    &        0.302     \\\\\n",
       "\\textbf{x10} &      -0.0094  &        0.004     &    -2.395  &         0.017        &       -0.017    &       -0.002     \\\\\n",
       "\\textbf{x11} &      -0.3922  &        0.110     &    -3.570  &         0.000        &       -0.608    &       -0.176     \\\\\n",
       "\\textbf{x12} &       0.0149  &        0.003     &     5.528  &         0.000        &        0.010    &        0.020     \\\\\n",
       "\\textbf{x13} &      -0.4163  &        0.051     &    -8.197  &         0.000        &       -0.516    &       -0.317     \\\\\n",
       "\\bottomrule\n",
       "\\end{tabular}\n",
       "\\begin{tabular}{lclc}\n",
       "\\textbf{Omnibus:}       & 204.082 & \\textbf{  Durbin-Watson:     } &     0.999  \\\\\n",
       "\\textbf{Prob(Omnibus):} &   0.000 & \\textbf{  Jarque-Bera (JB):  } &  1374.225  \\\\\n",
       "\\textbf{Skew:}          &   1.609 & \\textbf{  Prob(JB):          } & 3.90e-299  \\\\\n",
       "\\textbf{Kurtosis:}      &  10.404 & \\textbf{  Cond. No.          } &  8.50e+03  \\\\\n",
       "\\bottomrule\n",
       "\\end{tabular}\n",
       "%\\caption{OLS Regression Results}\n",
       "\\end{center}\n",
       "\n",
       "Notes: \\newline\n",
       " [1] R² is computed without centering (uncentered) since the model does not contain a constant. \\newline\n",
       " [2] Standard Errors assume that the covariance matrix of the errors is correctly specified. \\newline\n",
       " [3] The condition number is large, 8.5e+03. This might indicate that there are \\newline\n",
       " strong multicollinearity or other numerical problems."
      ],
      "text/plain": [
       "<class 'statsmodels.iolib.summary.Summary'>\n",
       "\"\"\"\n",
       "                                 OLS Regression Results                                \n",
       "=======================================================================================\n",
       "Dep. Variable:                   MEDV   R-squared (uncentered):                   0.959\n",
       "Model:                            OLS   Adj. R-squared (uncentered):              0.958\n",
       "Method:                 Least Squares   F-statistic:                              891.3\n",
       "Date:                Sat, 10 Feb 2024   Prob (F-statistic):                        0.00\n",
       "Time:                        17:18:05   Log-Likelihood:                         -1523.8\n",
       "No. Observations:                 506   AIC:                                      3074.\n",
       "Df Residuals:                     493   BIC:                                      3128.\n",
       "Df Model:                          13                                                  \n",
       "Covariance Type:            nonrobust                                                  \n",
       "==============================================================================\n",
       "                 coef    std err          t      P>|t|      [0.025      0.975]\n",
       "------------------------------------------------------------------------------\n",
       "x1            -0.0929      0.034     -2.699      0.007      -0.161      -0.025\n",
       "x2             0.0487      0.014      3.382      0.001       0.020       0.077\n",
       "x3            -0.0041      0.064     -0.063      0.950      -0.131       0.123\n",
       "x4             2.8540      0.904      3.157      0.002       1.078       4.630\n",
       "x5            -2.8684      3.359     -0.854      0.394      -9.468       3.731\n",
       "x6             5.9281      0.309     19.178      0.000       5.321       6.535\n",
       "x7            -0.0073      0.014     -0.526      0.599      -0.034       0.020\n",
       "x8            -0.9685      0.196     -4.951      0.000      -1.353      -0.584\n",
       "x9             0.1712      0.067      2.564      0.011       0.040       0.302\n",
       "x10           -0.0094      0.004     -2.395      0.017      -0.017      -0.002\n",
       "x11           -0.3922      0.110     -3.570      0.000      -0.608      -0.176\n",
       "x12            0.0149      0.003      5.528      0.000       0.010       0.020\n",
       "x13           -0.4163      0.051     -8.197      0.000      -0.516      -0.317\n",
       "==============================================================================\n",
       "Omnibus:                      204.082   Durbin-Watson:                   0.999\n",
       "Prob(Omnibus):                  0.000   Jarque-Bera (JB):             1374.225\n",
       "Skew:                           1.609   Prob(JB):                    3.90e-299\n",
       "Kurtosis:                      10.404   Cond. No.                     8.50e+03\n",
       "==============================================================================\n",
       "\n",
       "Notes:\n",
       "[1] R² is computed without centering (uncentered) since the model does not contain a constant.\n",
       "[2] Standard Errors assume that the covariance matrix of the errors is correctly specified.\n",
       "[3] The condition number is large, 8.5e+03. This might indicate that there are\n",
       "strong multicollinearity or other numerical problems.\n",
       "\"\"\""
      ]
     },
     "execution_count": 82,
     "metadata": {},
     "output_type": "execute_result"
    }
   ],
   "source": [
    "import statsmodels.api as sm\n",
    "import numpy as np\n",
    "import pandas as pd\n",
    "\n",
    "boston.data = boston.data.apply(pd.to_numeric)\n",
    "\n",
    "X_constant = sm.add_constant(np.asarray(boston.data))\n",
    "boston_model = sm.OLS(boston.target, np.asarray(boston.data)).fit()\n",
    "boston_model.summary()"
   ]
  },
  {
   "cell_type": "code",
   "execution_count": 74,
   "metadata": {},
   "outputs": [
    {
     "data": {
      "text/plain": [
       "array([1.000e+00, 6.320e-03, 1.800e+01, 2.310e+00, 0.000e+00, 5.380e-01,\n",
       "       6.575e+00, 6.520e+01, 4.090e+00, 1.000e+00, 2.960e+02, 1.530e+01,\n",
       "       3.969e+02, 4.980e+00])"
      ]
     },
     "execution_count": 74,
     "metadata": {},
     "output_type": "execute_result"
    }
   ],
   "source": [
    "#data.dtypes\n",
    "#boston.data.dtypes\n",
    "#np.asarray(boston.data)\n",
    "X_constant[0]"
   ]
  },
  {
   "cell_type": "markdown",
   "metadata": {
    "id": "aguo5LjvoeXp"
   },
   "source": [
    "- Define a function to calculate residual values by taking the actual and predicted values\n",
    "- The value of residuals is equal to the difference between the actual and  predicted values.  "
   ]
  },
  {
   "cell_type": "code",
   "execution_count": 83,
   "metadata": {
    "id": "cQUh_OUPb3N5"
   },
   "outputs": [],
   "source": [
    "def calculate_residuals(model, features, label):\n",
    "    predictions =  model.predict(features)\n",
    "    df_results = pd.DataFrame({'Actual' : label, 'Predicted' : predictions})\n",
    "    df_results['Residuals'] = abs(df_results['Actual']) - abs(df_results['Predicted'])\n",
    "    return df_results"
   ]
  },
  {
   "cell_type": "markdown",
   "metadata": {
    "id": "WJ1Cwq1oo3bH"
   },
   "source": [
    "- Next, define a function to plot the actual and predicted values using __lmplot__.\n",
    "- The orange line will show the fitted line created by the linear regression model."
   ]
  },
  {
   "cell_type": "code",
   "execution_count": 84,
   "metadata": {
    "id": "9MK9yWdfb3N5"
   },
   "outputs": [],
   "source": [
    "def linear_assumptions(model, features, label):\n",
    "    df_results = calculate_residuals(model, features, label)\n",
    "\n",
    "    sns.lmplot(x='Actual', y='Predicted', data=df_results, fit_reg=False, height=7)\n",
    "    line_coords = np.arange(df_results.min().min(), df_results.max().max())\n",
    "    plt.plot(line_coords, line_coords, color='darkorange', linestyle='--')\n",
    "    plt.title('Actual vs. Predicted')\n",
    "    plt.show()"
   ]
  },
  {
   "cell_type": "markdown",
   "metadata": {
    "id": "81fWml2JpgsP"
   },
   "source": [
    "- Now, run the function __linear_assumptions__ to show the graph with the model as __boston_model__, features as __boston.data__, and label as __boston.taget__ variables as arguments."
   ]
  },
  {
   "cell_type": "code",
   "execution_count": 85,
   "metadata": {
    "id": "kSJXWOmqb3N5",
    "outputId": "72063509-c60c-4193-922b-9e41ef31e7e2"
   },
   "outputs": [
    {
     "data": {
      "image/png": "[encoded data removed]",
      "text/plain": [
       "<Figure size 700x700 with 1 Axes>"
      ]
     },
     "metadata": {},
     "output_type": "display_data"
    }
   ],
   "source": [
    "linear_assumptions(boston_model, boston.data, boston.target)"
   ]
  },
  {
   "cell_type": "markdown",
   "metadata": {
    "id": "H1QeMWd_Sx8D"
   },
   "source": [
    "__Observation__:\n",
    "\n",
    "- We can observe that the line does not represent all the data points."
   ]
  },
  {
   "cell_type": "markdown",
   "metadata": {
    "id": "xJ64i1QvebOr"
   },
   "source": [
    "## Step 5: Check for Multicollinearity\n",
    "\n",
    "- Let's check the correlation between the variables in the data set.\n",
    "\n"
   ]
  },
  {
   "cell_type": "code",
   "execution_count": 86,
   "metadata": {
    "id": "c_Hez1HTb3N6",
    "outputId": "8f819fda-b933-4d20-8932-df6ecd9d93e0"
   },
   "outputs": [
    {
     "data": {
      "text/html": [
       "<style type=\"text/css\">\n",
       "#T_229b5_row0_col0, #T_229b5_row1_col1, #T_229b5_row2_col2, #T_229b5_row3_col3, #T_229b5_row4_col4, #T_229b5_row5_col5, #T_229b5_row6_col6, #T_229b5_row7_col7, #T_229b5_row8_col8, #T_229b5_row9_col9, #T_229b5_row10_col10, #T_229b5_row11_col11, #T_229b5_row12_col12, #T_229b5_row13_col13 {\n",
       "  background-color: #b40426;\n",
       "  color: #f1f1f1;\n",
       "}\n",
       "#T_229b5_row0_col1, #T_229b5_row3_col0 {\n",
       "  background-color: #88abfd;\n",
       "  color: #000000;\n",
       "}\n",
       "#T_229b5_row0_col2 {\n",
       "  background-color: #f7bca1;\n",
       "  color: #000000;\n",
       "}\n",
       "#T_229b5_row0_col3 {\n",
       "  background-color: #4b64d5;\n",
       "  color: #f1f1f1;\n",
       "}\n",
       "#T_229b5_row0_col4 {\n",
       "  background-color: #f7b599;\n",
       "  color: #000000;\n",
       "}\n",
       "#T_229b5_row0_col5 {\n",
       "  background-color: #8badfd;\n",
       "  color: #000000;\n",
       "}\n",
       "#T_229b5_row0_col6, #T_229b5_row1_col13 {\n",
       "  background-color: #f5c2aa;\n",
       "  color: #000000;\n",
       "}\n",
       "#T_229b5_row0_col7, #T_229b5_row11_col4, #T_229b5_row11_col10 {\n",
       "  background-color: #82a6fb;\n",
       "  color: #f1f1f1;\n",
       "}\n",
       "#T_229b5_row0_col8 {\n",
       "  background-color: #f49a7b;\n",
       "  color: #000000;\n",
       "}\n",
       "#T_229b5_row0_col9, #T_229b5_row2_col8, #T_229b5_row8_col0 {\n",
       "  background-color: #f6a283;\n",
       "  color: #000000;\n",
       "}\n",
       "#T_229b5_row0_col10 {\n",
       "  background-color: #e4d9d2;\n",
       "  color: #000000;\n",
       "}\n",
       "#T_229b5_row0_col11 {\n",
       "  background-color: #465ecf;\n",
       "  color: #f1f1f1;\n",
       "}\n",
       "#T_229b5_row0_col12 {\n",
       "  background-color: #f7b194;\n",
       "  color: #000000;\n",
       "}\n",
       "#T_229b5_row0_col13, #T_229b5_row8_col13, #T_229b5_row11_col2 {\n",
       "  background-color: #7da0f9;\n",
       "  color: #f1f1f1;\n",
       "}\n",
       "#T_229b5_row1_col0 {\n",
       "  background-color: #6485ec;\n",
       "  color: #f1f1f1;\n",
       "}\n",
       "#T_229b5_row1_col2, #T_229b5_row1_col6, #T_229b5_row8_col3 {\n",
       "  background-color: #5a78e4;\n",
       "  color: #f1f1f1;\n",
       "}\n",
       "#T_229b5_row1_col3 {\n",
       "  background-color: #4f69d9;\n",
       "  color: #f1f1f1;\n",
       "}\n",
       "#T_229b5_row1_col4, #T_229b5_row1_col9 {\n",
       "  background-color: #6788ee;\n",
       "  color: #f1f1f1;\n",
       "}\n",
       "#T_229b5_row1_col5, #T_229b5_row2_col0 {\n",
       "  background-color: #edd1c2;\n",
       "  color: #000000;\n",
       "}\n",
       "#T_229b5_row1_col7, #T_229b5_row9_col4, #T_229b5_row13_col5 {\n",
       "  background-color: #ec7f63;\n",
       "  color: #f1f1f1;\n",
       "}\n",
       "#T_229b5_row1_col8 {\n",
       "  background-color: #6180e9;\n",
       "  color: #f1f1f1;\n",
       "}\n",
       "#T_229b5_row1_col10, #T_229b5_row9_col3, #T_229b5_row13_col8 {\n",
       "  background-color: #516ddb;\n",
       "  color: #f1f1f1;\n",
       "}\n",
       "#T_229b5_row1_col11 {\n",
       "  background-color: #c9d7f0;\n",
       "  color: #000000;\n",
       "}\n",
       "#T_229b5_row1_col12, #T_229b5_row5_col2, #T_229b5_row6_col3, #T_229b5_row10_col11 {\n",
       "  background-color: #7699f6;\n",
       "  color: #f1f1f1;\n",
       "}\n",
       "#T_229b5_row2_col1, #T_229b5_row7_col3 {\n",
       "  background-color: #4055c8;\n",
       "  color: #f1f1f1;\n",
       "}\n",
       "#T_229b5_row2_col3, #T_229b5_row8_col1 {\n",
       "  background-color: #6f92f3;\n",
       "  color: #f1f1f1;\n",
       "}\n",
       "#T_229b5_row2_col4 {\n",
       "  background-color: #e0654f;\n",
       "  color: #f1f1f1;\n",
       "}\n",
       "#T_229b5_row2_col5, #T_229b5_row7_col12 {\n",
       "  background-color: #6687ed;\n",
       "  color: #f1f1f1;\n",
       "}\n",
       "#T_229b5_row2_col6 {\n",
       "  background-color: #ee8669;\n",
       "  color: #f1f1f1;\n",
       "}\n",
       "#T_229b5_row2_col7, #T_229b5_row4_col1, #T_229b5_row11_col8 {\n",
       "  background-color: #445acc;\n",
       "  color: #f1f1f1;\n",
       "}\n",
       "#T_229b5_row2_col9 {\n",
       "  background-color: #ea7b60;\n",
       "  color: #f1f1f1;\n",
       "}\n",
       "#T_229b5_row2_col10, #T_229b5_row13_col1 {\n",
       "  background-color: #f1cdba;\n",
       "  color: #000000;\n",
       "}\n",
       "#T_229b5_row2_col11, #T_229b5_row11_col9, #T_229b5_row12_col3 {\n",
       "  background-color: #4c66d6;\n",
       "  color: #f1f1f1;\n",
       "}\n",
       "#T_229b5_row2_col12, #T_229b5_row6_col12, #T_229b5_row12_col6 {\n",
       "  background-color: #f29072;\n",
       "  color: #f1f1f1;\n",
       "}\n",
       "#T_229b5_row2_col13 {\n",
       "  background-color: #688aef;\n",
       "  color: #f1f1f1;\n",
       "}\n",
       "#T_229b5_row3_col1 {\n",
       "  background-color: #aac7fd;\n",
       "  color: #000000;\n",
       "}\n",
       "#T_229b5_row3_col2 {\n",
       "  background-color: #cfdaea;\n",
       "  color: #000000;\n",
       "}\n",
       "#T_229b5_row3_col4, #T_229b5_row10_col0 {\n",
       "  background-color: #d9dce1;\n",
       "  color: #000000;\n",
       "}\n",
       "#T_229b5_row3_col5 {\n",
       "  background-color: #cbd8ee;\n",
       "  color: #000000;\n",
       "}\n",
       "#T_229b5_row3_col6 {\n",
       "  background-color: #d7dce3;\n",
       "  color: #000000;\n",
       "}\n",
       "#T_229b5_row3_col7 {\n",
       "  background-color: #b9d0f9;\n",
       "  color: #000000;\n",
       "}\n",
       "#T_229b5_row3_col8, #T_229b5_row3_col9 {\n",
       "  background-color: #a7c5fe;\n",
       "  color: #000000;\n",
       "}\n",
       "#T_229b5_row3_col10 {\n",
       "  background-color: #8fb1fe;\n",
       "  color: #000000;\n",
       "}\n",
       "#T_229b5_row3_col11 {\n",
       "  background-color: #adc9fd;\n",
       "  color: #000000;\n",
       "}\n",
       "#T_229b5_row3_col12 {\n",
       "  background-color: #bed2f6;\n",
       "  color: #000000;\n",
       "}\n",
       "#T_229b5_row3_col13 {\n",
       "  background-color: #e3d9d3;\n",
       "  color: #000000;\n",
       "}\n",
       "#T_229b5_row4_col0 {\n",
       "  background-color: #efcfbf;\n",
       "  color: #000000;\n",
       "}\n",
       "#T_229b5_row4_col2 {\n",
       "  background-color: #e16751;\n",
       "  color: #f1f1f1;\n",
       "}\n",
       "#T_229b5_row4_col3, #T_229b5_row5_col3, #T_229b5_row5_col8 {\n",
       "  background-color: #779af7;\n",
       "  color: #f1f1f1;\n",
       "}\n",
       "#T_229b5_row4_col5, #T_229b5_row13_col4 {\n",
       "  background-color: #799cf8;\n",
       "  color: #f1f1f1;\n",
       "}\n",
       "#T_229b5_row4_col6 {\n",
       "  background-color: #e46e56;\n",
       "  color: #f1f1f1;\n",
       "}\n",
       "#T_229b5_row4_col7, #T_229b5_row6_col1, #T_229b5_row7_col0, #T_229b5_row7_col2, #T_229b5_row7_col4, #T_229b5_row7_col6, #T_229b5_row7_col8, #T_229b5_row7_col9, #T_229b5_row8_col11, #T_229b5_row9_col11, #T_229b5_row10_col3, #T_229b5_row11_col0, #T_229b5_row12_col5, #T_229b5_row12_col13, #T_229b5_row13_col0, #T_229b5_row13_col10, #T_229b5_row13_col12 {\n",
       "  background-color: #3b4cc0;\n",
       "  color: #f1f1f1;\n",
       "}\n",
       "#T_229b5_row4_col8 {\n",
       "  background-color: #f59d7e;\n",
       "  color: #000000;\n",
       "}\n",
       "#T_229b5_row4_col9 {\n",
       "  background-color: #f08b6e;\n",
       "  color: #f1f1f1;\n",
       "}\n",
       "#T_229b5_row4_col10 {\n",
       "  background-color: #d3dbe7;\n",
       "  color: #000000;\n",
       "}\n",
       "#T_229b5_row4_col11, #T_229b5_row13_col9 {\n",
       "  background-color: #485fd1;\n",
       "  color: #f1f1f1;\n",
       "}\n",
       "#T_229b5_row4_col12, #T_229b5_row8_col2 {\n",
       "  background-color: #f39475;\n",
       "  color: #000000;\n",
       "}\n",
       "#T_229b5_row4_col13 {\n",
       "  background-color: #7396f5;\n",
       "  color: #f1f1f1;\n",
       "}\n",
       "#T_229b5_row5_col0, #T_229b5_row6_col11 {\n",
       "  background-color: #5f7fe8;\n",
       "  color: #f1f1f1;\n",
       "}\n",
       "#T_229b5_row5_col1 {\n",
       "  background-color: #ebd3c6;\n",
       "  color: #000000;\n",
       "}\n",
       "#T_229b5_row5_col4, #T_229b5_row13_col3 {\n",
       "  background-color: #92b4fe;\n",
       "  color: #000000;\n",
       "}\n",
       "#T_229b5_row5_col6 {\n",
       "  background-color: #9bbcff;\n",
       "  color: #000000;\n",
       "}\n",
       "#T_229b5_row5_col7 {\n",
       "  background-color: #ead5c9;\n",
       "  color: #000000;\n",
       "}\n",
       "#T_229b5_row5_col9, #T_229b5_row10_col5 {\n",
       "  background-color: #6c8ff1;\n",
       "  color: #f1f1f1;\n",
       "}\n",
       "#T_229b5_row5_col10, #T_229b5_row12_col1 {\n",
       "  background-color: #5977e3;\n",
       "  color: #f1f1f1;\n",
       "}\n",
       "#T_229b5_row5_col11 {\n",
       "  background-color: #bfd3f6;\n",
       "  color: #000000;\n",
       "}\n",
       "#T_229b5_row5_col12 {\n",
       "  background-color: #506bda;\n",
       "  color: #f1f1f1;\n",
       "}\n",
       "#T_229b5_row5_col13 {\n",
       "  background-color: #e9785d;\n",
       "  color: #f1f1f1;\n",
       "}\n",
       "#T_229b5_row6_col0 {\n",
       "  background-color: #e5d8d1;\n",
       "  color: #000000;\n",
       "}\n",
       "#T_229b5_row6_col2 {\n",
       "  background-color: #ef886b;\n",
       "  color: #f1f1f1;\n",
       "}\n",
       "#T_229b5_row6_col4 {\n",
       "  background-color: #e36c55;\n",
       "  color: #f1f1f1;\n",
       "}\n",
       "#T_229b5_row6_col5 {\n",
       "  background-color: #86a9fc;\n",
       "  color: #f1f1f1;\n",
       "}\n",
       "#T_229b5_row6_col7 {\n",
       "  background-color: #3e51c5;\n",
       "  color: #f1f1f1;\n",
       "}\n",
       "#T_229b5_row6_col8 {\n",
       "  background-color: #f5c1a9;\n",
       "  color: #000000;\n",
       "}\n",
       "#T_229b5_row6_col9 {\n",
       "  background-color: #f7b497;\n",
       "  color: #000000;\n",
       "}\n",
       "#T_229b5_row6_col10, #T_229b5_row7_col11 {\n",
       "  background-color: #dfdbd9;\n",
       "  color: #000000;\n",
       "}\n",
       "#T_229b5_row6_col13 {\n",
       "  background-color: #7ea1fa;\n",
       "  color: #f1f1f1;\n",
       "}\n",
       "#T_229b5_row7_col1 {\n",
       "  background-color: #f08a6c;\n",
       "  color: #f1f1f1;\n",
       "}\n",
       "#T_229b5_row7_col5 {\n",
       "  background-color: #dedcdb;\n",
       "  color: #000000;\n",
       "}\n",
       "#T_229b5_row7_col10 {\n",
       "  background-color: #7597f6;\n",
       "  color: #f1f1f1;\n",
       "}\n",
       "#T_229b5_row7_col13 {\n",
       "  background-color: #edd2c3;\n",
       "  color: #000000;\n",
       "}\n",
       "#T_229b5_row8_col4 {\n",
       "  background-color: #f18d6f;\n",
       "  color: #f1f1f1;\n",
       "}\n",
       "#T_229b5_row8_col5 {\n",
       "  background-color: #8db0fe;\n",
       "  color: #000000;\n",
       "}\n",
       "#T_229b5_row8_col6 {\n",
       "  background-color: #f7b093;\n",
       "  color: #000000;\n",
       "}\n",
       "#T_229b5_row8_col7, #T_229b5_row9_col13, #T_229b5_row12_col7 {\n",
       "  background-color: #6b8df0;\n",
       "  color: #f1f1f1;\n",
       "}\n",
       "#T_229b5_row8_col9 {\n",
       "  background-color: #c83836;\n",
       "  color: #f1f1f1;\n",
       "}\n",
       "#T_229b5_row8_col10 {\n",
       "  background-color: #f6bea4;\n",
       "  color: #000000;\n",
       "}\n",
       "#T_229b5_row8_col12 {\n",
       "  background-color: #f7aa8c;\n",
       "  color: #000000;\n",
       "}\n",
       "#T_229b5_row9_col0 {\n",
       "  background-color: #f7ad90;\n",
       "  color: #000000;\n",
       "}\n",
       "#T_229b5_row9_col1 {\n",
       "  background-color: #6e90f2;\n",
       "  color: #f1f1f1;\n",
       "}\n",
       "#T_229b5_row9_col2 {\n",
       "  background-color: #e67259;\n",
       "  color: #f1f1f1;\n",
       "}\n",
       "#T_229b5_row9_col5 {\n",
       "  background-color: #7b9ff9;\n",
       "  color: #f1f1f1;\n",
       "}\n",
       "#T_229b5_row9_col6 {\n",
       "  background-color: #f7a688;\n",
       "  color: #000000;\n",
       "}\n",
       "#T_229b5_row9_col7, #T_229b5_row10_col13, #T_229b5_row13_col2 {\n",
       "  background-color: #6384eb;\n",
       "  color: #f1f1f1;\n",
       "}\n",
       "#T_229b5_row9_col8 {\n",
       "  background-color: #ca3b37;\n",
       "  color: #f1f1f1;\n",
       "}\n",
       "#T_229b5_row9_col10, #T_229b5_row10_col8 {\n",
       "  background-color: #f6bfa6;\n",
       "  color: #000000;\n",
       "}\n",
       "#T_229b5_row9_col12 {\n",
       "  background-color: #f59f80;\n",
       "  color: #000000;\n",
       "}\n",
       "#T_229b5_row10_col1 {\n",
       "  background-color: #5e7de7;\n",
       "  color: #f1f1f1;\n",
       "}\n",
       "#T_229b5_row10_col2, #T_229b5_row10_col12 {\n",
       "  background-color: #f5c0a7;\n",
       "  color: #000000;\n",
       "}\n",
       "#T_229b5_row10_col4, #T_229b5_row13_col11 {\n",
       "  background-color: #e7d7ce;\n",
       "  color: #000000;\n",
       "}\n",
       "#T_229b5_row10_col6, #T_229b5_row13_col7 {\n",
       "  background-color: #eed0c0;\n",
       "  color: #000000;\n",
       "}\n",
       "#T_229b5_row10_col7 {\n",
       "  background-color: #9fbfff;\n",
       "  color: #000000;\n",
       "}\n",
       "#T_229b5_row10_col9 {\n",
       "  background-color: #f6bda2;\n",
       "  color: #000000;\n",
       "}\n",
       "#T_229b5_row11_col1 {\n",
       "  background-color: #d6dce4;\n",
       "  color: #000000;\n",
       "}\n",
       "#T_229b5_row11_col3 {\n",
       "  background-color: #6a8bef;\n",
       "  color: #f1f1f1;\n",
       "}\n",
       "#T_229b5_row11_col5 {\n",
       "  background-color: #d2dbe8;\n",
       "  color: #000000;\n",
       "}\n",
       "#T_229b5_row11_col6 {\n",
       "  background-color: #94b6ff;\n",
       "  color: #000000;\n",
       "}\n",
       "#T_229b5_row11_col7 {\n",
       "  background-color: #f2cbb7;\n",
       "  color: #000000;\n",
       "}\n",
       "#T_229b5_row11_col12, #T_229b5_row13_col6 {\n",
       "  background-color: #80a3fa;\n",
       "  color: #f1f1f1;\n",
       "}\n",
       "#T_229b5_row11_col13 {\n",
       "  background-color: #f3c7b1;\n",
       "  color: #000000;\n",
       "}\n",
       "#T_229b5_row12_col0 {\n",
       "  background-color: #f2c9b4;\n",
       "  color: #000000;\n",
       "}\n",
       "#T_229b5_row12_col2, #T_229b5_row12_col4 {\n",
       "  background-color: #f29274;\n",
       "  color: #f1f1f1;\n",
       "}\n",
       "#T_229b5_row12_col8 {\n",
       "  background-color: #f7ba9f;\n",
       "  color: #000000;\n",
       "}\n",
       "#T_229b5_row12_col9 {\n",
       "  background-color: #f7ac8e;\n",
       "  color: #000000;\n",
       "}\n",
       "#T_229b5_row12_col10 {\n",
       "  background-color: #efcebd;\n",
       "  color: #000000;\n",
       "}\n",
       "#T_229b5_row12_col11 {\n",
       "  background-color: #4a63d3;\n",
       "  color: #f1f1f1;\n",
       "}\n",
       "</style>\n",
       "<table id=\"T_229b5\">\n",
       "  <thead>\n",
       "    <tr>\n",
       "      <th class=\"blank level0\" >&nbsp;</th>\n",
       "      <th id=\"T_229b5_level0_col0\" class=\"col_heading level0 col0\" >CRIM</th>\n",
       "      <th id=\"T_229b5_level0_col1\" class=\"col_heading level0 col1\" >ZN</th>\n",
       "      <th id=\"T_229b5_level0_col2\" class=\"col_heading level0 col2\" >INDUS</th>\n",
       "      <th id=\"T_229b5_level0_col3\" class=\"col_heading level0 col3\" >CHAS</th>\n",
       "      <th id=\"T_229b5_level0_col4\" class=\"col_heading level0 col4\" >NOX</th>\n",
       "      <th id=\"T_229b5_level0_col5\" class=\"col_heading level0 col5\" >RM</th>\n",
       "      <th id=\"T_229b5_level0_col6\" class=\"col_heading level0 col6\" >AGE</th>\n",
       "      <th id=\"T_229b5_level0_col7\" class=\"col_heading level0 col7\" >DIS</th>\n",
       "      <th id=\"T_229b5_level0_col8\" class=\"col_heading level0 col8\" >RAD</th>\n",
       "      <th id=\"T_229b5_level0_col9\" class=\"col_heading level0 col9\" >TAX</th>\n",
       "      <th id=\"T_229b5_level0_col10\" class=\"col_heading level0 col10\" >PTRATIO</th>\n",
       "      <th id=\"T_229b5_level0_col11\" class=\"col_heading level0 col11\" >B</th>\n",
       "      <th id=\"T_229b5_level0_col12\" class=\"col_heading level0 col12\" >LSTAT</th>\n",
       "      <th id=\"T_229b5_level0_col13\" class=\"col_heading level0 col13\" >HousePrice</th>\n",
       "    </tr>\n",
       "  </thead>\n",
       "  <tbody>\n",
       "    <tr>\n",
       "      <th id=\"T_229b5_level0_row0\" class=\"row_heading level0 row0\" >CRIM</th>\n",
       "      <td id=\"T_229b5_row0_col0\" class=\"data row0 col0\" >1.000000</td>\n",
       "      <td id=\"T_229b5_row0_col1\" class=\"data row0 col1\" >-0.200469</td>\n",
       "      <td id=\"T_229b5_row0_col2\" class=\"data row0 col2\" >0.406583</td>\n",
       "      <td id=\"T_229b5_row0_col3\" class=\"data row0 col3\" >-0.055892</td>\n",
       "      <td id=\"T_229b5_row0_col4\" class=\"data row0 col4\" >0.420972</td>\n",
       "      <td id=\"T_229b5_row0_col5\" class=\"data row0 col5\" >-0.219247</td>\n",
       "      <td id=\"T_229b5_row0_col6\" class=\"data row0 col6\" >0.352734</td>\n",
       "      <td id=\"T_229b5_row0_col7\" class=\"data row0 col7\" >-0.379670</td>\n",
       "      <td id=\"T_229b5_row0_col8\" class=\"data row0 col8\" >0.625505</td>\n",
       "      <td id=\"T_229b5_row0_col9\" class=\"data row0 col9\" >0.582764</td>\n",
       "      <td id=\"T_229b5_row0_col10\" class=\"data row0 col10\" >0.289946</td>\n",
       "      <td id=\"T_229b5_row0_col11\" class=\"data row0 col11\" >-0.385064</td>\n",
       "      <td id=\"T_229b5_row0_col12\" class=\"data row0 col12\" >0.455621</td>\n",
       "      <td id=\"T_229b5_row0_col13\" class=\"data row0 col13\" >-0.383350</td>\n",
       "    </tr>\n",
       "    <tr>\n",
       "      <th id=\"T_229b5_level0_row1\" class=\"row_heading level0 row1\" >ZN</th>\n",
       "      <td id=\"T_229b5_row1_col0\" class=\"data row1 col0\" >-0.200469</td>\n",
       "      <td id=\"T_229b5_row1_col1\" class=\"data row1 col1\" >1.000000</td>\n",
       "      <td id=\"T_229b5_row1_col2\" class=\"data row1 col2\" >-0.533828</td>\n",
       "      <td id=\"T_229b5_row1_col3\" class=\"data row1 col3\" >-0.042697</td>\n",
       "      <td id=\"T_229b5_row1_col4\" class=\"data row1 col4\" >-0.516604</td>\n",
       "      <td id=\"T_229b5_row1_col5\" class=\"data row1 col5\" >0.311991</td>\n",
       "      <td id=\"T_229b5_row1_col6\" class=\"data row1 col6\" >-0.569537</td>\n",
       "      <td id=\"T_229b5_row1_col7\" class=\"data row1 col7\" >0.664408</td>\n",
       "      <td id=\"T_229b5_row1_col8\" class=\"data row1 col8\" >-0.311948</td>\n",
       "      <td id=\"T_229b5_row1_col9\" class=\"data row1 col9\" >-0.314563</td>\n",
       "      <td id=\"T_229b5_row1_col10\" class=\"data row1 col10\" >-0.391679</td>\n",
       "      <td id=\"T_229b5_row1_col11\" class=\"data row1 col11\" >0.175520</td>\n",
       "      <td id=\"T_229b5_row1_col12\" class=\"data row1 col12\" >-0.412995</td>\n",
       "      <td id=\"T_229b5_row1_col13\" class=\"data row1 col13\" >0.360652</td>\n",
       "    </tr>\n",
       "    <tr>\n",
       "      <th id=\"T_229b5_level0_row2\" class=\"row_heading level0 row2\" >INDUS</th>\n",
       "      <td id=\"T_229b5_row2_col0\" class=\"data row2 col0\" >0.406583</td>\n",
       "      <td id=\"T_229b5_row2_col1\" class=\"data row2 col1\" >-0.533828</td>\n",
       "      <td id=\"T_229b5_row2_col2\" class=\"data row2 col2\" >1.000000</td>\n",
       "      <td id=\"T_229b5_row2_col3\" class=\"data row2 col3\" >0.062938</td>\n",
       "      <td id=\"T_229b5_row2_col4\" class=\"data row2 col4\" >0.763651</td>\n",
       "      <td id=\"T_229b5_row2_col5\" class=\"data row2 col5\" >-0.391676</td>\n",
       "      <td id=\"T_229b5_row2_col6\" class=\"data row2 col6\" >0.644779</td>\n",
       "      <td id=\"T_229b5_row2_col7\" class=\"data row2 col7\" >-0.708027</td>\n",
       "      <td id=\"T_229b5_row2_col8\" class=\"data row2 col8\" >0.595129</td>\n",
       "      <td id=\"T_229b5_row2_col9\" class=\"data row2 col9\" >0.720760</td>\n",
       "      <td id=\"T_229b5_row2_col10\" class=\"data row2 col10\" >0.383248</td>\n",
       "      <td id=\"T_229b5_row2_col11\" class=\"data row2 col11\" >-0.356977</td>\n",
       "      <td id=\"T_229b5_row2_col12\" class=\"data row2 col12\" >0.603800</td>\n",
       "      <td id=\"T_229b5_row2_col13\" class=\"data row2 col13\" >-0.483520</td>\n",
       "    </tr>\n",
       "    <tr>\n",
       "      <th id=\"T_229b5_level0_row3\" class=\"row_heading level0 row3\" >CHAS</th>\n",
       "      <td id=\"T_229b5_row3_col0\" class=\"data row3 col0\" >-0.055892</td>\n",
       "      <td id=\"T_229b5_row3_col1\" class=\"data row3 col1\" >-0.042697</td>\n",
       "      <td id=\"T_229b5_row3_col2\" class=\"data row3 col2\" >0.062938</td>\n",
       "      <td id=\"T_229b5_row3_col3\" class=\"data row3 col3\" >1.000000</td>\n",
       "      <td id=\"T_229b5_row3_col4\" class=\"data row3 col4\" >0.091203</td>\n",
       "      <td id=\"T_229b5_row3_col5\" class=\"data row3 col5\" >0.091251</td>\n",
       "      <td id=\"T_229b5_row3_col6\" class=\"data row3 col6\" >0.086518</td>\n",
       "      <td id=\"T_229b5_row3_col7\" class=\"data row3 col7\" >-0.099176</td>\n",
       "      <td id=\"T_229b5_row3_col8\" class=\"data row3 col8\" >-0.007368</td>\n",
       "      <td id=\"T_229b5_row3_col9\" class=\"data row3 col9\" >-0.035587</td>\n",
       "      <td id=\"T_229b5_row3_col10\" class=\"data row3 col10\" >-0.121515</td>\n",
       "      <td id=\"T_229b5_row3_col11\" class=\"data row3 col11\" >0.048788</td>\n",
       "      <td id=\"T_229b5_row3_col12\" class=\"data row3 col12\" >-0.053929</td>\n",
       "      <td id=\"T_229b5_row3_col13\" class=\"data row3 col13\" >0.175314</td>\n",
       "    </tr>\n",
       "    <tr>\n",
       "      <th id=\"T_229b5_level0_row4\" class=\"row_heading level0 row4\" >NOX</th>\n",
       "      <td id=\"T_229b5_row4_col0\" class=\"data row4 col0\" >0.420972</td>\n",
       "      <td id=\"T_229b5_row4_col1\" class=\"data row4 col1\" >-0.516604</td>\n",
       "      <td id=\"T_229b5_row4_col2\" class=\"data row4 col2\" >0.763651</td>\n",
       "      <td id=\"T_229b5_row4_col3\" class=\"data row4 col3\" >0.091203</td>\n",
       "      <td id=\"T_229b5_row4_col4\" class=\"data row4 col4\" >1.000000</td>\n",
       "      <td id=\"T_229b5_row4_col5\" class=\"data row4 col5\" >-0.302188</td>\n",
       "      <td id=\"T_229b5_row4_col6\" class=\"data row4 col6\" >0.731470</td>\n",
       "      <td id=\"T_229b5_row4_col7\" class=\"data row4 col7\" >-0.769230</td>\n",
       "      <td id=\"T_229b5_row4_col8\" class=\"data row4 col8\" >0.611441</td>\n",
       "      <td id=\"T_229b5_row4_col9\" class=\"data row4 col9\" >0.668023</td>\n",
       "      <td id=\"T_229b5_row4_col10\" class=\"data row4 col10\" >0.188933</td>\n",
       "      <td id=\"T_229b5_row4_col11\" class=\"data row4 col11\" >-0.380051</td>\n",
       "      <td id=\"T_229b5_row4_col12\" class=\"data row4 col12\" >0.590879</td>\n",
       "      <td id=\"T_229b5_row4_col13\" class=\"data row4 col13\" >-0.426749</td>\n",
       "    </tr>\n",
       "    <tr>\n",
       "      <th id=\"T_229b5_level0_row5\" class=\"row_heading level0 row5\" >RM</th>\n",
       "      <td id=\"T_229b5_row5_col0\" class=\"data row5 col0\" >-0.219247</td>\n",
       "      <td id=\"T_229b5_row5_col1\" class=\"data row5 col1\" >0.311991</td>\n",
       "      <td id=\"T_229b5_row5_col2\" class=\"data row5 col2\" >-0.391676</td>\n",
       "      <td id=\"T_229b5_row5_col3\" class=\"data row5 col3\" >0.091251</td>\n",
       "      <td id=\"T_229b5_row5_col4\" class=\"data row5 col4\" >-0.302188</td>\n",
       "      <td id=\"T_229b5_row5_col5\" class=\"data row5 col5\" >1.000000</td>\n",
       "      <td id=\"T_229b5_row5_col6\" class=\"data row5 col6\" >-0.240265</td>\n",
       "      <td id=\"T_229b5_row5_col7\" class=\"data row5 col7\" >0.205246</td>\n",
       "      <td id=\"T_229b5_row5_col8\" class=\"data row5 col8\" >-0.209847</td>\n",
       "      <td id=\"T_229b5_row5_col9\" class=\"data row5 col9\" >-0.292048</td>\n",
       "      <td id=\"T_229b5_row5_col10\" class=\"data row5 col10\" >-0.355501</td>\n",
       "      <td id=\"T_229b5_row5_col11\" class=\"data row5 col11\" >0.128069</td>\n",
       "      <td id=\"T_229b5_row5_col12\" class=\"data row5 col12\" >-0.613808</td>\n",
       "      <td id=\"T_229b5_row5_col13\" class=\"data row5 col13\" >0.695893</td>\n",
       "    </tr>\n",
       "    <tr>\n",
       "      <th id=\"T_229b5_level0_row6\" class=\"row_heading level0 row6\" >AGE</th>\n",
       "      <td id=\"T_229b5_row6_col0\" class=\"data row6 col0\" >0.352734</td>\n",
       "      <td id=\"T_229b5_row6_col1\" class=\"data row6 col1\" >-0.569537</td>\n",
       "      <td id=\"T_229b5_row6_col2\" class=\"data row6 col2\" >0.644779</td>\n",
       "      <td id=\"T_229b5_row6_col3\" class=\"data row6 col3\" >0.086518</td>\n",
       "      <td id=\"T_229b5_row6_col4\" class=\"data row6 col4\" >0.731470</td>\n",
       "      <td id=\"T_229b5_row6_col5\" class=\"data row6 col5\" >-0.240265</td>\n",
       "      <td id=\"T_229b5_row6_col6\" class=\"data row6 col6\" >1.000000</td>\n",
       "      <td id=\"T_229b5_row6_col7\" class=\"data row6 col7\" >-0.747881</td>\n",
       "      <td id=\"T_229b5_row6_col8\" class=\"data row6 col8\" >0.456022</td>\n",
       "      <td id=\"T_229b5_row6_col9\" class=\"data row6 col9\" >0.506456</td>\n",
       "      <td id=\"T_229b5_row6_col10\" class=\"data row6 col10\" >0.261515</td>\n",
       "      <td id=\"T_229b5_row6_col11\" class=\"data row6 col11\" >-0.273534</td>\n",
       "      <td id=\"T_229b5_row6_col12\" class=\"data row6 col12\" >0.602339</td>\n",
       "      <td id=\"T_229b5_row6_col13\" class=\"data row6 col13\" >-0.376485</td>\n",
       "    </tr>\n",
       "    <tr>\n",
       "      <th id=\"T_229b5_level0_row7\" class=\"row_heading level0 row7\" >DIS</th>\n",
       "      <td id=\"T_229b5_row7_col0\" class=\"data row7 col0\" >-0.379670</td>\n",
       "      <td id=\"T_229b5_row7_col1\" class=\"data row7 col1\" >0.664408</td>\n",
       "      <td id=\"T_229b5_row7_col2\" class=\"data row7 col2\" >-0.708027</td>\n",
       "      <td id=\"T_229b5_row7_col3\" class=\"data row7 col3\" >-0.099176</td>\n",
       "      <td id=\"T_229b5_row7_col4\" class=\"data row7 col4\" >-0.769230</td>\n",
       "      <td id=\"T_229b5_row7_col5\" class=\"data row7 col5\" >0.205246</td>\n",
       "      <td id=\"T_229b5_row7_col6\" class=\"data row7 col6\" >-0.747881</td>\n",
       "      <td id=\"T_229b5_row7_col7\" class=\"data row7 col7\" >1.000000</td>\n",
       "      <td id=\"T_229b5_row7_col8\" class=\"data row7 col8\" >-0.494588</td>\n",
       "      <td id=\"T_229b5_row7_col9\" class=\"data row7 col9\" >-0.534432</td>\n",
       "      <td id=\"T_229b5_row7_col10\" class=\"data row7 col10\" >-0.232471</td>\n",
       "      <td id=\"T_229b5_row7_col11\" class=\"data row7 col11\" >0.291512</td>\n",
       "      <td id=\"T_229b5_row7_col12\" class=\"data row7 col12\" >-0.496996</td>\n",
       "      <td id=\"T_229b5_row7_col13\" class=\"data row7 col13\" >0.249068</td>\n",
       "    </tr>\n",
       "    <tr>\n",
       "      <th id=\"T_229b5_level0_row8\" class=\"row_heading level0 row8\" >RAD</th>\n",
       "      <td id=\"T_229b5_row8_col0\" class=\"data row8 col0\" >0.625505</td>\n",
       "      <td id=\"T_229b5_row8_col1\" class=\"data row8 col1\" >-0.311948</td>\n",
       "      <td id=\"T_229b5_row8_col2\" class=\"data row8 col2\" >0.595129</td>\n",
       "      <td id=\"T_229b5_row8_col3\" class=\"data row8 col3\" >-0.007368</td>\n",
       "      <td id=\"T_229b5_row8_col4\" class=\"data row8 col4\" >0.611441</td>\n",
       "      <td id=\"T_229b5_row8_col5\" class=\"data row8 col5\" >-0.209847</td>\n",
       "      <td id=\"T_229b5_row8_col6\" class=\"data row8 col6\" >0.456022</td>\n",
       "      <td id=\"T_229b5_row8_col7\" class=\"data row8 col7\" >-0.494588</td>\n",
       "      <td id=\"T_229b5_row8_col8\" class=\"data row8 col8\" >1.000000</td>\n",
       "      <td id=\"T_229b5_row8_col9\" class=\"data row8 col9\" >0.910228</td>\n",
       "      <td id=\"T_229b5_row8_col10\" class=\"data row8 col10\" >0.464741</td>\n",
       "      <td id=\"T_229b5_row8_col11\" class=\"data row8 col11\" >-0.444413</td>\n",
       "      <td id=\"T_229b5_row8_col12\" class=\"data row8 col12\" >0.488676</td>\n",
       "      <td id=\"T_229b5_row8_col13\" class=\"data row8 col13\" >-0.380330</td>\n",
       "    </tr>\n",
       "    <tr>\n",
       "      <th id=\"T_229b5_level0_row9\" class=\"row_heading level0 row9\" >TAX</th>\n",
       "      <td id=\"T_229b5_row9_col0\" class=\"data row9 col0\" >0.582764</td>\n",
       "      <td id=\"T_229b5_row9_col1\" class=\"data row9 col1\" >-0.314563</td>\n",
       "      <td id=\"T_229b5_row9_col2\" class=\"data row9 col2\" >0.720760</td>\n",
       "      <td id=\"T_229b5_row9_col3\" class=\"data row9 col3\" >-0.035587</td>\n",
       "      <td id=\"T_229b5_row9_col4\" class=\"data row9 col4\" >0.668023</td>\n",
       "      <td id=\"T_229b5_row9_col5\" class=\"data row9 col5\" >-0.292048</td>\n",
       "      <td id=\"T_229b5_row9_col6\" class=\"data row9 col6\" >0.506456</td>\n",
       "      <td id=\"T_229b5_row9_col7\" class=\"data row9 col7\" >-0.534432</td>\n",
       "      <td id=\"T_229b5_row9_col8\" class=\"data row9 col8\" >0.910228</td>\n",
       "      <td id=\"T_229b5_row9_col9\" class=\"data row9 col9\" >1.000000</td>\n",
       "      <td id=\"T_229b5_row9_col10\" class=\"data row9 col10\" >0.460853</td>\n",
       "      <td id=\"T_229b5_row9_col11\" class=\"data row9 col11\" >-0.441808</td>\n",
       "      <td id=\"T_229b5_row9_col12\" class=\"data row9 col12\" >0.543993</td>\n",
       "      <td id=\"T_229b5_row9_col13\" class=\"data row9 col13\" >-0.467613</td>\n",
       "    </tr>\n",
       "    <tr>\n",
       "      <th id=\"T_229b5_level0_row10\" class=\"row_heading level0 row10\" >PTRATIO</th>\n",
       "      <td id=\"T_229b5_row10_col0\" class=\"data row10 col0\" >0.289946</td>\n",
       "      <td id=\"T_229b5_row10_col1\" class=\"data row10 col1\" >-0.391679</td>\n",
       "      <td id=\"T_229b5_row10_col2\" class=\"data row10 col2\" >0.383248</td>\n",
       "      <td id=\"T_229b5_row10_col3\" class=\"data row10 col3\" >-0.121515</td>\n",
       "      <td id=\"T_229b5_row10_col4\" class=\"data row10 col4\" >0.188933</td>\n",
       "      <td id=\"T_229b5_row10_col5\" class=\"data row10 col5\" >-0.355501</td>\n",
       "      <td id=\"T_229b5_row10_col6\" class=\"data row10 col6\" >0.261515</td>\n",
       "      <td id=\"T_229b5_row10_col7\" class=\"data row10 col7\" >-0.232471</td>\n",
       "      <td id=\"T_229b5_row10_col8\" class=\"data row10 col8\" >0.464741</td>\n",
       "      <td id=\"T_229b5_row10_col9\" class=\"data row10 col9\" >0.460853</td>\n",
       "      <td id=\"T_229b5_row10_col10\" class=\"data row10 col10\" >1.000000</td>\n",
       "      <td id=\"T_229b5_row10_col11\" class=\"data row10 col11\" >-0.177383</td>\n",
       "      <td id=\"T_229b5_row10_col12\" class=\"data row10 col12\" >0.374044</td>\n",
       "      <td id=\"T_229b5_row10_col13\" class=\"data row10 col13\" >-0.507920</td>\n",
       "    </tr>\n",
       "    <tr>\n",
       "      <th id=\"T_229b5_level0_row11\" class=\"row_heading level0 row11\" >B</th>\n",
       "      <td id=\"T_229b5_row11_col0\" class=\"data row11 col0\" >-0.385064</td>\n",
       "      <td id=\"T_229b5_row11_col1\" class=\"data row11 col1\" >0.175520</td>\n",
       "      <td id=\"T_229b5_row11_col2\" class=\"data row11 col2\" >-0.356977</td>\n",
       "      <td id=\"T_229b5_row11_col3\" class=\"data row11 col3\" >0.048788</td>\n",
       "      <td id=\"T_229b5_row11_col4\" class=\"data row11 col4\" >-0.380051</td>\n",
       "      <td id=\"T_229b5_row11_col5\" class=\"data row11 col5\" >0.128069</td>\n",
       "      <td id=\"T_229b5_row11_col6\" class=\"data row11 col6\" >-0.273534</td>\n",
       "      <td id=\"T_229b5_row11_col7\" class=\"data row11 col7\" >0.291512</td>\n",
       "      <td id=\"T_229b5_row11_col8\" class=\"data row11 col8\" >-0.444413</td>\n",
       "      <td id=\"T_229b5_row11_col9\" class=\"data row11 col9\" >-0.441808</td>\n",
       "      <td id=\"T_229b5_row11_col10\" class=\"data row11 col10\" >-0.177383</td>\n",
       "      <td id=\"T_229b5_row11_col11\" class=\"data row11 col11\" >1.000000</td>\n",
       "      <td id=\"T_229b5_row11_col12\" class=\"data row11 col12\" >-0.366087</td>\n",
       "      <td id=\"T_229b5_row11_col13\" class=\"data row11 col13\" >0.334674</td>\n",
       "    </tr>\n",
       "    <tr>\n",
       "      <th id=\"T_229b5_level0_row12\" class=\"row_heading level0 row12\" >LSTAT</th>\n",
       "      <td id=\"T_229b5_row12_col0\" class=\"data row12 col0\" >0.455621</td>\n",
       "      <td id=\"T_229b5_row12_col1\" class=\"data row12 col1\" >-0.412995</td>\n",
       "      <td id=\"T_229b5_row12_col2\" class=\"data row12 col2\" >0.603800</td>\n",
       "      <td id=\"T_229b5_row12_col3\" class=\"data row12 col3\" >-0.053929</td>\n",
       "      <td id=\"T_229b5_row12_col4\" class=\"data row12 col4\" >0.590879</td>\n",
       "      <td id=\"T_229b5_row12_col5\" class=\"data row12 col5\" >-0.613808</td>\n",
       "      <td id=\"T_229b5_row12_col6\" class=\"data row12 col6\" >0.602339</td>\n",
       "      <td id=\"T_229b5_row12_col7\" class=\"data row12 col7\" >-0.496996</td>\n",
       "      <td id=\"T_229b5_row12_col8\" class=\"data row12 col8\" >0.488676</td>\n",
       "      <td id=\"T_229b5_row12_col9\" class=\"data row12 col9\" >0.543993</td>\n",
       "      <td id=\"T_229b5_row12_col10\" class=\"data row12 col10\" >0.374044</td>\n",
       "      <td id=\"T_229b5_row12_col11\" class=\"data row12 col11\" >-0.366087</td>\n",
       "      <td id=\"T_229b5_row12_col12\" class=\"data row12 col12\" >1.000000</td>\n",
       "      <td id=\"T_229b5_row12_col13\" class=\"data row12 col13\" >-0.736711</td>\n",
       "    </tr>\n",
       "    <tr>\n",
       "      <th id=\"T_229b5_level0_row13\" class=\"row_heading level0 row13\" >HousePrice</th>\n",
       "      <td id=\"T_229b5_row13_col0\" class=\"data row13 col0\" >-0.383350</td>\n",
       "      <td id=\"T_229b5_row13_col1\" class=\"data row13 col1\" >0.360652</td>\n",
       "      <td id=\"T_229b5_row13_col2\" class=\"data row13 col2\" >-0.483520</td>\n",
       "      <td id=\"T_229b5_row13_col3\" class=\"data row13 col3\" >0.175314</td>\n",
       "      <td id=\"T_229b5_row13_col4\" class=\"data row13 col4\" >-0.426749</td>\n",
       "      <td id=\"T_229b5_row13_col5\" class=\"data row13 col5\" >0.695893</td>\n",
       "      <td id=\"T_229b5_row13_col6\" class=\"data row13 col6\" >-0.376485</td>\n",
       "      <td id=\"T_229b5_row13_col7\" class=\"data row13 col7\" >0.249068</td>\n",
       "      <td id=\"T_229b5_row13_col8\" class=\"data row13 col8\" >-0.380330</td>\n",
       "      <td id=\"T_229b5_row13_col9\" class=\"data row13 col9\" >-0.467613</td>\n",
       "      <td id=\"T_229b5_row13_col10\" class=\"data row13 col10\" >-0.507920</td>\n",
       "      <td id=\"T_229b5_row13_col11\" class=\"data row13 col11\" >0.334674</td>\n",
       "      <td id=\"T_229b5_row13_col12\" class=\"data row13 col12\" >-0.736711</td>\n",
       "      <td id=\"T_229b5_row13_col13\" class=\"data row13 col13\" >1.000000</td>\n",
       "    </tr>\n",
       "  </tbody>\n",
       "</table>\n"
      ],
      "text/plain": [
       "<pandas.io.formats.style.Styler at 0x183c0685fd0>"
      ]
     },
     "execution_count": 86,
     "metadata": {},
     "output_type": "execute_result"
    }
   ],
   "source": [
    "corr = df.corr()\n",
    "corr.style.background_gradient(cmap='coolwarm')"
   ]
  },
  {
   "cell_type": "markdown",
   "metadata": {
    "id": "oVjEhxwjp9fQ"
   },
   "source": [
    "- Calculate the variance inflation factor (VIF) for each feature\n",
    "- Import the __variance_inflation_factor__ module from the __statsmodels.stats.outliers_influence__ library\n",
    "- Set the features as the DataFrame, except the target variable\n",
    "- Assign the __vif_data__ to the feature columns"
   ]
  },
  {
   "cell_type": "code",
   "execution_count": 87,
   "metadata": {
    "id": "b7CHlcPYb3N6",
    "outputId": "643807fe-e355-4015-c028-84cfc515d0fb"
   },
   "outputs": [
    {
     "name": "stdout",
     "output_type": "stream",
     "text": [
      "   Features        vif\n",
      "0      CRIM   2.100373\n",
      "1        ZN   2.844013\n",
      "2     INDUS  14.485758\n",
      "3      CHAS   1.152952\n",
      "4       NOX  73.894947\n",
      "5        RM  77.948283\n",
      "6       AGE  21.386850\n",
      "7       DIS  14.699652\n",
      "8       RAD  15.167725\n",
      "9       TAX  61.227274\n",
      "10  PTRATIO  85.029547\n",
      "11        B  20.104943\n",
      "12    LSTAT  11.102025\n"
     ]
    }
   ],
   "source": [
    "from statsmodels.stats.outliers_influence import variance_inflation_factor\n",
    "import pandas as pd\n",
    "import numpy as np\n",
    "\n",
    "x = df.drop(['HousePrice'], axis=1)\n",
    "x = x.astype(float)  # Convert the array to float type\n",
    "\n",
    "vif_data = pd.DataFrame()\n",
    "vif_data['Features'] = x.columns\n",
    "\n",
    "vif_data['vif'] = [variance_inflation_factor(x.values, i) for i in range(len(x.columns))]\n",
    "print(vif_data)"
   ]
  },
  {
   "cell_type": "markdown",
   "metadata": {
    "id": "hL40hTUwTCBW"
   },
   "source": [
    "__Observation__:\n",
    "- From the above output, we can infer that the columns **NOX, RM, AGE,** and **PTRATIO** have higher multicollinearity. Hence, we can drop them. "
   ]
  },
  {
   "cell_type": "markdown",
   "metadata": {
    "id": "L1vuRpFCefRs"
   },
   "source": [
    "## Step 6: Remove Multicollinear Features and Split the Data set\n",
    "\n",
    "- Remove highly multicollinear features from the data set\n"
   ]
  },
  {
   "cell_type": "code",
   "execution_count": 88,
   "metadata": {
    "id": "qvyyBRtQb3N6"
   },
   "outputs": [],
   "source": [
    "df1 = df.drop(['NOX', 'RM', 'AGE', 'PTRATIO'], axis = 1)"
   ]
  },
  {
   "cell_type": "markdown",
   "metadata": {
    "id": "Ph0xpq82qc-Q"
   },
   "source": [
    "- Now, set the feature and target variables."
   ]
  },
  {
   "cell_type": "code",
   "execution_count": 89,
   "metadata": {
    "id": "ehssSh0qb3N6"
   },
   "outputs": [],
   "source": [
    "x = df1.drop(['HousePrice'], axis =1)\n",
    "y = df1['HousePrice']"
   ]
  },
  {
   "cell_type": "markdown",
   "metadata": {
    "id": "qT81ot6jqiew"
   },
   "source": [
    "- Next, split the data into train and test sets."
   ]
  },
  {
   "cell_type": "code",
   "execution_count": 97,
   "metadata": {
    "id": "Z3U5AxGSb3N7"
   },
   "outputs": [],
   "source": [
    "from sklearn.model_selection import train_test_split\n",
    "X_train, X_test, y_train, y_test  = train_test_split(x, y, random_state=0, test_size=0.25)"
   ]
  },
  {
   "cell_type": "markdown",
   "metadata": {
    "id": "3UBAT-l1e19z"
   },
   "source": [
    "\n",
    "## Step 7: Fit the Model and Evaluate Performance\n",
    "\n",
    "- Fit the model using OLS and display the summary.\n"
   ]
  },
  {
   "cell_type": "code",
   "execution_count": 98,
   "metadata": {
    "id": "tz7MY5keb3N7",
    "outputId": "6eda9551-7764-448d-aeff-bad4ef5b0d17"
   },
   "outputs": [
    {
     "name": "stdout",
     "output_type": "stream",
     "text": [
      "float64\n",
      "float64\n",
      "0\n",
      "0\n",
      "                                 OLS Regression Results                                \n",
      "=======================================================================================\n",
      "Dep. Variable:                      y   R-squared (uncentered):                   0.902\n",
      "Model:                            OLS   Adj. R-squared (uncentered):              0.900\n",
      "Method:                 Least Squares   F-statistic:                              378.5\n",
      "Date:                Sat, 10 Feb 2024   Prob (F-statistic):                   1.20e-180\n",
      "Time:                        18:02:15   Log-Likelihood:                         -1308.7\n",
      "No. Observations:                 379   AIC:                                      2635.\n",
      "Df Residuals:                     370   BIC:                                      2671.\n",
      "Df Model:                           9                                                  \n",
      "Covariance Type:            nonrobust                                                  \n",
      "==============================================================================\n",
      "                 coef    std err          t      P>|t|      [0.025      0.975]\n",
      "------------------------------------------------------------------------------\n",
      "x1            -0.1194      0.064     -1.867      0.063      -0.245       0.006\n",
      "x2             0.0843      0.023      3.648      0.000       0.039       0.130\n",
      "x3            -0.0144      0.109     -0.133      0.894      -0.228       0.199\n",
      "x4             5.1092      1.633      3.128      0.002       1.898       8.321\n",
      "x5             0.2127      0.268      0.795      0.427      -0.313       0.739\n",
      "x6            -0.0482      0.119     -0.406      0.685      -0.281       0.185\n",
      "x7             0.0175      0.006      2.706      0.007       0.005       0.030\n",
      "x8             0.0555      0.004     15.262      0.000       0.048       0.063\n",
      "x9            -0.4937      0.073     -6.780      0.000      -0.637      -0.351\n",
      "==============================================================================\n",
      "Omnibus:                       57.021   Durbin-Watson:                   1.956\n",
      "Prob(Omnibus):                  0.000   Jarque-Bera (JB):               79.878\n",
      "Skew:                           1.019   Prob(JB):                     4.52e-18\n",
      "Kurtosis:                       3.949   Cond. No.                     2.27e+03\n",
      "==============================================================================\n",
      "\n",
      "Notes:\n",
      "[1] R² is computed without centering (uncentered) since the model does not contain a constant.\n",
      "[2] Standard Errors assume that the covariance matrix of the errors is correctly specified.\n",
      "[3] The condition number is large, 2.27e+03. This might indicate that there are\n",
      "strong multicollinearity or other numerical problems.\n"
     ]
    }
   ],
   "source": [
    "X_train = pd.DataFrame(X_train)\n",
    "y_train = pd.DataFrame(y_train)\n",
    "X_test = pd.DataFrame(X_test) \n",
    "\n",
    "X_train = X_train.apply(pd.to_numeric, errors='coerce')\n",
    "X_test = X_test.apply(pd.to_numeric, errors='coerce')\n",
    "\n",
    "X_train = np.asarray(X_train)\n",
    "y_train = np.asarray(y_train)\n",
    "X_test = np.asarray(X_test) \n",
    "\n",
    "print(X_train.dtype)\n",
    "print(y_train.dtype)\n",
    "print(np.isnan(X_train).sum())\n",
    "print(np.isnan(y_train).sum())\n",
    "\n",
    "model = sm.OLS(y_train, X_train).fit()\n",
    "\n",
    "print(model.summary())"
   ]
  },
  {
   "cell_type": "code",
   "execution_count": 99,
   "metadata": {
    "id": "z_oMwiNrq6wj"
   },
   "outputs": [],
   "source": [
    "from sklearn.metrics import mean_absolute_error, mean_squared_error, r2_score\n",
    "from sklearn import linear_model"
   ]
  },
  {
   "cell_type": "markdown",
   "metadata": {
    "id": "RRE4WtfLrR1I"
   },
   "source": [
    "- Now, fit the model using linear regression.\n"
   ]
  },
  {
   "cell_type": "code",
   "execution_count": 100,
   "metadata": {
    "id": "LP9yZhRkb3N7"
   },
   "outputs": [],
   "source": [
    "reg = linear_model.LinearRegression()\n",
    "reg.fit(X_train, y_train)\n",
    "y_pred_train = reg.predict(X_train)\n",
    "y_pred_test = reg.predict(X_test)\n",
    "\n",
    "X_test = pd.DataFrame(X_test)  # Convert X_test to a pandas DataFrame\n",
    "X_test = X_test.apply(pd.to_numeric, errors='coerce')  # Convert non-numeric values to NaN\n",
    "X_test = np.asarray(X_test)  # Convert X_test to a numpy array\n",
    "\n",
    "y_pred_test = reg.predict(X_test)  # Predict using the trained model"
   ]
  },
  {
   "cell_type": "markdown",
   "metadata": {
    "id": "e6-F069arUDW"
   },
   "source": [
    "- Evaluate the model using various metrics such as the **r2_score, mean_absolute_error, and mean_squared_error**"
   ]
  },
  {
   "cell_type": "code",
   "execution_count": 102,
   "metadata": {
    "id": "2k4xmEqeb3N8",
    "outputId": "65b17121-b20e-46ff-a536-25bdce70dc08"
   },
   "outputs": [
    {
     "name": "stdout",
     "output_type": "stream",
     "text": [
      "R Square: 0.6857716700262139\n",
      "R Square: 0.5257075212801087\n",
      "MAE: 3.766238016784235\n",
      "MSE: 26.676235416618063\n"
     ]
    }
   ],
   "source": [
    "print(\"R Square: {}\".format(r2_score(y_train, y_pred_train)))\n",
    "print(\"R Square: {}\".format(r2_score(y_test, y_pred_test)))\n",
    "print(\"MAE: {}\".format(mean_absolute_error(y_train, y_pred_train)))\n",
    "print(\"MSE: {}\".format(mean_squared_error(y_train, y_pred_train)))"
   ]
  },
  {
   "cell_type": "markdown",
   "metadata": {
    "id": "VhZgiVzgTc9b"
   },
   "source": [
    "__Observation__:\n",
    "\n",
    "- From the above output, we can observe that the model is a moderate fit for the given data."
   ]
  },
  {
   "cell_type": "code",
   "execution_count": null,
   "metadata": {
    "id": "SiYT-wChb3N8",
    "outputId": "8509410f-2c52-41ef-ca2a-afbb17152c60"
   },
   "outputs": [],
   "source": [
    "print(\"R Square: {}\".format(r2_score(y_test, y_pred_test)))\n",
    "print(\"MAE: {}\".format(mean_absolute_error(y_test, y_pred_test)))\n",
    "print(\"MSE: {}\".format(mean_squared_error(y_test, y_pred_test)))"
   ]
  },
  {
   "cell_type": "markdown",
   "metadata": {
    "id": "8AxD0wfGUFPi"
   },
   "source": [
    "__Observation__:\n",
    "\n",
    "- The model moderately explains the testing data, as indicated by the **R** **Square** value. "
   ]
  }
 ],
 "metadata": {
  "colab": {
   "provenance": []
  },
  "kernelspec": {
   "display_name": "Python 3 (ipykernel)",
   "language": "python",
   "name": "python3"
  },
  "language_info": {
   "codemirror_mode": {
    "name": "ipython",
    "version": 3
   },
   "file_extension": ".py",
   "mimetype": "text/x-python",
   "name": "python",
   "nbconvert_exporter": "python",
   "pygments_lexer": "ipython3",
   "version": "3.8.2rc2"
  }
 },
 "nbformat": 4,
 "nbformat_minor": 4
}
