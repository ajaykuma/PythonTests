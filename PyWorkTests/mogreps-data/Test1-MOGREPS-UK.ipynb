{
 "cells": [
  {
   "cell_type": "code",
   "execution_count": 1,
   "metadata": {},
   "outputs": [],
   "source": [
    "#Testing with existing data of Mogreps-UK\n",
    "sample_sns_message = {\n",
    "    \n",
    "    'bucket': 'awsbigdatatakehome',\n",
    "    'key': 'prods_op_mogreps-uk_20140717_03_11_015.nc'\n",
    "}"
   ]
  },
  {
   "cell_type": "code",
   "execution_count": 2,
   "metadata": {},
   "outputs": [],
   "source": [
    "#function to download data from s3\n",
    "import urllib.request\n",
    "import iris\n",
    "\n",
    "def download_data_object(sns_message):\n",
    "    url = \"https://s3.eu-west-2.amazonaws.com/\" + sns_message['bucket'] + \"/\" + sns_message['key']\n",
    "    urllib.request.urlretrieve(url, sns_message['key']) \n"
   ]
  },
  {
   "cell_type": "code",
   "execution_count": 3,
   "metadata": {},
   "outputs": [],
   "source": [
    "#download the file\n",
    "download_data_object(sample_sns_message)"
   ]
  },
  {
   "cell_type": "code",
   "execution_count": 4,
   "metadata": {},
   "outputs": [],
   "source": [
    "filename='prods_op_mogreps-uk_20140717_03_11_015.nc'"
   ]
  },
  {
   "cell_type": "code",
   "execution_count": 5,
   "metadata": {},
   "outputs": [],
   "source": [
    "#Loading list of cubes from the file\n",
    "listofcubes = iris.load(filename)"
   ]
  },
  {
   "cell_type": "code",
   "execution_count": 6,
   "metadata": {},
   "outputs": [
    {
     "name": "stdout",
     "output_type": "stream",
     "text": [
      "0: cloud_base_altitude_assuming_only_consider_cloud_area_fraction_greater_than_2p5_oktas / (kft) (time: 3; grid_latitude: 548; grid_longitude: 421)\n",
      "1: stratiform_snowfall_rate / (kg m-2 s-1) (time: 36; grid_latitude: 548; grid_longitude: 421)\n",
      "2: wet_bulb_freezing_level_altitude / (m) (time: 3; grid_latitude: 548; grid_longitude: 421)\n",
      "3: wet_bulb_potential_temperature / (K) (time: 3; pressure: 3; grid_latitude: 548; grid_longitude: 421)\n",
      "4: unknown / (1)                       (time: 3; grid_latitude: 548; grid_longitude: 421)\n",
      "5: cloud_area_fraction_assuming_maximum_random_overlap / (1) (time: 3; grid_latitude: 548; grid_longitude: 421)\n",
      "6: air_pressure_at_sea_level / (Pa)    (time: 3; grid_latitude: 548; grid_longitude: 421)\n",
      "7: air_temperature / (K)               (time: 3; pressure: 2; grid_latitude: 548; grid_longitude: 421)\n",
      "8: air_temperature / (K)               (time: 3; grid_latitude: 548; grid_longitude: 421)\n",
      "9: air_temperature / (K)               (time: 3; grid_latitude: 548; grid_longitude: 421)\n",
      "10: air_temperature / (K)               (time: 3; grid_latitude: 548; grid_longitude: 421)\n",
      "11: dew_point_temperature / (K)         (time: 3; grid_latitude: 548; grid_longitude: 421)\n",
      "12: fog_area_fraction / (1)             (time: 3; grid_latitude: 548; grid_longitude: 421)\n",
      "13: geopotential_height / (m)           (time: 3; pressure: 3; grid_latitude: 548; grid_longitude: 421)\n",
      "14: high_type_cloud_area_fraction / (1) (time: 3; grid_latitude: 548; grid_longitude: 421)\n",
      "15: low_type_cloud_area_fraction / (1)  (time: 3; grid_latitude: 548; grid_longitude: 421)\n",
      "16: medium_type_cloud_area_fraction / (1) (time: 3; grid_latitude: 548; grid_longitude: 421)\n",
      "17: relative_humidity / (%)             (time: 3; pressure: 2; grid_latitude: 548; grid_longitude: 421)\n",
      "18: relative_humidity / (%)             (time: 3; grid_latitude: 548; grid_longitude: 421)\n",
      "19: specific_humidity / (1)             (time: 3; grid_latitude: 548; grid_longitude: 421)\n",
      "20: stratiform_rainfall_amount / (kg m-2) (-- : 3; grid_latitude: 548; grid_longitude: 421)\n",
      "21: stratiform_rainfall_rate / (kg m-2 s-1) (time: 36; grid_latitude: 548; grid_longitude: 421)\n",
      "22: stratiform_snowfall_amount / (kg m-2) (-- : 3; grid_latitude: 548; grid_longitude: 421)\n",
      "23: surface_air_pressure / (Pa)         (time: 3; grid_latitude: 548; grid_longitude: 421)\n",
      "24: surface_downward_eastward_stress / (Pa) (time: 3; grid_latitude: 548; grid_longitude: 421)\n",
      "25: surface_downward_northward_stress / (Pa) (time: 3; grid_latitude: 547; grid_longitude: 421)\n",
      "26: surface_downwelling_longwave_flux / (W m-2) (time: 3; grid_latitude: 548; grid_longitude: 421)\n",
      "27: surface_downwelling_shortwave_flux_in_air / (W m-2) (time: 3; grid_latitude: 548; grid_longitude: 421)\n",
      "28: visibility_in_air / (m)             (time: 3; grid_latitude: 548; grid_longitude: 421)\n",
      "29: wind_speed_of_gust / (m s-1)        (time: 3; grid_latitude: 548; grid_longitude: 421)\n",
      "30: x_wind / (m s-1)                    (time: 3; pressure: 2; grid_latitude: 547; grid_longitude: 421)\n",
      "31: x_wind / (m s-1)                    (time: 3; grid_latitude: 547; grid_longitude: 421)\n",
      "32: x_wind / (m s-1)                    (time: 3; grid_latitude: 548; grid_longitude: 421)\n",
      "33: y_wind / (m s-1)                    (time: 3; grid_latitude: 547; grid_longitude: 421)\n",
      "34: y_wind / (m s-1)                    (time: 3; pressure: 2; grid_latitude: 547; grid_longitude: 421)\n",
      "35: y_wind / (m s-1)                    (time: 3; grid_latitude: 547; grid_longitude: 421)\n"
     ]
    }
   ],
   "source": [
    "print(listofcubes)"
   ]
  },
  {
   "cell_type": "code",
   "execution_count": 7,
   "metadata": {},
   "outputs": [],
   "source": [
    "#Extract one cube, air_temperature measure in Kelvin. \n",
    "cube=listofcubes[8]"
   ]
  },
  {
   "cell_type": "code",
   "execution_count": 8,
   "metadata": {},
   "outputs": [
    {
     "name": "stdout",
     "output_type": "stream",
     "text": [
      "air_temperature / (K)               (time: 3; grid_latitude: 548; grid_longitude: 421)\n",
      "     Dimension coordinates:\n",
      "          time                           x                 -                    -\n",
      "          grid_latitude                  -                 x                    -\n",
      "          grid_longitude                 -                 -                    x\n",
      "     Auxiliary coordinates:\n",
      "          forecast_period                x                 -                    -\n",
      "     Scalar coordinates:\n",
      "          forecast_reference_time: 2014-07-17 03:00:00\n",
      "          height: 1.5 m\n",
      "     Attributes:\n",
      "          Conventions: CF-1.5\n",
      "          STASH: m01s03i236\n",
      "          source: Data from Met Office Unified Model\n",
      "          um_version: 8.5\n"
     ]
    }
   ],
   "source": [
    "print(cube)"
   ]
  },
  {
   "cell_type": "code",
   "execution_count": 12,
   "metadata": {},
   "outputs": [
    {
     "data": {
      "text/plain": [
       "3"
      ]
     },
     "execution_count": 12,
     "metadata": {},
     "output_type": "execute_result"
    }
   ],
   "source": [
    "#Number of dimensions for time coordinate\n",
    "cube.coord('time').points.size\n"
   ]
  },
  {
   "cell_type": "code",
   "execution_count": 13,
   "metadata": {},
   "outputs": [
    {
     "data": {
      "text/plain": [
       "array([390448., 390449., 390450.])"
      ]
     },
     "execution_count": 13,
     "metadata": {},
     "output_type": "execute_result"
    }
   ],
   "source": [
    "#Looking at dimensions for the time coordinate\n",
    "cube.coord('time').points"
   ]
  },
  {
   "cell_type": "code",
   "execution_count": 14,
   "metadata": {},
   "outputs": [
    {
     "data": {
      "text/plain": [
       "421"
      ]
     },
     "execution_count": 14,
     "metadata": {},
     "output_type": "execute_result"
    }
   ],
   "source": [
    "#Number of dimensions for the longitude coordinate\n",
    "cube.coord('grid_longitude').points.size"
   ]
  },
  {
   "cell_type": "code",
   "execution_count": 15,
   "metadata": {},
   "outputs": [],
   "source": [
    "#looking at longitute coordinates\n",
    "grid_longitude = cube.coord('grid_longitude').points"
   ]
  },
  {
   "cell_type": "code",
   "execution_count": 16,
   "metadata": {},
   "outputs": [
    {
     "data": {
      "text/plain": [
       "array([354.91074, 354.93073, 354.95074, 354.97073, 354.99072, 355.01074,\n",
       "       355.03073, 355.05075, 355.07074, 355.09073], dtype=float32)"
      ]
     },
     "execution_count": 16,
     "metadata": {},
     "output_type": "execute_result"
    }
   ],
   "source": [
    "grid_longitude[0:10]"
   ]
  },
  {
   "cell_type": "code",
   "execution_count": 17,
   "metadata": {},
   "outputs": [
    {
     "data": {
      "text/plain": [
       "548"
      ]
     },
     "execution_count": 17,
     "metadata": {},
     "output_type": "execute_result"
    }
   ],
   "source": [
    "#Number of dimensions for the latitude coordinate\n",
    "cube.coord('grid_latitude').points.size"
   ]
  },
  {
   "cell_type": "code",
   "execution_count": 18,
   "metadata": {},
   "outputs": [],
   "source": [
    "#looking at latitude coordinates\n",
    "grid_latitude = cube.coord('grid_latitude').points"
   ]
  },
  {
   "cell_type": "code",
   "execution_count": 19,
   "metadata": {},
   "outputs": [
    {
     "data": {
      "text/plain": [
       "array([-3.77995  , -3.75995  , -3.73995  , -3.71995  , -3.69995  ,\n",
       "       -3.67995  , -3.65995  , -3.6399498, -3.6199498, -3.5999498],\n",
       "      dtype=float32)"
      ]
     },
     "execution_count": 19,
     "metadata": {},
     "output_type": "execute_result"
    }
   ],
   "source": [
    "grid_latitude[0:10]"
   ]
  },
  {
   "cell_type": "code",
   "execution_count": 20,
   "metadata": {},
   "outputs": [],
   "source": [
    "#Convert from kelvin to Celsius\n",
    "cube.convert_units('celsius')\n"
   ]
  },
  {
   "cell_type": "code",
   "execution_count": 21,
   "metadata": {},
   "outputs": [
    {
     "name": "stdout",
     "output_type": "stream",
     "text": [
      "[[[16.35  16.35  16.35  ... 30.975 31.1   30.975]\n",
      "  [16.35  16.35  16.35  ... 30.975 30.85  30.475]\n",
      "  [16.35  16.35  16.35  ... 30.725 30.6   30.1  ]\n",
      "  ...\n",
      "  [14.1   14.1   14.1   ... 15.975 15.975 15.975]\n",
      "  [14.1   14.1   14.1   ... 15.85  15.85  15.975]\n",
      "  [14.1   14.1   14.1   ... 15.85  15.975 15.975]]\n",
      "\n",
      " [[16.35  16.35  16.35  ... 30.6   30.725 30.6  ]\n",
      "  [16.35  16.35  16.35  ... 30.6   30.6   30.1  ]\n",
      "  [16.35  16.35  16.35  ... 30.475 30.225 29.725]\n",
      "  ...\n",
      "  [14.225 14.225 14.225 ... 15.975 15.975 16.1  ]\n",
      "  [14.225 14.225 14.225 ... 15.975 16.1   16.1  ]\n",
      "  [14.1   14.1   14.225 ... 16.1   16.1   15.975]]\n",
      "\n",
      " [[16.225 16.225 16.225 ... 29.225 29.475 29.475]\n",
      "  [16.225 16.225 16.225 ... 29.475 29.35  28.725]\n",
      "  [16.225 16.225 16.225 ... 29.475 29.1   28.475]\n",
      "  ...\n",
      "  [14.225 14.225 14.225 ... 15.85  15.975 15.975]\n",
      "  [14.225 14.225 14.225 ... 15.975 15.975 15.975]\n",
      "  [14.225 14.225 14.225 ... 15.975 15.975 15.975]]]\n"
     ]
    }
   ],
   "source": [
    "#Print the cube contents\n",
    "print(cube.data)\n"
   ]
  },
  {
   "cell_type": "code",
   "execution_count": 22,
   "metadata": {},
   "outputs": [
    {
     "name": "stdout",
     "output_type": "stream",
     "text": [
      "[[16.35  16.35  16.35  ... 30.975 31.1   30.975]\n",
      " [16.35  16.35  16.35  ... 30.975 30.85  30.475]\n",
      " [16.35  16.35  16.35  ... 30.725 30.6   30.1  ]\n",
      " ...\n",
      " [14.1   14.1   14.1   ... 15.975 15.975 15.975]\n",
      " [14.1   14.1   14.1   ... 15.85  15.85  15.975]\n",
      " [14.1   14.1   14.1   ... 15.85  15.975 15.975]]\n"
     ]
    }
   ],
   "source": [
    "#Get a subset of the data\n",
    "print(cube.data[0])\n"
   ]
  },
  {
   "cell_type": "code",
   "execution_count": 23,
   "metadata": {},
   "outputs": [
    {
     "data": {
      "text/plain": [
       "(3, 548, 421)"
      ]
     },
     "execution_count": 23,
     "metadata": {},
     "output_type": "execute_result"
    }
   ],
   "source": [
    "#Other information \n",
    "cube.shape"
   ]
  },
  {
   "cell_type": "code",
   "execution_count": 24,
   "metadata": {},
   "outputs": [
    {
     "data": {
      "text/plain": [
       "3"
      ]
     },
     "execution_count": 24,
     "metadata": {},
     "output_type": "execute_result"
    }
   ],
   "source": [
    "cube.ndim"
   ]
  },
  {
   "cell_type": "code",
   "execution_count": 25,
   "metadata": {},
   "outputs": [
    {
     "data": {
      "text/plain": [
       "numpy.ma.core.MaskedArray"
      ]
     },
     "execution_count": 25,
     "metadata": {},
     "output_type": "execute_result"
    }
   ],
   "source": [
    "type(cube.data)"
   ]
  },
  {
   "cell_type": "code",
   "execution_count": 26,
   "metadata": {},
   "outputs": [
    {
     "data": {
      "text/plain": [
       "'air_temperature'"
      ]
     },
     "execution_count": 26,
     "metadata": {},
     "output_type": "execute_result"
    }
   ],
   "source": [
    "cube.standard_name"
   ]
  },
  {
   "cell_type": "code",
   "execution_count": 28,
   "metadata": {},
   "outputs": [
    {
     "data": {
      "text/plain": [
       "'air_temperature'"
      ]
     },
     "execution_count": 28,
     "metadata": {},
     "output_type": "execute_result"
    }
   ],
   "source": [
    "cube.long_name\n",
    "cube.var_name"
   ]
  },
  {
   "cell_type": "code",
   "execution_count": 29,
   "metadata": {},
   "outputs": [
    {
     "data": {
      "text/plain": [
       "Unit('celsius')"
      ]
     },
     "execution_count": 29,
     "metadata": {},
     "output_type": "execute_result"
    }
   ],
   "source": [
    "cube.units"
   ]
  },
  {
   "cell_type": "code",
   "execution_count": 30,
   "metadata": {},
   "outputs": [
    {
     "data": {
      "text/plain": [
       "33.35"
      ]
     },
     "execution_count": 30,
     "metadata": {},
     "output_type": "execute_result"
    }
   ],
   "source": [
    "cube.data.max()"
   ]
  },
  {
   "cell_type": "code",
   "execution_count": 31,
   "metadata": {},
   "outputs": [
    {
     "data": {
      "text/plain": [
       "{'source': 'Data from Met Office Unified Model',\n",
       " 'um_version': '8.5',\n",
       " 'Conventions': 'CF-1.5',\n",
       " 'STASH': STASH(model=1, section=3, item=236)}"
      ]
     },
     "execution_count": 31,
     "metadata": {},
     "output_type": "execute_result"
    }
   ],
   "source": [
    "cube.attributes"
   ]
  },
  {
   "cell_type": "code",
   "execution_count": null,
   "metadata": {},
   "outputs": [],
   "source": []
  }
 ],
 "metadata": {
  "kernelspec": {
   "display_name": "Python 3.7.4 64-bit ('base': conda)",
   "language": "python",
   "name": "python37464bitbaseconda47204cca55f94dc98ffb6d824fede6cc"
  },
  "language_info": {
   "codemirror_mode": {
    "name": "ipython",
    "version": 3
   },
   "file_extension": ".py",
   "mimetype": "text/x-python",
   "name": "python",
   "nbconvert_exporter": "python",
   "pygments_lexer": "ipython3",
   "version": "3.7.4"
  }
 },
 "nbformat": 4,
 "nbformat_minor": 4
}
