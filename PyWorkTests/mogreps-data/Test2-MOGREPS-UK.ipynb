{
 "cells": [
  {
   "cell_type": "code",
   "execution_count": 1,
   "metadata": {},
   "outputs": [],
   "source": [
    "#Taking a file from s3 bucket : 'aws-earth-mo-atmospheric-mogreps-uk-prd'\n",
    "#connection to s3 has been enabled on local machine via CLI\n",
    "import urllib.request\n",
    "import iris\n",
    "\n",
    "sample_sns_message = {\n",
    "    \n",
    "    'bucket': 'aws-earth-mo-atmospheric-mogreps-uk-prd',\n",
    "    'key': '2859e7cc433d418273e8cad25633bfb7e98789b2.nc'\n",
    "}"
   ]
  },
  {
   "cell_type": "code",
   "execution_count": 2,
   "metadata": {},
   "outputs": [],
   "source": [
    "#download function to get the file\n",
    "def download_data_object(sns_message):\n",
    "    url = \"https://s3.eu-west-2.amazonaws.com/\" + sns_message['bucket'] + \"/\" + sns_message['key']\n",
    "    urllib.request.urlretrieve(url, sns_message['key'])"
   ]
  },
  {
   "cell_type": "code",
   "execution_count": 8,
   "metadata": {},
   "outputs": [],
   "source": [
    "#download the file (if not already done)\n",
    "download_data_object(sample_sns_message)"
   ]
  },
  {
   "cell_type": "code",
   "execution_count": 9,
   "metadata": {},
   "outputs": [],
   "source": [
    "filename='2859e7cc433d418273e8cad25633bfb7e98789b2.nc'"
   ]
  },
  {
   "cell_type": "code",
   "execution_count": 10,
   "metadata": {},
   "outputs": [],
   "source": [
    "#loading the file \n",
    "listofcubes = iris.load(filename)"
   ]
  },
  {
   "cell_type": "code",
   "execution_count": 12,
   "metadata": {},
   "outputs": [
    {
     "name": "stdout",
     "output_type": "stream",
     "text": [
      "0: air_pressure / (Pa)                 (realization: 3; height: 33; projection_y_coordinate: 970; projection_x_coordinate: 1042)\n"
     ]
    }
   ],
   "source": [
    "print(listofcubes)"
   ]
  },
  {
   "cell_type": "code",
   "execution_count": 13,
   "metadata": {},
   "outputs": [],
   "source": [
    "cube = listofcubes[0]"
   ]
  },
  {
   "cell_type": "code",
   "execution_count": 14,
   "metadata": {},
   "outputs": [
    {
     "data": {
      "text/html": [
       "\n",
       "<style>\n",
       "  a.iris {\n",
       "      text-decoration: none !important;\n",
       "  }\n",
       "  table.iris {\n",
       "      white-space: pre;\n",
       "      border: 1px solid;\n",
       "      border-color: #9c9c9c;\n",
       "      font-family: monaco, monospace;\n",
       "  }\n",
       "  th.iris {\n",
       "      background: #303f3f;\n",
       "      color: #e0e0e0;\n",
       "      border-left: 1px solid;\n",
       "      border-color: #9c9c9c;\n",
       "      font-size: 1.05em;\n",
       "      min-width: 50px;\n",
       "      max-width: 125px;\n",
       "  }\n",
       "  tr.iris :first-child {\n",
       "      border-right: 1px solid #9c9c9c !important;\n",
       "  }\n",
       "  td.iris-title {\n",
       "      background: #d5dcdf;\n",
       "      border-top: 1px solid #9c9c9c;\n",
       "      font-weight: bold;\n",
       "  }\n",
       "  .iris-word-cell {\n",
       "      text-align: left !important;\n",
       "      white-space: pre;\n",
       "  }\n",
       "  .iris-subheading-cell {\n",
       "      padding-left: 2em !important;\n",
       "  }\n",
       "  .iris-inclusion-cell {\n",
       "      padding-right: 1em !important;\n",
       "  }\n",
       "  .iris-panel-body {\n",
       "      padding-top: 0px;\n",
       "  }\n",
       "  .iris-panel-title {\n",
       "      padding-left: 3em;\n",
       "  }\n",
       "  .iris-panel-title {\n",
       "      margin-top: 7px;\n",
       "  }\n",
       "</style>\n",
       "<table class=\"iris\" id=\"2323250519048\">\n",
       "    <tr class=\"iris\">\n",
       "<th class=\"iris iris-word-cell\">Air Pressure (Pa)</th>\n",
       "<th class=\"iris iris-word-cell\">realization</th>\n",
       "<th class=\"iris iris-word-cell\">height</th>\n",
       "<th class=\"iris iris-word-cell\">projection_y_coordinate</th>\n",
       "<th class=\"iris iris-word-cell\">projection_x_coordinate</th>\n",
       "</tr>\n",
       "    <tr class=\"iris\">\n",
       "<td class=\"iris-word-cell iris-subheading-cell\">Shape</td>\n",
       "<td class=\"iris iris-inclusion-cell\">3</td>\n",
       "<td class=\"iris iris-inclusion-cell\">33</td>\n",
       "<td class=\"iris iris-inclusion-cell\">970</td>\n",
       "<td class=\"iris iris-inclusion-cell\">1042</td>\n",
       "</tr>\n",
       "    <tr class=\"iris\">\n",
       "    <td class=\"iris-title iris-word-cell\">Dimension coordinates</td>\n",
       "    <td class=\"iris-title\"></td>\n",
       "    <td class=\"iris-title\"></td>\n",
       "    <td class=\"iris-title\"></td>\n",
       "    <td class=\"iris-title\"></td>\n",
       "</tr>\n",
       "<tr class=\"iris\">\n",
       "    <td class=\"iris-word-cell iris-subheading-cell\">\trealization</td>\n",
       "    <td class=\"iris-inclusion-cell\">x</td>\n",
       "    <td class=\"iris-inclusion-cell\">-</td>\n",
       "    <td class=\"iris-inclusion-cell\">-</td>\n",
       "    <td class=\"iris-inclusion-cell\">-</td>\n",
       "</tr>\n",
       "<tr class=\"iris\">\n",
       "    <td class=\"iris-word-cell iris-subheading-cell\">\theight</td>\n",
       "    <td class=\"iris-inclusion-cell\">-</td>\n",
       "    <td class=\"iris-inclusion-cell\">x</td>\n",
       "    <td class=\"iris-inclusion-cell\">-</td>\n",
       "    <td class=\"iris-inclusion-cell\">-</td>\n",
       "</tr>\n",
       "<tr class=\"iris\">\n",
       "    <td class=\"iris-word-cell iris-subheading-cell\">\tprojection_y_coordinate</td>\n",
       "    <td class=\"iris-inclusion-cell\">-</td>\n",
       "    <td class=\"iris-inclusion-cell\">-</td>\n",
       "    <td class=\"iris-inclusion-cell\">x</td>\n",
       "    <td class=\"iris-inclusion-cell\">-</td>\n",
       "</tr>\n",
       "<tr class=\"iris\">\n",
       "    <td class=\"iris-word-cell iris-subheading-cell\">\tprojection_x_coordinate</td>\n",
       "    <td class=\"iris-inclusion-cell\">-</td>\n",
       "    <td class=\"iris-inclusion-cell\">-</td>\n",
       "    <td class=\"iris-inclusion-cell\">-</td>\n",
       "    <td class=\"iris-inclusion-cell\">x</td>\n",
       "</tr>\n",
       "<tr class=\"iris\">\n",
       "    <td class=\"iris-title iris-word-cell\">Scalar coordinates</td>\n",
       "    <td class=\"iris-title\"></td>\n",
       "    <td class=\"iris-title\"></td>\n",
       "    <td class=\"iris-title\"></td>\n",
       "    <td class=\"iris-title\"></td>\n",
       "</tr>\n",
       "<tr class=\"iris\">\n",
       "    <td class=\"iris-word-cell iris-subheading-cell\">\tforecast_period</td>\n",
       "    <td class=\"iris-word-cell\" colspan=\"4\">154800 seconds</td>\n",
       "</tr>\n",
       "<tr class=\"iris\">\n",
       "    <td class=\"iris-word-cell iris-subheading-cell\">\tforecast_reference_time</td>\n",
       "    <td class=\"iris-word-cell\" colspan=\"4\">2020-09-11 13:00:00</td>\n",
       "</tr>\n",
       "<tr class=\"iris\">\n",
       "    <td class=\"iris-word-cell iris-subheading-cell\">\ttime</td>\n",
       "    <td class=\"iris-word-cell\" colspan=\"4\">2020-09-13 08:00:00</td>\n",
       "</tr>\n",
       "<tr class=\"iris\">\n",
       "    <td class=\"iris-title iris-word-cell\">Attributes</td>\n",
       "    <td class=\"iris-title\"></td>\n",
       "    <td class=\"iris-title\"></td>\n",
       "    <td class=\"iris-title\"></td>\n",
       "    <td class=\"iris-title\"></td>\n",
       "</tr>\n",
       "<tr class=\"iris\">\n",
       "    <td class=\"iris-word-cell iris-subheading-cell\">\tConventions</td>\n",
       "    <td class=\"iris-word-cell\" colspan=\"4\">CF-1.5, UKMO-1.0</td>\n",
       "</tr>\n",
       "<tr class=\"iris\">\n",
       "    <td class=\"iris-word-cell iris-subheading-cell\">\thistory</td>\n",
       "    <td class=\"iris-word-cell\" colspan=\"4\">2020-09-11T15:10:10Z: StaGE Decoupler</td>\n",
       "</tr>\n",
       "<tr class=\"iris\">\n",
       "    <td class=\"iris-word-cell iris-subheading-cell\">\tinstitution</td>\n",
       "    <td class=\"iris-word-cell\" colspan=\"4\">Met Office</td>\n",
       "</tr>\n",
       "<tr class=\"iris\">\n",
       "    <td class=\"iris-word-cell iris-subheading-cell\">\tleast_significant_digit</td>\n",
       "    <td class=\"iris-word-cell\" colspan=\"4\">1.0</td>\n",
       "</tr>\n",
       "<tr class=\"iris\">\n",
       "    <td class=\"iris-word-cell iris-subheading-cell\">\tmosg__forecast_run_duration</td>\n",
       "    <td class=\"iris-word-cell\" colspan=\"4\">PT126H</td>\n",
       "</tr>\n",
       "<tr class=\"iris\">\n",
       "    <td class=\"iris-word-cell iris-subheading-cell\">\tmosg__grid_domain</td>\n",
       "    <td class=\"iris-word-cell\" colspan=\"4\">uk_extended</td>\n",
       "</tr>\n",
       "<tr class=\"iris\">\n",
       "    <td class=\"iris-word-cell iris-subheading-cell\">\tmosg__grid_type</td>\n",
       "    <td class=\"iris-word-cell\" colspan=\"4\">standard</td>\n",
       "</tr>\n",
       "<tr class=\"iris\">\n",
       "    <td class=\"iris-word-cell iris-subheading-cell\">\tmosg__grid_version</td>\n",
       "    <td class=\"iris-word-cell\" colspan=\"4\">2.2.0</td>\n",
       "</tr>\n",
       "<tr class=\"iris\">\n",
       "    <td class=\"iris-word-cell iris-subheading-cell\">\tmosg__model_configuration</td>\n",
       "    <td class=\"iris-word-cell\" colspan=\"4\">uk_ens</td>\n",
       "</tr>\n",
       "<tr class=\"iris\">\n",
       "    <td class=\"iris-word-cell iris-subheading-cell\">\tsource</td>\n",
       "    <td class=\"iris-word-cell\" colspan=\"4\">Met Office Unified Model</td>\n",
       "</tr>\n",
       "<tr class=\"iris\">\n",
       "    <td class=\"iris-word-cell iris-subheading-cell\">\ttitle</td>\n",
       "    <td class=\"iris-word-cell\" colspan=\"4\">MOGREPS-UK Model Forecast on UK 2 km Standard Grid</td>\n",
       "</tr>\n",
       "<tr class=\"iris\">\n",
       "    <td class=\"iris-word-cell iris-subheading-cell\">\tum_version</td>\n",
       "    <td class=\"iris-word-cell\" colspan=\"4\">11.2</td>\n",
       "</tr>\n",
       "</table>\n",
       "        "
      ],
      "text/plain": [
       "<iris 'Cube' of air_pressure / (Pa) (realization: 3; height: 33; projection_y_coordinate: 970; projection_x_coordinate: 1042)>"
      ]
     },
     "execution_count": 14,
     "metadata": {},
     "output_type": "execute_result"
    }
   ],
   "source": [
    "cube"
   ]
  },
  {
   "cell_type": "code",
   "execution_count": 15,
   "metadata": {},
   "outputs": [
    {
     "data": {
      "text/plain": [
       "4"
      ]
     },
     "execution_count": 15,
     "metadata": {},
     "output_type": "execute_result"
    }
   ],
   "source": [
    "#dimensions in cube\n",
    "cube.ndim"
   ]
  },
  {
   "cell_type": "code",
   "execution_count": 16,
   "metadata": {},
   "outputs": [
    {
     "data": {
      "text/plain": [
       "(3, 33, 970, 1042)"
      ]
     },
     "execution_count": 16,
     "metadata": {},
     "output_type": "execute_result"
    }
   ],
   "source": [
    "#looking at shape of cube\n",
    "cube.shape"
   ]
  },
  {
   "cell_type": "code",
   "execution_count": 17,
   "metadata": {},
   "outputs": [
    {
     "data": {
      "text/plain": [
       "{'history': '2020-09-11T15:10:10Z: StaGE Decoupler',\n",
       " 'institution': 'Met Office',\n",
       " 'least_significant_digit': 1.0,\n",
       " 'mosg__forecast_run_duration': 'PT126H',\n",
       " 'mosg__grid_domain': 'uk_extended',\n",
       " 'mosg__grid_type': 'standard',\n",
       " 'mosg__grid_version': '2.2.0',\n",
       " 'mosg__model_configuration': 'uk_ens',\n",
       " 'source': 'Met Office Unified Model',\n",
       " 'title': 'MOGREPS-UK Model Forecast on UK 2 km Standard Grid',\n",
       " 'um_version': '11.2',\n",
       " 'Conventions': 'CF-1.5, UKMO-1.0'}"
      ]
     },
     "execution_count": 17,
     "metadata": {},
     "output_type": "execute_result"
    }
   ],
   "source": [
    "#looking at attributes\n",
    "cube.attributes"
   ]
  },
  {
   "cell_type": "code",
   "execution_count": null,
   "metadata": {},
   "outputs": [],
   "source": []
  }
 ],
 "metadata": {
  "kernelspec": {
   "display_name": "Python 3.7.4 64-bit ('base': conda)",
   "language": "python",
   "name": "python37464bitbaseconda47204cca55f94dc98ffb6d824fede6cc"
  },
  "language_info": {
   "codemirror_mode": {
    "name": "ipython",
    "version": 3
   },
   "file_extension": ".py",
   "mimetype": "text/x-python",
   "name": "python",
   "nbconvert_exporter": "python",
   "pygments_lexer": "ipython3",
   "version": "3.7.4"
  }
 },
 "nbformat": 4,
 "nbformat_minor": 4
}
